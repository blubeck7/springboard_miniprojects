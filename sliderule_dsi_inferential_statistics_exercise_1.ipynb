{
 "cells": [
  {
   "cell_type": "markdown",
   "metadata": {},
   "source": [
    "# What is the True Normal Human Body Temperature? \n",
    "\n",
    "#### Background\n",
    "\n",
    "The mean normal body temperature was held to be 37$^{\\circ}$C or 98.6$^{\\circ}$F for more than 120 years since it was first conceptualized and reported by Carl Wunderlich in a famous 1868 book. But, is this value statistically correct?"
   ]
  },
  {
   "cell_type": "markdown",
   "metadata": {},
   "source": [
    "<h3>Exercises</h3>\n",
    "\n",
    "<p>In this exercise, you will analyze a dataset of human body temperatures and employ the concepts of hypothesis testing, confidence intervals, and statistical significance.</p>\n",
    "\n",
    "<p>Answer the following questions <b>in this notebook below and submit to your Github account</b>.</p> \n",
    "\n",
    "<ol>\n",
    "<li>  Is the distribution of body temperatures normal? \n",
    "    <ul>\n",
    "    <li> Although this is not a requirement for CLT to hold (read CLT carefully), it gives us some peace of mind that the population may also be normally distributed if we assume that this sample is representative of the population.\n",
    "    </ul>\n",
    "<li>  Is the sample size large? Are the observations independent?\n",
    "    <ul>\n",
    "    <li> Remember that this is a condition for the CLT, and hence the statistical tests we are using, to apply.\n",
    "    </ul>\n",
    "<li>  Is the true population mean really 98.6 degrees F?\n",
    "    <ul>\n",
    "    <li> Would you use a one-sample or two-sample test? Why?\n",
    "    <li> In this situation, is it appropriate to use the $t$ or $z$ statistic? \n",
    "    <li> Now try using the other test. How is the result be different? Why?\n",
    "    </ul>\n",
    "<li>  Draw a small sample of size 10 from the data and repeat both tests. \n",
    "    <ul>\n",
    "    <li> Which one is the correct one to use? \n",
    "    <li> What do you notice? What does this tell you about the difference in application of the $t$ and $z$ statistic?\n",
    "    </ul>\n",
    "<li>  At what temperature should we consider someone's temperature to be \"abnormal\"?\n",
    "    <ul>\n",
    "    <li> Start by computing the margin of error and confidence interval.\n",
    "    </ul>\n",
    "<li>  Is there a significant difference between males and females in normal temperature?\n",
    "    <ul>\n",
    "    <li> What test did you use and why?\n",
    "    <li> Write a story with your conclusion in the context of the original problem.\n",
    "    </ul>\n",
    "</ol>\n",
    "\n",
    "You can include written notes in notebook cells using Markdown: \n",
    "   - In the control panel at the top, choose Cell > Cell Type > Markdown\n",
    "   - Markdown syntax: http://nestacms.com/docs/creating-content/markdown-cheat-sheet\n",
    "\n",
    "#### Resources\n",
    "\n",
    "+ Information and data sources: http://www.amstat.org/publications/jse/datasets/normtemp.txt, http://www.amstat.org/publications/jse/jse_data_archive.htm\n",
    "+ Markdown syntax: http://nestacms.com/docs/creating-content/markdown-cheat-sheet\n",
    "\n",
    "****"
   ]
  },
  {
   "cell_type": "code",
   "execution_count": 100,
   "metadata": {
    "collapsed": false
   },
   "outputs": [],
   "source": [
    "import pandas as pd\n",
    "import matplotlib.pyplot as plt\n",
    "import numpy as np\n",
    "import scipy.stats as stats\n",
    "\n",
    "df = pd.read_csv('data/human_body_temperature.csv')"
   ]
  },
  {
   "cell_type": "markdown",
   "metadata": {},
   "source": [
    "### Question 1: Is the distribution of body temperatures normal?\n",
    "Although this is not a requirement for CLT to hold (read CLT carefully), it gives us some peace of mind that the population may also be normally distributed if we assume that this sample is representative of the population.\n",
    "\n",
    "To answer this question, we will employ the popular $\\chi^2$ goodness of fit test introduced by Karl Pearson. For $k$ nonoverlapping intervals that partion the range of the random variable, the null and alternative hypotheses are\n",
    "\n",
    "\\begin{align}\n",
    "H_0: p_1 &= \\pi_1, p_2 = \\pi_2, \\dots, p_k = \\pi_k \\\\\n",
    "H_1: p_i &\\ne \\pi_i \\mbox{ for at least one } i\n",
    "\\end{align}"
   ]
  },
  {
   "cell_type": "code",
   "execution_count": 31,
   "metadata": {
    "collapsed": false
   },
   "outputs": [
    {
     "data": {
      "text/html": [
       "<div>\n",
       "<table border=\"1\" class=\"dataframe\">\n",
       "  <thead>\n",
       "    <tr style=\"text-align: right;\">\n",
       "      <th></th>\n",
       "      <th>temperature</th>\n",
       "      <th>gender</th>\n",
       "      <th>heart_rate</th>\n",
       "    </tr>\n",
       "  </thead>\n",
       "  <tbody>\n",
       "    <tr>\n",
       "      <th>0</th>\n",
       "      <td>99.3</td>\n",
       "      <td>F</td>\n",
       "      <td>68.0</td>\n",
       "    </tr>\n",
       "    <tr>\n",
       "      <th>1</th>\n",
       "      <td>98.4</td>\n",
       "      <td>F</td>\n",
       "      <td>81.0</td>\n",
       "    </tr>\n",
       "    <tr>\n",
       "      <th>2</th>\n",
       "      <td>97.8</td>\n",
       "      <td>M</td>\n",
       "      <td>73.0</td>\n",
       "    </tr>\n",
       "    <tr>\n",
       "      <th>3</th>\n",
       "      <td>99.2</td>\n",
       "      <td>F</td>\n",
       "      <td>66.0</td>\n",
       "    </tr>\n",
       "    <tr>\n",
       "      <th>4</th>\n",
       "      <td>98.0</td>\n",
       "      <td>F</td>\n",
       "      <td>73.0</td>\n",
       "    </tr>\n",
       "  </tbody>\n",
       "</table>\n",
       "</div>"
      ],
      "text/plain": [
       "   temperature gender  heart_rate\n",
       "0         99.3      F        68.0\n",
       "1         98.4      F        81.0\n",
       "2         97.8      M        73.0\n",
       "3         99.2      F        66.0\n",
       "4         98.0      F        73.0"
      ]
     },
     "execution_count": 31,
     "metadata": {},
     "output_type": "execute_result"
    }
   ],
   "source": [
    "#explore first few rows of the data\n",
    "df.head(5)"
   ]
  },
  {
   "cell_type": "code",
   "execution_count": 32,
   "metadata": {
    "collapsed": false
   },
   "outputs": [
    {
     "data": {
      "text/plain": [
       "count    130.000000\n",
       "mean      98.249231\n",
       "std        0.733183\n",
       "min       96.300000\n",
       "25%       97.800000\n",
       "50%       98.300000\n",
       "75%       98.700000\n",
       "max      100.800000\n",
       "Name: temperature, dtype: float64"
      ]
     },
     "execution_count": 32,
     "metadata": {},
     "output_type": "execute_result"
    }
   ],
   "source": [
    "#summary statistics\n",
    "df.loc[:,\"temperature\"].describe()"
   ]
  },
  {
   "cell_type": "code",
   "execution_count": 33,
   "metadata": {
    "collapsed": false
   },
   "outputs": [
    {
     "data": {
      "image/png": "[encoded data removed]",
      "text/plain": [
       "<matplotlib.figure.Figure at 0x11293a4a8>"
      ]
     },
     "metadata": {},
     "output_type": "display_data"
    }
   ],
   "source": [
    "#histogram of data\n",
    "ob_cnts, bins, patches = plt.hist(df.loc[:,\"temperature\"],10)\n",
    "plt.title(\"Histogram of Temperature (\\u00b0F)\")\n",
    "plt.xlabel(\"Temperature\")\n",
    "plt.ylabel(\"Count\")\n",
    "plt.show()"
   ]
  },
  {
   "cell_type": "code",
   "execution_count": 34,
   "metadata": {
    "collapsed": false
   },
   "outputs": [
    {
     "data": {
      "text/plain": [
       "array([  2.60639034,   7.19769986,  16.97284249,  27.69950814,\n",
       "        31.29248298,  24.47272282,  13.2480223 ,   4.9628369 ,\n",
       "         1.28600224,   0.26149192])"
      ]
     },
     "execution_count": 34,
     "metadata": {},
     "output_type": "execute_result"
    }
   ],
   "source": [
    "#mle estimators for a normal distribution\n",
    "mu_hat = df.loc[:,\"temperature\"].mean()\n",
    "std_hat = df.loc[:,\"temperature\"].values.std() #numpy std dev function\n",
    "\n",
    "#expected counts for bins\n",
    "rv_norm = stats.norm(mu_hat, std_hat)\n",
    "probs = np.zeros(ob_cnts.shape[0])\n",
    "t = rv_norm.cdf(bins[1:-1])\n",
    "probs[0] = t[0]\n",
    "probs[1:-1] = t[1:] - t[:-1]\n",
    "probs[-1:] = 1 - t[-1:]\n",
    "exp_cnts = sum(ob_cnts) * probs\n",
    "exp_cnts"
   ]
  },
  {
   "cell_type": "code",
   "execution_count": 35,
   "metadata": {
    "collapsed": false
   },
   "outputs": [],
   "source": [
    "#define bins so that estimated expected counts are greater than or equal to 5\n",
    "#combine first two bins and last three bins\n",
    "exp_cnts_adj = np.zeros(7)\n",
    "exp_cnts_adj[0] = exp_cnts[0] + exp_cnts[1]\n",
    "exp_cnts_adj[1:6] = exp_cnts[2:7]\n",
    "exp_cnts_adj[6] = exp_cnts[7] + exp_cnts[8] + exp_cnts[9]\n",
    "ob_cnts_adj = np.zeros(7)\n",
    "ob_cnts_adj[0] = ob_cnts[0] + ob_cnts[1]\n",
    "ob_cnts_adj[1:6] = ob_cnts[2:7]\n",
    "ob_cnts_adj[6] = ob_cnts[7] + ob_cnts[8] + ob_cnts[9]"
   ]
  },
  {
   "cell_type": "code",
   "execution_count": 36,
   "metadata": {
    "collapsed": false
   },
   "outputs": [
    {
     "name": "stdout",
     "output_type": "stream",
     "text": [
      "c = 2.8388997794; critical value = 9.48772903678\n"
     ]
    }
   ],
   "source": [
    "#calculate chi-sq test stat\n",
    "c = sum((ob_cnts_adj - exp_cnts_adj)**2 / exp_cnts_adj)\n",
    "crit_val = stats.chi2.ppf(0.95,4)\n",
    "print(\"c = \" + str(c) + \"; critical value = \" + str(crit_val))"
   ]
  },
  {
   "cell_type": "code",
   "execution_count": 37,
   "metadata": {
    "collapsed": false
   },
   "outputs": [
    {
     "data": {
      "text/plain": [
       "KstestResult(statistic=0.063853484278839079, pvalue=0.66418834787931214)"
      ]
     },
     "execution_count": 37,
     "metadata": {},
     "output_type": "execute_result"
    }
   ],
   "source": [
    "#KS-statistic\n",
    "stats.kstest(df.loc[:,\"temperature\"].values, 'norm', alternative='two-sided', args=(mu_hat,std_hat), mode = 'asymp')"
   ]
  },
  {
   "cell_type": "code",
   "execution_count": 38,
   "metadata": {
    "collapsed": false
   },
   "outputs": [
    {
     "data": {
      "image/png": "[encoded data removed]",
      "text/plain": [
       "<matplotlib.figure.Figure at 0x1128a3d68>"
      ]
     },
     "metadata": {},
     "output_type": "display_data"
    }
   ],
   "source": [
    "#Probability Plot\n",
    "osm, osr = stats.probplot(df.loc[:,\"temperature\"], sparams = (mu_hat, std_hat), plot=plt)\n",
    "plt.show()"
   ]
  },
  {
   "cell_type": "markdown",
   "metadata": {},
   "source": [
    "### Answer 1: Is the distribution of body temperatures normal?\n",
    "Since the test statistic c = 2.84 is less than the critical value crit_val = 9.49, we fail to reject to the null hypothesis that temperature is normally distributed. The Kolmogorov-Smirnov test produces a p-value of 0.6642 > 0.05, which fails to reject the null hypothesis as well. In addition, the probability plot gives visual evidence that temperature can be assumed to be normally distributed."
   ]
  },
  {
   "cell_type": "markdown",
   "metadata": {},
   "source": [
    "### Question 2: Is the sample size large? Are the observations independent?\n",
    "\n",
    "Remember that this is a condition for the CLT, and hence the statistical tests we are using, to apply.\n",
    "\n",
    "### Answer 2:\n",
    "Since we can safely assume that the each observation $X_i$ is normally distributed, the question of sample size is most likely irrelavent. A large sample size of i.i.d random variables is so that the normal (or t) distribution provides a good approximation of the distribution of the sum of the random variables. In the case of normal variables, the sum of two normal variables is once again normal. More than likely the observations $X_i, i=1,\\dots,130$ are independent and identically distributed since they are from a medical study to critically evaluate the mean body temperature."
   ]
  },
  {
   "cell_type": "markdown",
   "metadata": {},
   "source": [
    "### Question 3:\n",
    "Is the true population mean really 98.6 degrees F?\n",
    "Would you use a one-sample or two-sample test? Why?\n",
    "In this situation, is it appropriate to use the $t$ or $z$ statistic?\n",
    "Now try using the other test. How is the result be different? Why?"
   ]
  },
  {
   "cell_type": "code",
   "execution_count": 39,
   "metadata": {
    "collapsed": true
   },
   "outputs": [],
   "source": [
    "#use a one-sample t-test since the std dev is unknown\n",
    "test_stat = (mu_hat - 98.6) / (std_hat / np.sqrt(df.shape[0]))\n",
    "crit_val = stats.t.ppf(0.025,df.shape[0] - 1)"
   ]
  },
  {
   "cell_type": "code",
   "execution_count": 40,
   "metadata": {
    "collapsed": false
   },
   "outputs": [
    {
     "name": "stdout",
     "output_type": "stream",
     "text": [
      "-5.47592520208\n",
      "-1.97852449146\n"
     ]
    }
   ],
   "source": [
    "print(test_stat)\n",
    "print(crit_val)"
   ]
  },
  {
   "cell_type": "code",
   "execution_count": 41,
   "metadata": {
    "collapsed": false
   },
   "outputs": [
    {
     "name": "stdout",
     "output_type": "stream",
     "text": [
      "-1.95996398454\n"
     ]
    }
   ],
   "source": [
    "#z-test is appropriate when we can assume that std dev of the population is known\n",
    "crit_val_z = stats.norm.ppf(0.025)\n",
    "print(crit_val_z)"
   ]
  },
  {
   "cell_type": "markdown",
   "metadata": {},
   "source": [
    "### Answer 3:\n",
    "We can conclude that the true population mean is not $98.6$ since the t-test statistic equals $-5.48$ which is less than or equal to the critical value of $-1.98$. The conclusion does not change if we use a z-test instead of t-test  "
   ]
  },
  {
   "cell_type": "markdown",
   "metadata": {},
   "source": [
    "### Question 4:\n",
    "Draw a small sample of size 10 from the data and repeat both tests. Which one is the correct one to use?\n",
    "What do you notice? What does this tell you about the difference in application of the $t$ and $z$ statistic?"
   ]
  },
  {
   "cell_type": "code",
   "execution_count": 59,
   "metadata": {
    "collapsed": false
   },
   "outputs": [
    {
     "name": "stdout",
     "output_type": "stream",
     "text": [
      "-0.7916727801189136 -2.26215716274 -1.95996398454\n"
     ]
    }
   ],
   "source": [
    "indices = np.random.randint(1,df.shape[0],10)\n",
    "sample = df.loc[:,\"temperature\"].iloc[indices]\n",
    "\n",
    "mu_star_hat = sample.mean()\n",
    "std_star_hat = sample.std()\n",
    "test_stat = (mu_star_hat - 98.6) / (std_star_hat / 3)\n",
    "t_val = stats.t.ppf(0.025,9)\n",
    "z_val = stats.norm.ppf(0.025)\n",
    "print(test_stat, t_val, z_val)"
   ]
  },
  {
   "cell_type": "markdown",
   "metadata": {},
   "source": [
    "### Answer 4:\n",
    "The correct test to use is the t-test since the standard deviation is estimated and 10 is a small sample size"
   ]
  },
  {
   "cell_type": "markdown",
   "metadata": {},
   "source": [
    "### Question 5:\n",
    "At what temperature should we consider someone's temperature to be \"abnormal\"?\n",
    "Start by computing the margin of error and confidence interval."
   ]
  },
  {
   "cell_type": "code",
   "execution_count": 89,
   "metadata": {
    "collapsed": false
   },
   "outputs": [
    {
     "name": "stdout",
     "output_type": "stream",
     "text": [
      "95% confidence interval for the mean [98.1215107263,98.3769508121]\n",
      "95% confidence interval for single ob based on t-distribution [96.7986099343,99.6998516041]\n",
      "95% confidence interval for single ob based on sample percentiles [96.7225,99.4775]\n"
     ]
    }
   ],
   "source": [
    "mu_hat = df.loc[:,\"temperature\"].mean()\n",
    "std_hat = df.loc[:,\"temperature\"].std()\n",
    "#2-sided 95% confidence\n",
    "t_low = stats.t.ppf(0.025,df.shape[0]-1)\n",
    "t_high = stats.t.ppf(0.975,df.shape[0]-1)\n",
    "mu_low = mu_hat + t_low * std_hat / np.sqrt(df.shape[0]-1)\n",
    "mu_high = mu_hat + t_high * std_hat / np.sqrt(df.shape[0]-1)\n",
    "print(\"95% confidence interval for the mean [\"+str(mu_low)+\",\"+str(mu_high)+\"]\")\n",
    "low = stats.t.ppf(0.025,df.shape[0]-1,loc=mu_hat, scale = std_hat)\n",
    "high = stats.t.ppf(0.975,df.shape[0]-1,loc=mu_hat, scale = std_hat)\n",
    "print(\"95% confidence interval for single ob based on t-distribution [\"+str(low)+\",\"+str(high)+\"]\")\n",
    "low = np.percentile(df.loc[:,\"temperature\"],2.5)\n",
    "high = np.percentile(df.loc[:,\"temperature\"],97.5)\n",
    "print(\"95% confidence interval for single ob based on sample percentiles [\"+str(low)+\",\"+str(high)+\"]\")"
   ]
  },
  {
   "cell_type": "markdown",
   "metadata": {},
   "source": [
    "### Answer 5\n",
    "Assuming the data is representative of the population, if someone's temperature is outside the range [96.80,99.70], then that person's temperature should be considered abnormal"
   ]
  },
  {
   "cell_type": "markdown",
   "metadata": {},
   "source": [
    "### Question 6:\n",
    "Is there a significant difference between males and females in normal temperature?\n",
    "What test did you use and why?\n",
    "Write a story with your conclusion in the context of the original problem"
   ]
  },
  {
   "cell_type": "code",
   "execution_count": 110,
   "metadata": {
    "collapsed": false
   },
   "outputs": [
    {
     "data": {
      "text/plain": [
       "Ttest_indResult(statistic=-2.2854345381656103, pvalue=0.023931883122395609)"
      ]
     },
     "execution_count": 110,
     "metadata": {},
     "output_type": "execute_result"
    }
   ],
   "source": [
    "#Use 2-sided 2-sample t-test\n",
    "male_sample = df.loc[df.loc[:,\"gender\"] == \"M\",\"temperature\"]\n",
    "female_sample = df.loc[df.loc[:,\"gender\"] == \"F\",\"temperature\"]\n",
    "stats.ttest_ind(male_sample,female_sample)"
   ]
  },
  {
   "cell_type": "code",
   "execution_count": 138,
   "metadata": {
    "collapsed": false
   },
   "outputs": [
    {
     "name": "stdout",
     "output_type": "stream",
     "text": [
      "Means permute temperature\n",
      "p-value = 0.023975\n",
      "actual = 0.289230769231\n"
     ]
    }
   ],
   "source": [
    "#Bootstrap test\n",
    "data = (male_sample.values, female_sample.values)\n",
    "ht = DiffMeansPermute(data)\n",
    "p_value = ht.PValue(iters=1000000)\n",
    "print('Means permute temperature')\n",
    "print('p-value =', p_value)\n",
    "print('actual =', ht.actual)"
   ]
  },
  {
   "cell_type": "markdown",
   "metadata": {
    "collapsed": true
   },
   "source": [
    "### Answer 6:\n",
    "A 2-sided, 2-sample t-test is appropriate since we have 2 indepedent samples from two normal distributions with potentially different means. It is assumed that the standard deviations of the two normal distributions are the same, although it would be a good idea to test if $\\sigma^2_{male} = . \\sigma^2_{female}$ using an F-test or bootstrap test. The absolute difference between the sample means is $0.29$. The p-value is $0.024$. At $95\\%$ confidence level, we conclude that there is a significant difference between the average male temperature and the average female temperature. However, at the $99\\%$ confidence level, we would not reject the null hypothesis"
   ]
  },
  {
   "cell_type": "code",
   "execution_count": 124,
   "metadata": {
    "collapsed": false
   },
   "outputs": [],
   "source": [
    "class HypothesisTest(object):\n",
    "    \"\"\"Represents a hypothesis test.\"\"\"\n",
    "\n",
    "    def __init__(self, data):\n",
    "        \"\"\"Initializes.\n",
    "\n",
    "        data: data in whatever form is relevant\n",
    "        \"\"\"\n",
    "        self.data = data\n",
    "        self.MakeModel()\n",
    "        self.actual = self.TestStatistic(data)\n",
    "        self.test_stats = None\n",
    "\n",
    "    def PValue(self, iters=1000):\n",
    "        \"\"\"Computes the distribution of the test statistic and p-value.\n",
    "\n",
    "        iters: number of iterations\n",
    "\n",
    "        returns: float p-value\n",
    "        \"\"\"\n",
    "        self.test_stats = np.array([self.TestStatistic(self.RunModel()) \n",
    "                                       for _ in range(iters)])\n",
    "\n",
    "        count = sum(self.test_stats >= self.actual)\n",
    "        return count / iters\n",
    "\n",
    "    def MaxTestStat(self):\n",
    "        \"\"\"Returns the largest test statistic seen during simulations.\n",
    "        \"\"\"\n",
    "        return max(self.test_stats)\n",
    "\n",
    "    def PlotHist(self, label=None):\n",
    "        \"\"\"Draws a Cdf with vertical lines at the observed test stat.\n",
    "        \"\"\"\n",
    "        ys, xs, patches = pyplot.hist(ht.test_stats, color=COLOR4)\n",
    "        pyplot.vlines(self.actual, 0, max(ys), linewidth=3, color='0.8')\n",
    "        pyplot.xlabel('test statistic')\n",
    "        pyplot.ylabel('count')\n",
    "\n",
    "    def TestStatistic(self, data):\n",
    "        \"\"\"Computes the test statistic.\n",
    "\n",
    "        data: data in whatever form is relevant        \n",
    "        \"\"\"\n",
    "        raise UnimplementedMethodException()\n",
    "\n",
    "    def MakeModel(self):\n",
    "        \"\"\"Build a model of the null hypothesis.\n",
    "        \"\"\"\n",
    "        pass\n",
    "\n",
    "    def RunModel(self):\n",
    "        \"\"\"Run the model of the null hypothesis.\n",
    "\n",
    "        returns: simulated data\n",
    "        \"\"\"\n",
    "        raise UnimplementedMethodException()\n",
    "\n",
    "class DiffMeansPermute(HypothesisTest):\n",
    "    \"\"\"Tests a difference in means by permutation.\"\"\"\n",
    "\n",
    "    def TestStatistic(self, data):\n",
    "        \"\"\"Computes the test statistic.\n",
    "\n",
    "        data: data in whatever form is relevant        \n",
    "        \"\"\"\n",
    "        group1, group2 = data\n",
    "        test_stat = abs(group1.mean() - group2.mean())\n",
    "        return test_stat\n",
    "\n",
    "    def MakeModel(self):\n",
    "        \"\"\"Build a model of the null hypothesis.\n",
    "        \"\"\"\n",
    "        group1, group2 = self.data\n",
    "        self.n, self.m = len(group1), len(group2)\n",
    "        self.pool = np.hstack((group1, group2))\n",
    "\n",
    "    def RunModel(self):\n",
    "        \"\"\"Run the model of the null hypothesis.\n",
    "\n",
    "        returns: simulated data\n",
    "        \"\"\"\n",
    "        np.random.shuffle(self.pool)\n",
    "        data = self.pool[:self.n], self.pool[self.n:]\n",
    "        return data        "
   ]
  }
 ],
 "metadata": {
  "kernelspec": {
   "display_name": "Python 3",
   "language": "python",
   "name": "python3"
  },
  "language_info": {
   "codemirror_mode": {
    "name": "ipython",
    "version": 3
   },
   "file_extension": ".py",
   "mimetype": "text/x-python",
   "name": "python",
   "nbconvert_exporter": "python",
   "pygments_lexer": "ipython3",
   "version": "3.6.0"
  }
 },
 "nbformat": 4,
 "nbformat_minor": 1
}
