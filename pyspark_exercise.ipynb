{
 "cells": [
  {
   "cell_type": "markdown",
   "metadata": {},
   "source": [
    "# MapReduce using SPARK"
   ]
  },
  {
   "cell_type": "code",
   "execution_count": 1,
   "metadata": {},
   "outputs": [
    {
     "name": "stdout",
     "output_type": "stream",
     "text": [
      "Populating the interactive namespace from numpy and matplotlib\n"
     ]
    }
   ],
   "source": [
    "%pylab inline\n",
    "import pandas as pd\n",
    "import seaborn as sns\n",
    "pd.set_option('display.width', 500)\n",
    "pd.set_option('display.max_columns', 100)"
   ]
  },
  {
   "cell_type": "markdown",
   "metadata": {},
   "source": [
    "# Table of Contents\n",
    "\n",
    "* [SPARK](#SPARK)\n",
    "    * Installing Spark locally\n",
    "* [Spark Context](#Spark-Context)\n",
    "    * [Create A RDD](#Create-A-RDD)\n",
    "    * [Call `collect` on an RDD: Lazy Spark](#Call-collect-on-an-RDD:-Lazy-Spark)\n",
    "    * [Operations on RDDs](#Operations-on-RDDs)\n",
    "    * [Word Examples](#Word-Examples)\n",
    "    * [Key Value Pairs](#Key-Value-Pairs)\n",
    "    * [word count 1](#word-count-1)\n",
    "    * [word count 2:  `reduceByKey()`](#word-count-2:--reduceByKey%28%29)\n",
    "    * [Nested Syntax](#Nested-Syntax)\n",
    "    * [Using Cache](#Using-Cache)\n",
    "    * [Fun with words](#Fun-with-words)\n",
    "    * [DataFrames](#DataFrames)\n",
    "    * [Machine Learning](#Machine-Learning)\n"
   ]
  },
  {
   "cell_type": "markdown",
   "metadata": {
    "slideshow": {
     "slide_type": "slide"
    }
   },
   "source": [
    "With shameless stealing of some code and text from:\n",
    "\n",
    "- https://github.com/tdhopper/rta-pyspark-presentation/blob/master/slides.ipynb\n",
    "- Databricks and Berkeley Spark MOOC: https://www.edx.org/course/introduction-big-data-apache-spark-uc-berkeleyx-cs100-1x\n",
    "\n",
    "which you should go check out."
   ]
  },
  {
   "cell_type": "markdown",
   "metadata": {},
   "source": [
    "## Installing Spark locally\n",
    "\n",
    "\n",
    "**Step 1: Install Apache Spark**\n",
    "\n",
    "For example, for Mac users using Homebrew:\n",
    "\n",
    "```\n",
    "$ brew install apache-spark\n",
    "```"
   ]
  },
  {
   "cell_type": "markdown",
   "metadata": {},
   "source": [
    "**Step 2: Install the Java SDK version 1.8 or above for your platform (not just the JRE runtime)**\n",
    "\n",
    "Make sure you can access commands such as `java` on your command line."
   ]
  },
  {
   "cell_type": "markdown",
   "metadata": {},
   "source": [
    "**Step 3: Install the latest findspark package using pip**\n",
    "\n",
    "```\n",
    "➜  ~  pip install findspark\n",
    "Collecting findspark\n",
    "  Downloading findspark-0.0.5-py2.py3-none-any.whl\n",
    "Installing collected packages: findspark\n",
    "Successfully installed findspark-0.0.5\n",
    "```"
   ]
  },
  {
   "cell_type": "markdown",
   "metadata": {
    "slideshow": {
     "slide_type": "slide"
    }
   },
   "source": [
    "# Spark Context\n",
    "\n",
    "You can also use it directly from the notebook interface on the mac if you installed `apache-spark` using `brew` and also installed `findspark` above."
   ]
  },
  {
   "cell_type": "code",
   "execution_count": 3,
   "metadata": {},
   "outputs": [],
   "source": [
    "import pyspark\n",
    "sc = pyspark.SparkContext()"
   ]
  },
  {
   "cell_type": "code",
   "execution_count": null,
   "metadata": {
    "collapsed": true
   },
   "outputs": [],
   "source": [
    "import findspark\n",
    "findspark.init()\n",
    "import pyspark\n",
    "sc = pyspark.SparkContext()"
   ]
  },
  {
   "cell_type": "markdown",
   "metadata": {},
   "source": [
    "It also outputs a bunch of stuff on my terminal. This is because the entire java context is started up.\n",
    "\n",
    "```Using Spark's default log4j profile: org/apache/spark/log4j-defaults.properties\n",
    "15/10/21 14:46:15 INFO SparkContext: Running Spark version 1.4.0\n",
    "2015-10-21 14:46:15.774 java[30685:c003] Unable to load realm info from SCDynamicStore\n",
    "15/10/21 14:46:15 WARN NativeCodeLoader: Unable to load native-hadoop library for your platform... using builtin-java classes where applicable\n",
    "15/10/21 14:46:15 INFO SecurityManager: Changing view acls to: rahul\n",
    "15/10/21 14:46:15 INFO SecurityManager: Changing modify acls to: rahul\n",
    "15/10/21 14:46:15 INFO SecurityManager: SecurityManager: authentication disabled; ui acls disabled; users with view permissions: Set(rahul); users with modify permissions: Set(rahul)\n",
    "15/10/21 14:46:16 INFO Slf4jLogger: Slf4jLogger started\n",
    "15/10/21 14:46:16 INFO Remoting: Starting remoting\n",
    "15/10/21 14:46:16 INFO Remoting: Remoting started; listening on addresses :[akka.tcp://sparkDriver@10.251.101.163:64359]\n",
    "15/10/21 14:46:16 INFO Utils: Successfully started service 'sparkDriver' on port 64359.\n",
    "15/10/21 14:46:16 INFO SparkEnv: Registering MapOutputTracker\n",
    "15/10/21 14:46:16 INFO SparkEnv: Registering BlockManagerMaster\n",
    "15/10/21 14:46:16 INFO DiskBlockManager: Created local directory at /private/var/folders/_f/y76rs29s3c57ykwyz9c8z12c0000gn/T/spark-00a4e09e-e5db-485f-81dc-2e5016e9a27e/blockmgr-8966e07c-223b-4c38-9273-11543aa9d3c1\n",
    "15/10/21 14:46:16 INFO MemoryStore: MemoryStore started with capacity 273.0 MB\n",
    "15/10/21 14:46:16 INFO HttpFileServer: HTTP File server directory is /private/var/folders/_f/y76rs29s3c57ykwyz9c8z12c0000gn/T/spark-00a4e09e-e5db-485f-81dc-2e5016e9a27e/httpd-6af0a9e0-1cfe-42c4-a1bd-e01715b98436\n",
    "15/10/21 14:46:16 INFO HttpServer: Starting HTTP Server\n",
    "15/10/21 14:46:17 INFO Utils: Successfully started service 'HTTP file server' on port 64360.\n",
    "15/10/21 14:46:17 INFO SparkEnv: Registering OutputCommitCoordinator\n",
    "15/10/21 14:46:18 INFO Utils: Successfully started service 'SparkUI' on port 4040.\n",
    "15/10/21 14:46:18 INFO SparkUI: Started SparkUI at http://10.251.101.163:4040\n",
    "15/10/21 14:46:18 INFO Executor: Starting executor ID driver on host localhost\n",
    "15/10/21 14:46:18 INFO Utils: Successfully started service 'org.apache.spark.network.netty.NettyBlockTransferService' on port 64361.\n",
    "15/10/21 14:46:18 INFO NettyBlockTransferService: Server created on 64361\n",
    "15/10/21 14:46:18 INFO BlockManagerMaster: Trying to register BlockManager\n",
    "15/10/21 14:46:18 INFO BlockManagerMasterEndpoint: Registering block manager localhost:64361 with 273.0 MB RAM, BlockManagerId(driver, localhost, 64361)\n",
    "15/10/21 14:46:18 INFO BlockManagerMaster: Registered BlockManager\n",
    "```"
   ]
  },
  {
   "cell_type": "code",
   "execution_count": 4,
   "metadata": {},
   "outputs": [
    {
     "data": {
      "text/html": [
       "\n",
       "        <div>\n",
       "            <p><b>SparkContext</b></p>\n",
       "\n",
       "            <p><a href=\"http://192.168.13.111:4040\">Spark UI</a></p>\n",
       "\n",
       "            <dl>\n",
       "              <dt>Version</dt>\n",
       "                <dd><code>v2.3.0</code></dd>\n",
       "              <dt>Master</dt>\n",
       "                <dd><code>local[*]</code></dd>\n",
       "              <dt>AppName</dt>\n",
       "                <dd><code>pyspark-shell</code></dd>\n",
       "            </dl>\n",
       "        </div>\n",
       "        "
      ],
      "text/plain": [
       "<SparkContext master=local[*] appName=pyspark-shell>"
      ]
     },
     "execution_count": 4,
     "metadata": {},
     "output_type": "execute_result"
    }
   ],
   "source": [
    "sc"
   ]
  },
  {
   "cell_type": "code",
   "execution_count": 5,
   "metadata": {},
   "outputs": [
    {
     "data": {
      "text/plain": [
       "385"
      ]
     },
     "execution_count": 5,
     "metadata": {},
     "output_type": "execute_result"
    }
   ],
   "source": [
    "sc.parallelize([1, 2, 3, 4, 5, 6, 7, 8, 9, 10]).map(lambda x: x**2).sum()"
   ]
  },
  {
   "cell_type": "markdown",
   "metadata": {
    "slideshow": {
     "slide_type": "slide"
    }
   },
   "source": [
    "### Create A RDD\n"
   ]
  },
  {
   "cell_type": "code",
   "execution_count": 7,
   "metadata": {},
   "outputs": [
    {
     "name": "stdout",
     "output_type": "stream",
     "text": [
      "<class 'pyspark.rdd.RDD'>\n"
     ]
    }
   ],
   "source": [
    "wordsList = ['cat', 'elephant', 'rat', 'rat', 'cat']\n",
    "wordsRDD = sc.parallelize(wordsList, 4)\n",
    "# Print out the type of wordsRDD\n",
    "print(type(wordsRDD))"
   ]
  },
  {
   "cell_type": "markdown",
   "metadata": {
    "slideshow": {
     "slide_type": "slide"
    }
   },
   "source": [
    "### Call `collect` on an RDD: Lazy Spark"
   ]
  },
  {
   "cell_type": "markdown",
   "metadata": {},
   "source": [
    "Spark is lazy. Until you `collect`, nothing is actually run.\n",
    "\n",
    ">Instead, they just remember the transformations applied to some base dataset (e.g. a file). The transformations are only computed when an action requires a result to be returned to the driver program."
   ]
  },
  {
   "cell_type": "code",
   "execution_count": 8,
   "metadata": {},
   "outputs": [
    {
     "data": {
      "text/plain": [
       "['cat', 'elephant', 'rat', 'rat', 'cat']"
      ]
     },
     "execution_count": 8,
     "metadata": {},
     "output_type": "execute_result"
    }
   ],
   "source": [
    "wordsRDD.collect()"
   ]
  },
  {
   "cell_type": "markdown",
   "metadata": {},
   "source": [
    "```\n",
    "15/10/21 14:59:59 INFO SparkContext: Starting job: collect at <ipython-input-6-dee494da0714>:1\n",
    "15/10/21 14:59:59 INFO DAGScheduler: Got job 0 (collect at <ipython-input-6-dee494da0714>:1) with 4 output partitions (allowLocal=false)\n",
    "15/10/21 14:59:59 INFO DAGScheduler: Final stage: ResultStage 0(collect at <ipython-input-6-dee494da0714>:1)\n",
    "15/10/21 14:59:59 INFO DAGScheduler: Parents of final stage: List()\n",
    "15/10/21 14:59:59 INFO DAGScheduler: Missing parents: List()\n",
    "15/10/21 14:59:59 INFO DAGScheduler: Submitting ResultStage 0 (ParallelCollectionRDD[0] at parallelize at PythonRDD.scala:396), which has no missing parents\n",
    "15/10/21 15:00:00 INFO MemoryStore: ensureFreeSpace(1224) called with curMem=0, maxMem=286300569\n",
    "15/10/21 15:00:00 INFO MemoryStore: Block broadcast_0 stored as values in memory (estimated size 1224.0 B, free 273.0 MB)\n",
    "15/10/21 15:00:00 INFO MemoryStore: ensureFreeSpace(777) called with curMem=1224, maxMem=286300569\n",
    "15/10/21 15:00:00 INFO MemoryStore: Block broadcast_0_piece0 stored as bytes in memory (estimated size 777.0 B, free 273.0 MB)\n",
    "15/10/21 15:00:00 INFO BlockManagerInfo: Added broadcast_0_piece0 in memory on localhost:64361 (size: 777.0 B, free: 273.0 MB)\n",
    "15/10/21 15:00:00 INFO SparkContext: Created broadcast 0 from broadcast at DAGScheduler.scala:874\n",
    "15/10/21 15:00:00 INFO DAGScheduler: Submitting 4 missing tasks from ResultStage 0 (ParallelCollectionRDD[0] at parallelize at PythonRDD.scala:396)\n",
    "15/10/21 15:00:00 INFO TaskSchedulerImpl: Adding task set 0.0 with 4 tasks\n",
    "15/10/21 15:00:00 INFO TaskSetManager: Starting task 0.0 in stage 0.0 (TID 0, localhost, PROCESS_LOCAL, 1379 bytes)\n",
    "15/10/21 15:00:00 INFO TaskSetManager: Starting task 1.0 in stage 0.0 (TID 1, localhost, PROCESS_LOCAL, 1384 bytes)\n",
    "15/10/21 15:00:00 INFO TaskSetManager: Starting task 2.0 in stage 0.0 (TID 2, localhost, PROCESS_LOCAL, 1379 bytes)\n",
    "15/10/21 15:00:00 INFO TaskSetManager: Starting task 3.0 in stage 0.0 (TID 3, localhost, PROCESS_LOCAL, 1403 bytes)\n",
    "15/10/21 15:00:00 INFO Executor: Running task 0.0 in stage 0.0 (TID 0)\n",
    "15/10/21 15:00:00 INFO Executor: Running task 2.0 in stage 0.0 (TID 2)\n",
    "15/10/21 15:00:00 INFO Executor: Running task 1.0 in stage 0.0 (TID 1)\n",
    "15/10/21 15:00:00 INFO Executor: Running task 3.0 in stage 0.0 (TID 3)\n",
    "15/10/21 15:00:00 INFO Executor: Finished task 1.0 in stage 0.0 (TID 1). 646 bytes result sent to driver\n",
    "15/10/21 15:00:00 INFO Executor: Finished task 3.0 in stage 0.0 (TID 3). 665 bytes result sent to driver\n",
    "15/10/21 15:00:00 INFO Executor: Finished task 0.0 in stage 0.0 (TID 0). 641 bytes result sent to driver\n",
    "15/10/21 15:00:00 INFO Executor: Finished task 2.0 in stage 0.0 (TID 2). 641 bytes result sent to driver\n",
    "15/10/21 15:00:00 INFO TaskSetManager: Finished task 1.0 in stage 0.0 (TID 1) in 61 ms on localhost (1/4)\n",
    "15/10/21 15:00:00 INFO TaskSetManager: Finished task 3.0 in stage 0.0 (TID 3) in 60 ms on localhost (2/4)\n",
    "15/10/21 15:00:00 INFO TaskSetManager: Finished task 0.0 in stage 0.0 (TID 0) in 96 ms on localhost (3/4)\n",
    "15/10/21 15:00:00 INFO TaskSetManager: Finished task 2.0 in stage 0.0 (TID 2) in 63 ms on localhost (4/4)\n",
    "15/10/21 15:00:00 INFO DAGScheduler: ResultStage 0 (collect at <ipython-input-6-dee494da0714>:1) finished in 0.120 s\n",
    "15/10/21 15:00:00 INFO TaskSchedulerImpl: Removed TaskSet 0.0, whose tasks have all completed, from pool\n",
    "15/10/21 15:00:00 INFO DAGScheduler: Job 0 finished: collect at <ipython-input-6-dee494da0714>:1, took 0.872367 s\n",
    "```"
   ]
  },
  {
   "cell_type": "markdown",
   "metadata": {},
   "source": [
    "### Operations on RDDs"
   ]
  },
  {
   "cell_type": "markdown",
   "metadata": {},
   "source": [
    "From the Spark Programming Guide:\n",
    "\n",
    ">RDDs support two types of operations: transformations, which create a new dataset from an existing one, and actions, which return a value to the driver program after running a computation on the dataset. For example, map is a transformation that passes each dataset element through a function and returns a new RDD representing the results. On the other hand, reduce is an action that aggregates all the elements of the RDD using some function and returns the final result to the driver program (although there is also a parallel reduceByKey that returns a distributed dataset)."
   ]
  },
  {
   "cell_type": "markdown",
   "metadata": {},
   "source": [
    "### Word Examples"
   ]
  },
  {
   "cell_type": "code",
   "execution_count": 10,
   "metadata": {},
   "outputs": [
    {
     "name": "stdout",
     "output_type": "stream",
     "text": [
      "cats\n"
     ]
    }
   ],
   "source": [
    "def makePlural(word):\n",
    "    return word + 's'\n",
    "\n",
    "print(makePlural('cat'))"
   ]
  },
  {
   "cell_type": "markdown",
   "metadata": {},
   "source": [
    "Transform one RDD into another."
   ]
  },
  {
   "cell_type": "code",
   "execution_count": 11,
   "metadata": {},
   "outputs": [
    {
     "name": "stdout",
     "output_type": "stream",
     "text": [
      "cats\n",
      "['cats', 'elephants']\n"
     ]
    }
   ],
   "source": [
    "pluralRDD = wordsRDD.map(makePlural)\n",
    "print(pluralRDD.first())\n",
    "print(pluralRDD.take(2))\n"
   ]
  },
  {
   "cell_type": "code",
   "execution_count": 12,
   "metadata": {},
   "outputs": [
    {
     "data": {
      "text/plain": [
       "['cats']"
      ]
     },
     "execution_count": 12,
     "metadata": {},
     "output_type": "execute_result"
    }
   ],
   "source": [
    "pluralRDD.take(1)"
   ]
  },
  {
   "cell_type": "code",
   "execution_count": 13,
   "metadata": {},
   "outputs": [
    {
     "data": {
      "text/plain": [
       "['cats', 'elephants', 'rats', 'rats', 'cats']"
      ]
     },
     "execution_count": 13,
     "metadata": {},
     "output_type": "execute_result"
    }
   ],
   "source": [
    "pluralRDD.collect()"
   ]
  },
  {
   "cell_type": "markdown",
   "metadata": {
    "slideshow": {
     "slide_type": "slide"
    }
   },
   "source": [
    "### Key Value Pairs"
   ]
  },
  {
   "cell_type": "code",
   "execution_count": 14,
   "metadata": {},
   "outputs": [
    {
     "name": "stdout",
     "output_type": "stream",
     "text": [
      "[('cat', 1), ('elephant', 1), ('rat', 1), ('rat', 1), ('cat', 1)]\n"
     ]
    }
   ],
   "source": [
    "wordPairs = wordsRDD.map(lambda w: (w, 1))\n",
    "print(wordPairs.collect())"
   ]
  },
  {
   "cell_type": "markdown",
   "metadata": {},
   "source": [
    "```\n",
    "➜  sparklect  ps auxwww | grep pyspark\n",
    "rahul           30685   0.4  0.8  3458120  68712 s012  S+    2:46PM   2:00.21 /System/Library/Java/JavaVirtualMachines/1.6.0.jdk/Contents/Home/bin/java -cp /usr/local/opt/apache-spark/libexec/conf/:/usr/local/opt/apache-spark/libexec/lib/spark-assembly-1.4.0-hadoop2.6.0.jar:/usr/local/opt/apache-spark/libexec/lib/datanucleus-api-jdo-3.2.6.jar:/usr/local/opt/apache-spark/libexec/lib/datanucleus-core-3.2.10.jar:/usr/local/opt/apache-spark/libexec/lib/datanucleus-rdbms-3.2.9.jar -Xms512m -Xmx512m -XX:MaxPermSize=128m org.apache.spark.deploy.SparkSubmit pyspark-shell\n",
    "rahul           31520   0.0  0.0  2432784    480 s011  R+    6:42PM   0:00.00 grep --color=auto --exclude-dir=.bzr --exclude-dir=.cvs --exclude-dir=.git --exclude-dir=.hg --exclude-dir=.svn pyspark\n",
    "rahul           31494   0.0  0.7  2548972  57288 s012  S     6:41PM   0:00.10 python -m pyspark.daemon\n",
    "rahul           31493   0.0  0.7  2548972  57308 s012  S     6:41PM   0:00.10 python -m pyspark.daemon\n",
    "rahul           31492   0.0  0.7  2548972  57288 s012  S     6:41PM   0:00.11 python -m pyspark.daemon\n",
    "rahul           31446   0.0  0.8  2548972  68460 s012  S     6:35PM   0:01.34 python -m pyspark.daemon\n",
    "```"
   ]
  },
  {
   "cell_type": "markdown",
   "metadata": {
    "slideshow": {
     "slide_type": "slide"
    }
   },
   "source": [
    "### WORD COUNT!\n",
    "\n",
    "This little exercise shows how to use mapreduce to calculate the counts of individual words in a list."
   ]
  },
  {
   "cell_type": "code",
   "execution_count": 16,
   "metadata": {},
   "outputs": [
    {
     "name": "stdout",
     "output_type": "stream",
     "text": [
      "[('cat', 2), ('elephant', 1), ('rat', 2)]\n"
     ]
    }
   ],
   "source": [
    "wordsList = ['cat', 'elephant', 'rat', 'rat', 'cat']\n",
    "wordsRDD = sc.parallelize(wordsList, 4)\n",
    "wordCountsCollected = (wordsRDD\n",
    "                       .map(lambda w: (w, 1))\n",
    "                       .reduceByKey(lambda x,y: x+y)\n",
    "                       .collect())\n",
    "print(wordCountsCollected)"
   ]
  },
  {
   "cell_type": "markdown",
   "metadata": {
    "slideshow": {
     "slide_type": "slide"
    }
   },
   "source": [
    "![Tons of shuffling](https://databricks.gitbooks.io/databricks-spark-knowledge-base/content/images/reduce_by.png)"
   ]
  },
  {
   "cell_type": "code",
   "execution_count": 17,
   "metadata": {},
   "outputs": [
    {
     "name": "stdout",
     "output_type": "stream",
     "text": [
      "b'(4) PythonRDD[19] at RDD at PythonRDD.scala:48 []\\n |  MapPartitionsRDD[18] at mapPartitions at PythonRDD.scala:122 []\\n |  ShuffledRDD[17] at partitionBy at NativeMethodAccessorImpl.java:0 []\\n +-(4) PairwiseRDD[16] at reduceByKey at <ipython-input-17-00e8853ca0b7>:3 []\\n    |  PythonRDD[15] at reduceByKey at <ipython-input-17-00e8853ca0b7>:3 []\\n    |  ParallelCollectionRDD[9] at parallelize at PythonRDD.scala:175 []'\n"
     ]
    }
   ],
   "source": [
    "print((wordsRDD\n",
    "    .map(lambda w: (w, 1))\n",
    "    .reduceByKey(lambda x,y: x+y)).toDebugString())"
   ]
  },
  {
   "cell_type": "markdown",
   "metadata": {
    "slideshow": {
     "slide_type": "slide"
    }
   },
   "source": [
    "### Using Cache"
   ]
  },
  {
   "cell_type": "code",
   "execution_count": 19,
   "metadata": {},
   "outputs": [
    {
     "name": "stdout",
     "output_type": "stream",
     "text": [
      "ParallelCollectionRDD[20] at parallelize at PythonRDD.scala:175\n"
     ]
    },
    {
     "data": {
      "text/plain": [
       "5"
      ]
     },
     "execution_count": 19,
     "metadata": {},
     "output_type": "execute_result"
    }
   ],
   "source": [
    "wordsList = ['cat', 'elephant', 'rat', 'rat', 'cat']\n",
    "wordsRDD = sc.parallelize(wordsList, 4)\n",
    "print(wordsRDD)\n",
    "wordsRDD.count()"
   ]
  },
  {
   "cell_type": "markdown",
   "metadata": {},
   "source": [
    "Normally, every operation is run from the start. This may be inefficient in many cases. So when appropriate, we may want to cache the result the first time an operation is run on an RDD."
   ]
  },
  {
   "cell_type": "code",
   "execution_count": 20,
   "metadata": {},
   "outputs": [
    {
     "data": {
      "text/plain": [
       "5"
      ]
     },
     "execution_count": 20,
     "metadata": {},
     "output_type": "execute_result"
    }
   ],
   "source": [
    "#this is rerun from the start\n",
    "wordsRDD.count()"
   ]
  },
  {
   "cell_type": "code",
   "execution_count": 21,
   "metadata": {},
   "outputs": [
    {
     "data": {
      "text/plain": [
       "ParallelCollectionRDD[20] at parallelize at PythonRDD.scala:175"
      ]
     },
     "execution_count": 21,
     "metadata": {},
     "output_type": "execute_result"
    }
   ],
   "source": [
    "#default storage level (MEMORY_ONLY)\n",
    "wordsRDD.cache()#nothing done this is still lazy"
   ]
  },
  {
   "cell_type": "code",
   "execution_count": 22,
   "metadata": {},
   "outputs": [
    {
     "data": {
      "text/plain": [
       "5"
      ]
     },
     "execution_count": 22,
     "metadata": {},
     "output_type": "execute_result"
    }
   ],
   "source": [
    "#parallelize is rerun and cached because we told it to cache\n",
    "wordsRDD.count()"
   ]
  },
  {
   "cell_type": "code",
   "execution_count": 23,
   "metadata": {},
   "outputs": [
    {
     "data": {
      "text/plain": [
       "5"
      ]
     },
     "execution_count": 23,
     "metadata": {},
     "output_type": "execute_result"
    }
   ],
   "source": [
    "#this `sc.parallelize` is not rerun in this case\n",
    "wordsRDD.count()"
   ]
  },
  {
   "cell_type": "markdown",
   "metadata": {},
   "source": [
    "Where is this useful: it is when you have branching parts or loops, so that you dont do things again and again. Spark, being \"lazy\" will rerun the chain again. So `cache` or `persist` serves as a checkpoint, breaking the RDD chain or the *lineage*."
   ]
  },
  {
   "cell_type": "code",
   "execution_count": 24,
   "metadata": {},
   "outputs": [
    {
     "data": {
      "text/plain": [
       "{'cat': 'mammal',\n",
       " 'elephant': 'mammal',\n",
       " 'heron': 'bird',\n",
       " 'owl': 'bird',\n",
       " 'rat': 'mammal'}"
      ]
     },
     "execution_count": 24,
     "metadata": {},
     "output_type": "execute_result"
    }
   ],
   "source": [
    "birdsList=['heron','owl']\n",
    "animList=wordsList+birdsList\n",
    "animaldict={}\n",
    "for e in wordsList:\n",
    "    animaldict[e]='mammal'\n",
    "for e in birdsList:\n",
    "    animaldict[e]='bird'\n",
    "animaldict"
   ]
  },
  {
   "cell_type": "code",
   "execution_count": 26,
   "metadata": {},
   "outputs": [
    {
     "name": "stdout",
     "output_type": "stream",
     "text": [
      "5 2\n"
     ]
    }
   ],
   "source": [
    "animsrdd = sc.parallelize(animList, 4)\n",
    "animsrdd.cache()\n",
    "#below runs the whole chain but causes cache to be populated\n",
    "mammalcount=animsrdd.filter(lambda w: animaldict[w]=='mammal').count()\n",
    "#now only the filter is carried out\n",
    "birdcount=animsrdd.filter(lambda w: animaldict[w]=='bird').count()\n",
    "print(mammalcount, birdcount)"
   ]
  },
  {
   "cell_type": "code",
   "execution_count": null,
   "metadata": {
    "collapsed": true
   },
   "outputs": [],
   "source": []
  },
  {
   "cell_type": "markdown",
   "metadata": {},
   "source": [
    "### Exercises: Fun with MapReduce\n",
    "\n",
    "Read http://spark.apache.org/docs/latest/programming-guide.html for some useful background and then try out the following exercises"
   ]
  },
  {
   "cell_type": "markdown",
   "metadata": {},
   "source": [
    "The file `./sparklect/english.stop.txt` contains a list of English stopwords, while the file `./sparklect/shakes/juliuscaesar.txt` contains the entire text of Shakespeare's 'Julius Caesar'.\n",
    "\n",
    "* Load all of the stopwords into a Python list\n",
    "* Load the text of Julius Caesar into an RDD using the `sparkcontext.textfile()` method. Call it `juliusrdd`."
   ]
  },
  {
   "cell_type": "code",
   "execution_count": 46,
   "metadata": {},
   "outputs": [],
   "source": [
    "# your turn\n",
    "f = open(\"./sparklect/english.stop.txt\")\n",
    "juliusrdd = sc.textFile(\"./sparklect/shakes/juliuscaesar.txt\")"
   ]
  },
  {
   "cell_type": "code",
   "execution_count": 47,
   "metadata": {},
   "outputs": [],
   "source": [
    "words = f.read().splitlines()\n",
    "f.close()"
   ]
  },
  {
   "cell_type": "code",
   "execution_count": 48,
   "metadata": {},
   "outputs": [
    {
     "data": {
      "text/plain": [
       "['a',\n",
       " \"a's\",\n",
       " 'able',\n",
       " 'about',\n",
       " 'above',\n",
       " 'according',\n",
       " 'accordingly',\n",
       " 'across',\n",
       " 'actually',\n",
       " 'after',\n",
       " 'afterwards',\n",
       " 'again',\n",
       " 'against',\n",
       " \"ain't\",\n",
       " 'all',\n",
       " 'allow',\n",
       " 'allows',\n",
       " 'almost',\n",
       " 'alone',\n",
       " 'along',\n",
       " 'already',\n",
       " 'also',\n",
       " 'although',\n",
       " 'always',\n",
       " 'am',\n",
       " 'among',\n",
       " 'amongst',\n",
       " 'an',\n",
       " 'and',\n",
       " 'another',\n",
       " 'any',\n",
       " 'anybody',\n",
       " 'anyhow',\n",
       " 'anyone',\n",
       " 'anything',\n",
       " 'anyway',\n",
       " 'anyways',\n",
       " 'anywhere',\n",
       " 'apart',\n",
       " 'appear',\n",
       " 'appreciate',\n",
       " 'appropriate',\n",
       " 'are',\n",
       " \"aren't\",\n",
       " 'around',\n",
       " 'as',\n",
       " 'aside',\n",
       " 'ask',\n",
       " 'asking',\n",
       " 'associated',\n",
       " 'at',\n",
       " 'available',\n",
       " 'away',\n",
       " 'awfully',\n",
       " 'b',\n",
       " 'be',\n",
       " 'became',\n",
       " 'because',\n",
       " 'become',\n",
       " 'becomes',\n",
       " 'becoming',\n",
       " 'been',\n",
       " 'before',\n",
       " 'beforehand',\n",
       " 'behind',\n",
       " 'being',\n",
       " 'believe',\n",
       " 'below',\n",
       " 'beside',\n",
       " 'besides',\n",
       " 'best',\n",
       " 'better',\n",
       " 'between',\n",
       " 'beyond',\n",
       " 'both',\n",
       " 'brief',\n",
       " 'but',\n",
       " 'by',\n",
       " 'c',\n",
       " \"c'mon\",\n",
       " \"c's\",\n",
       " 'came',\n",
       " 'can',\n",
       " \"can't\",\n",
       " 'cannot',\n",
       " 'cant',\n",
       " 'cause',\n",
       " 'causes',\n",
       " 'certain',\n",
       " 'certainly',\n",
       " 'changes',\n",
       " 'clearly',\n",
       " 'co',\n",
       " 'com',\n",
       " 'come',\n",
       " 'comes',\n",
       " 'concerning',\n",
       " 'consequently',\n",
       " 'consider',\n",
       " 'considering',\n",
       " 'contain',\n",
       " 'containing',\n",
       " 'contains',\n",
       " 'corresponding',\n",
       " 'could',\n",
       " \"couldn't\",\n",
       " 'course',\n",
       " 'currently',\n",
       " 'd',\n",
       " 'definitely',\n",
       " 'described',\n",
       " 'despite',\n",
       " 'did',\n",
       " \"didn't\",\n",
       " 'different',\n",
       " 'do',\n",
       " 'does',\n",
       " \"doesn't\",\n",
       " 'doing',\n",
       " \"don't\",\n",
       " 'done',\n",
       " 'down',\n",
       " 'downwards',\n",
       " 'during',\n",
       " 'e',\n",
       " 'each',\n",
       " 'edu',\n",
       " 'eg',\n",
       " 'eight',\n",
       " 'either',\n",
       " 'else',\n",
       " 'elsewhere',\n",
       " 'enough',\n",
       " 'entirely',\n",
       " 'especially',\n",
       " 'et',\n",
       " 'etc',\n",
       " 'even',\n",
       " 'ever',\n",
       " 'every',\n",
       " 'everybody',\n",
       " 'everyone',\n",
       " 'everything',\n",
       " 'everywhere',\n",
       " 'ex',\n",
       " 'exactly',\n",
       " 'example',\n",
       " 'except',\n",
       " 'f',\n",
       " 'far',\n",
       " 'few',\n",
       " 'fifth',\n",
       " 'first',\n",
       " 'five',\n",
       " 'followed',\n",
       " 'following',\n",
       " 'follows',\n",
       " 'for',\n",
       " 'former',\n",
       " 'formerly',\n",
       " 'forth',\n",
       " 'four',\n",
       " 'from',\n",
       " 'further',\n",
       " 'furthermore',\n",
       " 'g',\n",
       " 'get',\n",
       " 'gets',\n",
       " 'getting',\n",
       " 'given',\n",
       " 'gives',\n",
       " 'go',\n",
       " 'goes',\n",
       " 'going',\n",
       " 'gone',\n",
       " 'got',\n",
       " 'gotten',\n",
       " 'greetings',\n",
       " 'h',\n",
       " 'had',\n",
       " \"hadn't\",\n",
       " 'happens',\n",
       " 'hardly',\n",
       " 'has',\n",
       " \"hasn't\",\n",
       " 'have',\n",
       " \"haven't\",\n",
       " 'having',\n",
       " 'he',\n",
       " \"he's\",\n",
       " 'hello',\n",
       " 'help',\n",
       " 'hence',\n",
       " 'her',\n",
       " 'here',\n",
       " \"here's\",\n",
       " 'hereafter',\n",
       " 'hereby',\n",
       " 'herein',\n",
       " 'hereupon',\n",
       " 'hers',\n",
       " 'herself',\n",
       " 'hi',\n",
       " 'him',\n",
       " 'himself',\n",
       " 'his',\n",
       " 'hither',\n",
       " 'hopefully',\n",
       " 'how',\n",
       " 'howbeit',\n",
       " 'however',\n",
       " 'i',\n",
       " \"i'd\",\n",
       " \"i'll\",\n",
       " \"i'm\",\n",
       " \"i've\",\n",
       " 'ie',\n",
       " 'if',\n",
       " 'ignored',\n",
       " 'immediate',\n",
       " 'in',\n",
       " 'inasmuch',\n",
       " 'inc',\n",
       " 'indeed',\n",
       " 'indicate',\n",
       " 'indicated',\n",
       " 'indicates',\n",
       " 'inner',\n",
       " 'insofar',\n",
       " 'instead',\n",
       " 'into',\n",
       " 'inward',\n",
       " 'is',\n",
       " \"isn't\",\n",
       " 'it',\n",
       " \"it'd\",\n",
       " \"it'll\",\n",
       " \"it's\",\n",
       " 'its',\n",
       " 'itself',\n",
       " 'j',\n",
       " 'just',\n",
       " 'k',\n",
       " 'keep',\n",
       " 'keeps',\n",
       " 'kept',\n",
       " 'know',\n",
       " 'knows',\n",
       " 'known',\n",
       " 'l',\n",
       " 'last',\n",
       " 'lately',\n",
       " 'later',\n",
       " 'latter',\n",
       " 'latterly',\n",
       " 'least',\n",
       " 'less',\n",
       " 'lest',\n",
       " 'let',\n",
       " \"let's\",\n",
       " 'like',\n",
       " 'liked',\n",
       " 'likely',\n",
       " 'little',\n",
       " 'look',\n",
       " 'looking',\n",
       " 'looks',\n",
       " 'ltd',\n",
       " 'm',\n",
       " 'mainly',\n",
       " 'many',\n",
       " 'may',\n",
       " 'maybe',\n",
       " 'me',\n",
       " 'mean',\n",
       " 'meanwhile',\n",
       " 'merely',\n",
       " 'might',\n",
       " 'more',\n",
       " 'moreover',\n",
       " 'most',\n",
       " 'mostly',\n",
       " 'much',\n",
       " 'must',\n",
       " 'my',\n",
       " 'myself',\n",
       " 'n',\n",
       " 'name',\n",
       " 'namely',\n",
       " 'nd',\n",
       " 'near',\n",
       " 'nearly',\n",
       " 'necessary',\n",
       " 'need',\n",
       " 'needs',\n",
       " 'neither',\n",
       " 'never',\n",
       " 'nevertheless',\n",
       " 'new',\n",
       " 'next',\n",
       " 'nine',\n",
       " 'no',\n",
       " 'nobody',\n",
       " 'non',\n",
       " 'none',\n",
       " 'noone',\n",
       " 'nor',\n",
       " 'normally',\n",
       " 'not',\n",
       " 'nothing',\n",
       " 'novel',\n",
       " 'now',\n",
       " 'nowhere',\n",
       " 'o',\n",
       " 'obviously',\n",
       " 'of',\n",
       " 'off',\n",
       " 'often',\n",
       " 'oh',\n",
       " 'ok',\n",
       " 'okay',\n",
       " 'old',\n",
       " 'on',\n",
       " 'once',\n",
       " 'one',\n",
       " 'ones',\n",
       " 'only',\n",
       " 'onto',\n",
       " 'or',\n",
       " 'other',\n",
       " 'others',\n",
       " 'otherwise',\n",
       " 'ought',\n",
       " 'our',\n",
       " 'ours',\n",
       " 'ourselves',\n",
       " 'out',\n",
       " 'outside',\n",
       " 'over',\n",
       " 'overall',\n",
       " 'own',\n",
       " 'p',\n",
       " 'particular',\n",
       " 'particularly',\n",
       " 'per',\n",
       " 'perhaps',\n",
       " 'placed',\n",
       " 'please',\n",
       " 'plus',\n",
       " 'possible',\n",
       " 'presumably',\n",
       " 'probably',\n",
       " 'provides',\n",
       " 'q',\n",
       " 'que',\n",
       " 'quite',\n",
       " 'qv',\n",
       " 'r',\n",
       " 'rather',\n",
       " 'rd',\n",
       " 're',\n",
       " 'really',\n",
       " 'reasonably',\n",
       " 'regarding',\n",
       " 'regardless',\n",
       " 'regards',\n",
       " 'relatively',\n",
       " 'respectively',\n",
       " 'right',\n",
       " 's',\n",
       " 'said',\n",
       " 'same',\n",
       " 'saw',\n",
       " 'say',\n",
       " 'saying',\n",
       " 'says',\n",
       " 'second',\n",
       " 'secondly',\n",
       " 'see',\n",
       " 'seeing',\n",
       " 'seem',\n",
       " 'seemed',\n",
       " 'seeming',\n",
       " 'seems',\n",
       " 'seen',\n",
       " 'self',\n",
       " 'selves',\n",
       " 'sensible',\n",
       " 'sent',\n",
       " 'serious',\n",
       " 'seriously',\n",
       " 'seven',\n",
       " 'several',\n",
       " 'shall',\n",
       " 'she',\n",
       " 'should',\n",
       " \"shouldn't\",\n",
       " 'since',\n",
       " 'six',\n",
       " 'so',\n",
       " 'some',\n",
       " 'somebody',\n",
       " 'somehow',\n",
       " 'someone',\n",
       " 'something',\n",
       " 'sometime',\n",
       " 'sometimes',\n",
       " 'somewhat',\n",
       " 'somewhere',\n",
       " 'soon',\n",
       " 'sorry',\n",
       " 'specified',\n",
       " 'specify',\n",
       " 'specifying',\n",
       " 'still',\n",
       " 'sub',\n",
       " 'such',\n",
       " 'sup',\n",
       " 'sure',\n",
       " 't',\n",
       " \"t's\",\n",
       " 'take',\n",
       " 'taken',\n",
       " 'tell',\n",
       " 'tends',\n",
       " 'th',\n",
       " 'than',\n",
       " 'thank',\n",
       " 'thanks',\n",
       " 'thanx',\n",
       " 'that',\n",
       " \"that's\",\n",
       " 'thats',\n",
       " 'the',\n",
       " 'their',\n",
       " 'theirs',\n",
       " 'them',\n",
       " 'themselves',\n",
       " 'then',\n",
       " 'thence',\n",
       " 'there',\n",
       " \"there's\",\n",
       " 'thereafter',\n",
       " 'thereby',\n",
       " 'therefore',\n",
       " 'therein',\n",
       " 'theres',\n",
       " 'thereupon',\n",
       " 'these',\n",
       " 'they',\n",
       " \"they'd\",\n",
       " \"they'll\",\n",
       " \"they're\",\n",
       " \"they've\",\n",
       " 'think',\n",
       " 'third',\n",
       " 'this',\n",
       " 'thorough',\n",
       " 'thoroughly',\n",
       " 'those',\n",
       " 'though',\n",
       " 'three',\n",
       " 'through',\n",
       " 'throughout',\n",
       " 'thru',\n",
       " 'thus',\n",
       " 'to',\n",
       " 'together',\n",
       " 'too',\n",
       " 'took',\n",
       " 'toward',\n",
       " 'towards',\n",
       " 'tried',\n",
       " 'tries',\n",
       " 'truly',\n",
       " 'try',\n",
       " 'trying',\n",
       " 'twice',\n",
       " 'two',\n",
       " 'u',\n",
       " 'un',\n",
       " 'under',\n",
       " 'unfortunately',\n",
       " 'unless',\n",
       " 'unlikely',\n",
       " 'until',\n",
       " 'unto',\n",
       " 'up',\n",
       " 'upon',\n",
       " 'us',\n",
       " 'use',\n",
       " 'used',\n",
       " 'useful',\n",
       " 'uses',\n",
       " 'using',\n",
       " 'usually',\n",
       " 'uucp',\n",
       " 'v',\n",
       " 'value',\n",
       " 'various',\n",
       " 'very',\n",
       " 'via',\n",
       " 'viz',\n",
       " 'vs',\n",
       " 'w',\n",
       " 'want',\n",
       " 'wants',\n",
       " 'was',\n",
       " \"wasn't\",\n",
       " 'way',\n",
       " 'we',\n",
       " \"we'd\",\n",
       " \"we'll\",\n",
       " \"we're\",\n",
       " \"we've\",\n",
       " 'welcome',\n",
       " 'well',\n",
       " 'went',\n",
       " 'were',\n",
       " \"weren't\",\n",
       " 'what',\n",
       " \"what's\",\n",
       " 'whatever',\n",
       " 'when',\n",
       " 'whence',\n",
       " 'whenever',\n",
       " 'where',\n",
       " \"where's\",\n",
       " 'whereafter',\n",
       " 'whereas',\n",
       " 'whereby',\n",
       " 'wherein',\n",
       " 'whereupon',\n",
       " 'wherever',\n",
       " 'whether',\n",
       " 'which',\n",
       " 'while',\n",
       " 'whither',\n",
       " 'who',\n",
       " \"who's\",\n",
       " 'whoever',\n",
       " 'whole',\n",
       " 'whom',\n",
       " 'whose',\n",
       " 'why',\n",
       " 'will',\n",
       " 'willing',\n",
       " 'wish',\n",
       " 'with',\n",
       " 'within',\n",
       " 'without',\n",
       " \"won't\",\n",
       " 'wonder',\n",
       " 'would',\n",
       " 'would',\n",
       " \"wouldn't\",\n",
       " 'x',\n",
       " 'y',\n",
       " 'yes',\n",
       " 'yet',\n",
       " 'you',\n",
       " \"you'd\",\n",
       " \"you'll\",\n",
       " \"you're\",\n",
       " \"you've\",\n",
       " 'your',\n",
       " 'yours',\n",
       " 'yourself',\n",
       " 'yourselves',\n",
       " 'z',\n",
       " 'zero']"
      ]
     },
     "execution_count": 48,
     "metadata": {},
     "output_type": "execute_result"
    }
   ],
   "source": [
    "words"
   ]
  },
  {
   "cell_type": "markdown",
   "metadata": {},
   "source": [
    "How many words does Julius Caesar have? *Hint: use `flatMap()`*."
   ]
  },
  {
   "cell_type": "code",
   "execution_count": 68,
   "metadata": {},
   "outputs": [
    {
     "name": "stdout",
     "output_type": "stream",
     "text": [
      "33816\n"
     ]
    }
   ],
   "source": [
    "a = juliusrdd.flatMap(lambda w: w.split(' '))\n",
    "wordCountsCollected = a.map(lambda w: 1).reduce(lambda x,y: x+y)\n",
    "print(wordCountsCollected)"
   ]
  },
  {
   "cell_type": "code",
   "execution_count": 52,
   "metadata": {},
   "outputs": [
    {
     "name": "stdout",
     "output_type": "stream",
     "text": [
      "[('1599', 1), ('THE TRAGEDY OF JULIUS CAESAR', 1), ('', 208), ('by William Shakespeare', 1), ('  JULIUS CAESAR, Roman statesman and general', 1), ('    first emperor of Rome', 1), ('  LEPIDUS, third member of the Triumvirate', 1), ('  CASSIUS, instigator of the conspiracy', 1), ('  TREBONIUS,           \"          \"     \"', 1), ('  CAIUS LIGARIUS,      \"          \"     \"', 1), ('  DECIUS BRUTUS,       \"          \"     \"', 1), ('  PORTIA, wife of Brutus', 1), ('  POPILIUS,      \"', 1), ('  FLAVIUS, tribune ', 1), ('  MARULLUS, tribune', 1), ('  CATO,     supportor of Brutus', 1), ('  LUCILIUS,     \"     \"    \"', 1), ('  TITINIUS,     \"     \"    \"', 1), ('  VARRO,     servant to Brutus', 1), ('  CLITUS,       \"    \"     \"', 1), ('  STRATO,       \"    \"     \"', 1), ('  PINDARUS, servant to Cassius', 1), ('Servants', 1), ('SHAKESPEARE IS COPYRIGHT 1990-1993 BY WORLD LIBRARY, INC., AND IS', 5), ('WITH PERMISSION.  ELECTRONIC AND MACHINE READABLE COPIES MAY BE', 5), ('PERSONAL USE ONLY, AND (2) ARE NOT DISTRIBUTED OR USED', 5), ('COMMERCIALLY.  PROHIBITED COMMERCIAL DISTRIBUTION INCLUDES BY ANY', 5), (\"SCENE: Rome, the conspirators' camp near Sardis,  and the plains\", 1), ('of Philippi.', 1), ('ACT I. SCENE I.', 1), ('Rome. A street.', 1), ('  FLAVIUS. Hence, home, you idle creatures, get you home.', 1), ('    Being mechanical, you ought not walk', 1), ('    Upon a laboring day without the sign', 1), ('    Of your profession? Speak, what trade art thou?', 1), ('  MARULLUS. Where is thy leather apron and thy rule?', 1), ('    What dost thou with thy best apparel on?', 1), ('  SECOND COMMONER. Truly, sir, in respect of a fine workman, I am', 1), ('safe', 1), ('    conscience, which is indeed, sir, a mender of bad soles.', 1), ('  MARULLUS. What trade, thou knave? Thou naughty knave, what', 1), ('yet,', 1), ('    if you be out, sir, I can mend you. ', 1), ('  FLAVIUS. Thou art a cobbler, art thou?', 1), ('    awl. I am indeed, sir, a surgeon to old shoes; when they are', 1), ('in', 1), ('    great danger, I recover them. As proper men as ever trod upon', 1), ('  SECOND COMMONER. Truly, sir, to wear out their shoes to get', 1), ('myself', 1), ('Caesar', 2), ('    and to rejoice in his triumph.', 1), ('    To grace in captive bonds his chariot wheels?', 1), ('    You blocks, you stones, you worse than senseless things!', 1), ('    To towers and windows, yea, to chimney tops,', 1), ('    Your infants in your arms, and there have sat', 1), ('    To see great Pompey pass the streets of Rome.', 1), ('    Have you not made an universal shout', 1), ('    That Tiber trembled underneath her banks', 1), ('    And do you now put on your best attire?', 1), ('    And do you now cull out a holiday?', 1), ('    And do you now strew flowers in his way', 1), (\"    That comes in triumph over Pompey's blood?\", 1), ('    Run to your houses, fall upon your knees,', 1), ('    That needs must light on this ingratitude.', 1), ('  FLAVIUS. Go, go, good countrymen, and, for this fault,', 1), ('                                           Exeunt all Commoners.', 1), ('    See whether their basest metal be not moved;', 1), ('    They vanish tongue-tied in their guiltiness.', 1), ('    Go you down that way towards the Capitol;', 1), ('  FLAVIUS. It is no matter; let no images', 1), ('    So do you too, where you perceive them thick.', 1), ('    Who else would soar above the view of men', 1), ('    And keep us all in servile fearfulness.              Exeunt.', 1), ('A public place.', 1), ('Flourish. Enter Caesar; Antony, for the course; Calpurnia,', 1), ('Portia,', 1), ('Decius, Cicero, Brutus, Cassius, and Casca; a great crowd', 1), ('among them a Soothsayer.', 1), ('                                                   Music ceases.', 1), ('  CALPURNIA. Here, my lord.', 1), ('    When he doth run his course. Antonio!', 1), ('  ANTONY. Caesar, my lord?', 1), ('  CAESAR. Forget not in your speed, Antonio,', 1), ('    To touch Calpurnia, for our elders say', 1), ('    Shake off their sterile curse.', 1), ('  ANTONY. I shall remember.', 1), ('    When Caesar says \"Do this,\" it is perform\\'d.', 1), ('  CAESAR. Set on, and leave no ceremony out.           Flourish. ', 1), ('  SOOTHSAYER. Caesar!', 1), ('  CASCA. Bid every noise be still. Peace yet again!', 1), ('  CAESAR. Who is it in the press that calls on me?', 1), ('    I hear a tongue, shriller than all the music,', 1), ('  SOOTHSAYER. Beware the ides of March.', 2), ('  CAESAR. What man is that?', 1), ('  BRUTUS. A soothsayer you beware the ides of March.', 1), ('  CASSIUS. Fellow, come from the throng; look upon Caesar.', 1), (\"  CAESAR. What say'st thou to me now? Speak once again.\", 1), ('  CAESAR. He is a dreamer; let us leave him. Pass.', 1), ('                      Sennet. Exeunt all but Brutus and Cassius.', 1), ('  CASSIUS. Will you go see the order of the course?', 1), ('  CASSIUS. I pray you, do.', 1), ('    Of that quick spirit that is in Antony. ', 1), ('    I have not from your eyes that gentleness', 1), ('    Over your friend that loves you.', 1), ('    Merely upon myself. Vexed I am', 1), ('    Conceptions only proper to myself,', 1), ('    Which give some soil perhaps to my behaviors;', 1), ('    Among which number, Cassius, be you one-', 1), ('    Nor construe any further my neglect', 1), ('    Than that poor Brutus with himself at war', 1), ('    By means whereof this breast of mine hath buried', 1), ('    Thoughts of great value, worthy cogitations.', 1), (\"  CASSIUS. 'Tis just,\", 1), ('    And it is very much lamented, Brutus,', 1), ('    That you have no such mirrors as will turn', 1), ('    Your hidden worthiness into your eye', 1), ('    That you might see your shadow. I have heard', 1), (\"    And groaning underneath this age's yoke,\", 1), (\"    Have wish'd that noble Brutus had his eyes.\", 1), ('  BRUTUS. Into what dangers would you lead me, Cassius,', 1), ('  CASSIUS. Therefore, good Brutus, be prepared to hear,', 1), ('    Will modestly discover to yourself', 1), ('    And be not jealous on me, gentle Brutus;', 1), ('    Were I a common laugher, or did use', 1), ('    To stale with ordinary oaths my love', 1), ('    That I do fawn on men and hug them hard', 1), ('    And after scandal them, or if you know', 1), ('    To all the rout, then hold me dangerous.', 1), ('                                             Flourish and shout.', 1), ('  BRUTUS. What means this shouting? I do fear the people', 1), ('    Then must I think you would not have it so.', 1), ('  BRUTUS. I would not, Cassius, yet I love him well.', 1), ('    But wherefore do you hold me here so long?', 1), ('    What is it that you would impart to me?', 1), ('    The name of honor more than I fear death.', 1), ('  CASSIUS. I know that virtue to be in you, Brutus,', 1), ('    As well as I do know your outward favor.', 1), ('    Well, honor is the subject of my story.', 1), ('    I cannot tell what you and other men', 1), ('    Think of this life, but, for my single self,', 1), ('    I had as lief not be as live to be', 1), ('    In awe of such a thing as I myself.', 1), ('    I was born free as Caesar, so were you;', 1), ('    We both have fed as well, and we can both', 1), ('    The troubled Tiber chafing with her shores,', 1), ('    And swim to yonder point?\" Upon the word,', 1), ('    And stemming it with hearts of controversy.', 1), ('    But ere we could arrive the point proposed,', 1), ('    Caesar cried, \"Help me, Cassius, or I sink!', 1), ('    Is now become a god, and Cassius is', 1), ('    And when the fit was on him I did mark', 1), ('    And that same eye whose bend doth awe the world', 1), ('    Did lose his luster. I did hear him groan.', 1), ('    Alas, it cried, \"Give me some drink, Titinius,\"', 1), ('    So get the start of the majestic world', 1), ('    And bear the palm alone. Shout.                    Flourish.', 1), ('    I do believe that these applauses are', 1), (\"    For some new honors that are heap'd on Caesar.\", 1), ('    Walk under his huge legs and peep about', 1), ('    Men at some time are masters of their fates:', 1), ('    The fault, dear Brutus, is not in our stars,', 1), ('    Why should that name be sounded more than yours?', 1), ('    Write them together, yours is as fair a name;', 1), ('    Sound them, it doth become the mouth as well;', 1), ('    \"Brutus\" will start a spirit as soon as \"Caesar.\"', 1), ('    Now, in the names of all the gods at once,', 1), ('    Rome, thou hast lost the breed of noble bloods!', 1), ('    When went there by an age since the great flood', 1), ('    But it was famed with more than with one man?', 1), (\"    That her wide walls encompass'd but one man?\", 1), ('    O, you and I have heard our fathers say', 1), ('    The eternal devil to keep his state in Rome', 1), ('    As easily as a king.', 1), ('  BRUTUS. That you do love me, I am nothing jealous;', 1), ('    What you would work me to, I have some aim.', 1), ('    How I have thought of this and of these times,', 1), ('    I shall recount hereafter; for this present,', 1), ('    Be any further moved. What you have said', 1), ('    I will with patience hear, and find a time', 1), ('    Both meet to hear and answer such high things.', 1), ('    Till then, my noble friend, chew upon this:', 1), ('    Under these hard conditions as this time', 1), ('    Is like to lay upon us.', 1), ('  CASSIUS. As they pass by, pluck Casca by the sleeve,', 1), ('    What hath proceeded worthy note today.', 1), ('    Looks with such ferret and such fiery eyes', 1), ('    As we have seen him in the Capitol,', 1), (\"    Being cross'd in conference by some senators.\", 1), ('  CASSIUS. Casca will tell us what the matter is.', 1), ('  ANTONY. Caesar?', 1), ('  CAESAR. Let me have men about me that are fat,', 1), ('    Yond Cassius has a lean and hungry look;', 1), (\"  ANTONY. Fear him not, Caesar; he's not dangerous;\", 1), ('  CAESAR. Would he were fatter! But I fear him not,', 1), ('    I do not know the man I should avoid', 1), ('    So soon as that spare Cassius. He reads much,', 1), ('    Quite through the deeds of men. He loves no plays, ', 1), ('    Seldom he smiles, and smiles in such a sort', 1), (\"    As if he mock'd himself and scorn'd his spirit\", 1), ('    That could be moved to smile at anything.', 1), (\"    Such men as he be never at heart's ease\", 1), ('    Whiles they behold a greater than themselves,', 1), ('    Than what I fear, for always I am Caesar.', 1), ('    Come on my right hand, for this ear is deaf,', 1), (\"    And tell me truly what thou think'st of him.\", 1), ('              Sennet. Exeunt Caesar and all his Train but Casca.', 1), ('  BRUTUS. Ay, Casca, tell us what hath chanced today', 1), ('    That Caesar looks so sad.', 1), ('  BRUTUS. I should not then ask Casca what had chanced.', 1), ('  CASCA. Why, there was a crown offered him, and being offered', 1), ('gentler', 1), ('  CASSIUS. Who offered him the crown?', 1), ('  CASCA. Why, Antony.', 1), ('  BRUTUS. Tell us the manner of it, gentle Casca.', 1), (\"  CASCA. I can as well be hang'd as tell the manner of it. It was\", 1), ('    mere foolery; I did not mark it. I saw Mark Antony offer him', 1), ('    coronets) and, as I told you, he put it by once. But for all', 1), ('offered', 1), ('thinking, he', 1), ('    refused it, the rabblement hooted and clapped their chopped', 1), ('hands ', 1), ('of', 1), ('    stinking breath because Caesar refused the crown that it had', 1), ('And', 1), ('lips', 1), ('was', 1), ('    speechless.', 1), (\"  BRUTUS. 'Tis very like. He hath the falling sickness.\", 1), ('  CASSIUS. No, Caesar hath it not, but you, and I,', 1), ('    And honest Casca, we have the falling sickness.', 1), ('  CASCA. I know not what you mean by that, but I am sure Caesar', 1), ('do', 1), ('    the players in the theatre, I am no true man.', 1), ('  BRUTUS. What said he when he came unto himself?', 1), ('  CASCA. Marry, before he fell down, when he perceived the common', 1), ('doublet', 1), ('I ', 1), ('came', 1), ('    to himself again, he said, if he had done or said anything', 1), ('Three or', 1), ('    four wenches where I stood cried, \"Alas, good soul!\" and', 1), ('forgave', 1), ('  CASCA. Ay.', 1), ('  CASCA. Ay, he spoke Greek.', 1), (\"  CASCA. Nay, an I tell you that, I'll ne'er look you i' the face\", 1), ('    could tell you more news too: Marullus and Flavius, for', 1), ('    There was more foolery yet, if could remember it.', 1), ('  CASSIUS. Will you sup with me tonight, Casca?', 1), ('  CASCA. No, I am promised forth. ', 1), ('  CASSIUS. Will you dine with me tomorrow?', 1), ('worth', 1), ('    the eating.', 1), ('  CASSIUS. Good, I will expect you.', 1), ('    He was quick mettle when he went to school.', 1), ('  CASSIUS. So is he now in execution', 1), ('  BRUTUS. And so it is. For this time I will leave you.', 1), ('    Tomorrow, if you please to speak with me,', 1), ('    I will come home to you, or, if you will,', 1), ('    Come home to me and I will wait for you.', 1), ('  CASSIUS. I will do so. Till then, think of the world.', 1), ('                                                    Exit Brutus.', 1), ('    From that it is disposed; therefore it is meet', 1), ('    If I were Brutus now and he were Cassius,', 1), ('    He should not humor me. I will this night,', 1), ('    In several hands, in at his windows throw,', 1), ('    Writings, all tending to the great opinion', 1), ('    And after this let Caesar seat him sure;', 1), ('    For we will shake him, or worse days endure.           Exit.', 1), ('    Did I go through a tempest dropping fire.', 1), ('    Either there is a civil strife in heaven,', 1), (\"    Not sensible of fire remain'd unscorch'd.\", 1), ('    Against the Capitol I met a lion,', 1), ('    Men all in fire walk up and down the streets.', 1), ('    Howling and shrieking. When these prodigies', 1), ('    Do so conjointly meet, let not men say', 1), ('    \"These are their reasons; they are natural\":', 1), ('    Unto the climate that they point upon.', 1), ('    But men may construe things after their fashion,', 1), ('  CICERO. Good then, Casca. This disturbed sky', 1), ('    Is not to walk in.', 1), ('                        Enter Cassius.', 1), ('  CASCA. A Roman.', 1), ('  CASSIUS. Casca, by your voice.', 1), ('  CASSIUS. A very pleasing night to honest men.', 1), ('  CASCA. Who ever knew the heavens menace so?', 1), ('    And thus unbraced, Casca, as you see,', 1), ('    The breast of heaven, I did present myself', 1), ('  CASCA. But wherefore did you so much tempt the heavens?', 1), ('    It is the part of men to fear and tremble', 1), ('    When the most mighty gods by tokens send', 1), ('    Such dreadful heralds to astonish us.', 1), ('  CASSIUS. You are dull, Casca, and those sparks of life', 1), ('    That should be in a Roman you do want,', 1), ('    To see the strange impatience of the heavens.', 1), ('    But if you would consider the true cause', 1), ('    Why all these fires, why all these gliding ghosts,', 1), ('    Why all these things change from their ordinance,', 1), ('    To monstrous quality, why, you shall find', 1), ('    That heaven hath infused them with these spirits', 1), ('    To make them instruments of fear and warning ', 1), ('    Now could I, Casca, name to thee a man', 1), ('    Most like this dreadful night,', 1), ('    That thunders, lightens, opens graves, and roars', 1), ('    As doth the lion in the Capitol,', 1), ('    A man no mightier than thyself or me', 1), ('    Our yoke and sufferance show us womanish.', 1), ('    And he shall wear his crown by sea and land', 1), ('    In every place save here in Italy.', 1), ('    Therein, ye gods, you tyrants do defeat.', 1), ('    Nor stony tower, nor walls of beaten brass,', 1), ('    Nor airless dungeon, nor strong links of iron', 1), ('    But life, being weary of these worldly bars,', 1), ('    I can shake off at pleasure.                  Thunder still.', 1), ('  CASCA. So can I.', 1), ('  CASSIUS. And why should Caesar be a tyrant then?', 1), ('    But that he sees the Romans are but sheep.', 1), ('    He were no lion, were not Romans hinds.', 1), ('    What rubbish, and what offal, when it serves ', 1), ('    Where hast thou led me? I perhaps speak this', 1), ('    Before a willing bondman; then I know', 1), (\"    My answer must be made. But I am arm'd,\", 1), ('  CASCA. You speak to Casca, and to such a man', 1), ('    That is no fleering tell-tale. Hold, my hand.', 1), ('    As who goes farthest.', 1), ('    There is no stir or walking in the streets,', 1), (\"    In favor's like the work we have in hand,\", 1), ('    Most bloody, fiery, and most terrible.', 1), (\"  CASSIUS. 'Tis Cinna, I do know him by his gait;\", 1), ('    He is a friend. Cinna, where haste you so?', 1), (\"  CINNA. To find out you. Who's that? Metellus Cimber?\", 1), (\"    To our attempts. Am I not stay'd for, Cinna?\", 1), (\"    There's two or three of us have seen strange sights.\", 1), ('  CINNA. Yes, you are.', 1), ('    O Cassius, if you could', 1), ('    But win the noble Brutus to our party-', 1), ('  CASSIUS. Be you content. Good Cinna, take this paper,', 1), (\"    Upon old Brutus' statue. All this done,\", 1), ('    Is Decius Brutus and Trebonius there?', 1), (\"  CINNA. All but Metellus Cimber, and he's gone\", 1), ('    To seek you at your house. Well, I will hie', 1), ('    And so bestow these papers as you bade me.', 1), ('    Come, Casca, you and I will yet ere day', 1), ('    See Brutus at his house. Three parts of him', 1), ('    Upon the next encounter yields him ours.', 1), ('    And that which would appear offense in us,', 1), ('    For it is after midnight, and ere day ', 1), ('    We will awake him and be sure of him.                Exeunt.', 1), ('    I cannot, by the progress of the stars,', 1), ('    I would it were my fault to sleep so soundly.', 1), ('    When, Lucius, when? Awake, I say! What, Lucius!', 1), ('                            Enter Lucius.', 1), (\"  LUCIUS. Call'd you, my lord?\", 1), ('  BRUTUS. Get me a taper in my study, Lucius.', 1), ('  LUCIUS. I will, my lord.                                 Exit.', 1), ('    I know no personal cause to spurn at him,', 1), (\"    But for the general. He would be crown'd:\", 1), (\"    How that might change his nature, there's the question.\", 1), ('    And that craves wary walking. Crown him that, ', 1), ('    And then, I grant, we put a sting in him', 1), ('    That at his will he may do danger with.', 1), ('    The abuse of greatness is when it disjoins', 1), ('    Remorse from power, and, to speak truth of Caesar,', 1), ('    He then unto the ladder turns his back,', 1), ('    Looks in the clouds, scorning the base degrees', 1), ('    By which he did ascend. So Caesar may;', 1), ('    Will bear no color for the thing he is,', 1), ('    Fashion it thus, that what he is, augmented,', 1), ('    Would run to these and these extremities;', 1), (\"    And therefore think him as a serpent's egg\", 1), ('    And kill him in the shell.', 1), ('                        Re-enter Lucius.', 2), ('    Searching the window for a flint I found', 1), (\"    This paper thus seal'd up, and I am sure\", 1), ('    It did not lie there when I went to bed.', 1), ('                                           Gives him the letter.', 1), ('  BRUTUS. Get you to bed again, it is not day.', 1), ('    Is not tomorrow, boy, the ides of March?', 1), ('  BRUTUS. Look in the calendar and bring me word.', 1), ('  LUCIUS. I will, sir.                                     Exit.', 1), ('    Give so much light that I may read by them.', 1), ('    \"Brutus, thou sleep\\'st: awake and see thyself!', 1), ('    Shall Rome, etc. Speak, strike, redress!\"', 1), ('    \"Brutus, thou sleep\\'st: awake!\"', 1), (\"    Such instigations have been often dropp'd \", 1), ('    Where I have took them up.', 1), ('    \"Shall Rome, etc.\" Thus must I piece it out.', 1), (\"    Shall Rome stand under one man's awe? What, Rome?\", 1), ('    My ancestors did from the streets of Rome', 1), (\"    The Tarquin drive, when he was call'd a king.\", 1), ('    \"Speak, strike, redress!\" Am I entreated', 1), ('    To speak and strike? O Rome, I make thee promise,', 1), ('  LUCIUS. Sir, March is wasted fifteen days.', 1), (\"  BRUTUS. 'Tis good. Go to the gate, somebody knocks.\", 1), ('    I have not slept.', 1), ('    And the first motion, all the interim is ', 1), ('    Like a phantasma or a hideous dream;', 1), ('    Are then in council, and the state of man,', 1), ('    Like to a little kingdom, suffers then', 1), ('                         Re-enter Lucius.', 1), (\"  LUCIUS. Sir, 'tis your brother Cassius at the door,\", 1), ('    Who doth desire to see you.', 1), ('  LUCIUS. No, sir, there are more with him.', 1), (\"  LUCIUS. No, sir, their hats are pluck'd about their ears,\", 1), ('    And half their faces buried in their cloaks,', 1), ('    That by no means I may discover them', 1), (\"  BRUTUS. Let 'em enter.                            Exit Lucius.\", 1), ('    They are the faction. O Conspiracy,', 1), ('    To mask thy monstrous visage? Seek none, Conspiracy;', 1), ('    Hide it in smiles and affability;', 1), ('    For if thou path, thy native semblance on,', 1), ('    Not Erebus itself were dim enough', 1), ('    To hide thee from prevention.', 1), ('    Enter the conspirators, Cassius, Casca, Decius, Cinna,', 1), ('  CASSIUS. I think we are too bold upon your rest.', 1), ('  BRUTUS. I have been up this hour, awake all night.', 1), ('    Know I these men that come along with you?', 1), ('    This is Trebonius. ', 1), ('  BRUTUS. He is welcome hither.', 1), ('CASSIUS. This, Casca; this, Cinna; and this, Metellus Cimber.', 1), ('    Betwixt your eyes and night?', 1), ('  CASSIUS. Shall I entreat a word?                 They whisper.', 1), ('  CASCA. No.', 1), ('  CINNA. O, pardon, sir, it doth, and yongrey lines', 1), ('    That fret the clouds are messengers of day.', 1), ('    Which is a great way growing on the south,', 1), ('    Weighing the youthful season of the year.', 1), ('    Some two months hence up higher toward the north', 1), ('    Stands as the Capitol, directly here.', 1), ('  BRUTUS. Give me your hands all over, one by one.', 1), ('    If these be motives weak, break off betimes,', 1), ('    And every man hence to his idle bed;', 1), ('    So let high-sighted tyranny range on', 1), ('    As I am sure they do, bear fire enough', 1), ('    Than secret Romans that have spoke the word', 1), ('    And will not palter? And what other oath', 1), ('    Than honesty to honesty engaged', 1), ('    Swear priests and cowards and men cautelous,', 1), ('    That welcome wrongs; unto bad causes swear', 1), ('    Such creatures as men doubt; but do not stain', 1), ('    Nor the insuppressive mettle of our spirits,', 1), ('    That every Roman bears, and nobly bears,', 1), ('    If he do break the smallest particle', 1), ('    I think he will stand very strong with us.', 1), (\"    And buy men's voices to commend our deeds.\", 1), ('    It shall be said his judgement ruled our hands;', 1), ('    Our youths and wildness shall no whit appear,', 1), ('    For he will never follow anything', 1), ('    That other men begin. ', 1), ('  CASCA. Indeed he is not fit.', 1), ('  CASSIUS. Decius, well urged. I think it is not meet', 1), ('    Should outlive Caesar. We shall find of him', 1), ('    If he improve them, may well stretch so far', 1), ('    As to annoy us all, which to prevent,', 1), ('    Let Antony and Caesar fall together.', 1), ('    Like wrath in death and envy afterwards;', 1), ('    We all stand up against the spirit of Caesar,', 1), (\"    O, that we then could come by Caesar's spirit,\", 1), ('    And not dismember Caesar! But, alas,', 1), ('    Caesar must bleed for it! And, gentle friends, ', 1), (\"    Let's kill him boldly, but not wrathfully;\", 1), (\"    Let's carve him as a dish fit for the gods,\", 1), ('    And let our hearts, as subtle masters do,', 1), (\"    And after seem to chide 'em. This shall make\", 1), (\"    We shall be call'd purgers, not murderers.\", 1), ('    And for Mark Antony, think not of him,', 1), (\"    When Caesar's head is off.\", 1), ('  CASSIUS. Yet I fear him,', 1), ('    For in the ingrated love he bears to Caesar-', 1), ('    To sports, to wildness, and much company.', 1), ('  BRUTUS. Peace, count the clock.', 1), ('    Quite from the main opinion he held once', 1), ('    May hold him from the Capitol today.', 1), (\"    I can o'ersway him, for he loves to hear\", 1), ('    Let me work;', 1), ('    For I can give his humor the true bent,', 1), ('  BRUTUS. By the eighth hour. Is that the utter most?', 1), ('  METELLUS. Caius Ligarius doth bear Caesar hard,', 1), ('    I wonder none of you have thought of him.', 1), ('    He loves me well, and I have given him reasons;', 1), (\"    Send him but hither, and I'll fashion him.\", 1), ('    What you have said and show yourselves true Romans.', 1), ('    Let not our looks put on our purposes,', 1), ('    With untired spirits and formal constancy. ', 1), ('    And so, good morrow to you every one.', 1), ('    Boy! Lucius! Fast asleep? It is no matter.', 1), ('    Which busy care draws in the brains of men;', 1), (\"    Therefore thou sleep'st so sound.\", 1), ('                           Enter Portia.', 1), ('  PORTIA. Brutus, my lord!', 1), ('    It is not for your health thus to commit', 1), ('  PORTIA. Nor for yours neither. have ungently, Brutus,', 1), ('    You stared upon me with ungentle looks. ', 1), (\"    I urged you further; then you scratch'd your head,\", 1), (\"    And too impatiently stamp'd with your foot.\", 1), (\"    Yet I insisted, yet you answer'd not,\", 1), ('    But with an angry waiter of your hand', 1), ('    Gave sign for me to leave you. So I did,', 1), ('    Fearing to strengthen that impatience', 1), ('    Hoping it was but an effect of humor,', 1), ('    And, could it work so much upon your shape', 1), ('    I should not know you, Brutus. Dear my lord,', 1), ('  PORTIA. Brutus is wise, and, were he not in health,', 1), ('    To walk unbraced and suck up the humors ', 1), ('    Of the dank morning? What, is Brutus sick,', 1), ('    And will he steal out of his wholesome bed', 1), ('    And tempt the rheumy and unpurged air', 1), ('    To add unto his sickness? No, my Brutus,', 1), ('    I ought to know of; and, upon my knees,', 1), ('    By all your vows of love and that great vow', 1), ('    Which did incorporate and make us one,', 1), ('    Why you are heavy and what men tonight', 1), ('    Have had resort to you; for here have been', 1), ('    Some six or seven, who did hide their faces', 1), ('  PORTIA. I should not need, if you were gentle Brutus.', 1), ('    Is it excepted I should know no secrets ', 1), ('    But, as it were, in sort or limitation,', 1), (\"    Portia is Brutus' harlot, not his wife.\", 1), ('  BRUTUS. You are my true and honorable wife,', 1), ('  PORTIA. If this were true, then should I know this secret.', 1), ('    I grant I am a woman, but withal', 2), (\"    A woman well reputed, Cato's daughter.\", 1), ('    I have made strong proof of my constancy,', 1), ('    Giving myself a voluntary wound', 1), (\"    And not my husband's secrets?\", 1), ('    Render me worthy of this noble wife! Knocking within.', 1), ('    All my engagements I will construe to thee,', 1), (\"    Leave me with haste. [Exit Portia.] Lucius, who's that\", 1), ('knocks?', 1), ('                  Re-enter Lucius with Ligarius.', 1), ('  LUCIUS. Here is a sick man that would speak with you.', 1), ('  BRUTUS. Caius Ligarius, that Metellus spake of.', 1), ('    Boy, stand aside. Caius Ligarius, how?', 1), ('  LIGARIUS. Vouchsafe good morrow from a feeble tongue.', 1), ('  BRUTUS. O, what a time have you chose out, brave Caius,', 1), ('    To wear a kerchief! Would you were not sick!', 1), ('    I here discard my sickness! Soul of Rome!', 1), ('    Brave son, derived from honorable loins!', 1), ('    Thou, like an exorcist, hast conjured up', 1), ('    And I will strive with things impossible,', 1), (\"    Yea, get the better of them. What's to do?\", 1), ('  BRUTUS. That must we also. What it is, my Caius,', 1), ('    To whom it must be done.', 1), ('    To do I know not what; but it sufficeth', 1), ('    \"Help, ho! They murther Caesar!\" Who\\'s within?', 1), ('                         Enter a Servant.', 1), ('    And bring me their opinions of success.', 1), ('                         Enter Calpurnia.', 1), (\"  CAESAR. Caesar shall forth: the things that threaten'd me\", 1), ('  CALPURNIA. Caesar, I I stood on ceremonies,', 1), ('    Yet now they fright me. There is one within,', 1), ('    A lioness hath whelped in the streets;', 1), (\"    And graves have yawn'd, and yielded up their dead;\", 1), ('    Fierce fiery warriors fight upon the clouds,', 1), ('    In ranks and squadrons and right form of war,', 1), ('    Which drizzled blood upon the Capitol;', 1), ('    Horses did neigh and dying men did groan,', 1), ('    And ghosts did shriek and squeal about the streets.', 1), ('    And I do fear them.', 1), ('    Whose end is purposed by the mighty gods?', 1), ('  CALPURNIA. When beggars die, there are no comets seen; ', 1), ('    The heavens themselves blaze forth the death of princes.', 1), ('  CAESAR. Cowards die many times before their deaths;', 1), ('    Of all the wonders that I yet have heard,', 1), ('                      Re-enter Servant.', 1), ('    What say the augurers?', 1), ('    They could not find a heart within the beast.', 1), ('  CAESAR. The gods do this in shame of cowardice.', 1), ('    Caesar should be a beast without a heart', 1), (\"    We are two lions litter'd in one day, \", 1), ('    And I the elder and more terrible.', 1), ('    Your wisdom is consumed in confidence.', 1), ('    Do not go forth today. Call it my fear', 1), ('    That keeps you in the house and not your own.', 1), (\"    We'll send Mark Antony to the Senate House,\", 1), ('    And, for thy humor, I will stay at home.', 1), ('                        Enter Decius.', 1), ('  DECIUS. Caesar, all hail! Good morrow, worthy Caesar!', 1), ('    Cannot, is false, and that I dare not, falser:', 1), ('    I will not come today. Tell them so, Decius.', 1), ('  CALPURNIA. Say he is sick.', 1), ('  CAESAR. Shall Caesar send a lie?', 1), ('    Decius, go tell them Caesar will not come.', 1), ('  DECIUS. Most mighty Caesar, let me know some cause,', 1), ('  CAESAR. The cause is in my will: I will not come,', 1), ('    That is enough to satisfy the Senate.', 1), ('    But, for your private satisfaction,', 1), ('    Because I love you, I will let you know.', 1), ('    Calpurnia here, my wife, stays me at home;', 1), ('    Which, like a fountain with an hundred spouts,', 1), ('    Came smiling and did bathe their hands in it.', 1), ('    And these does she apply for warnings and portents', 1), ('  DECIUS. This dream is all amiss interpreted;', 1), ('    Your statue spouting blood in many pipes,', 1), ('    In which so many smiling Romans bathed,', 1), ('    Reviving blood, and that great men shall press', 1), ('    For tinctures, stains, relics, and cognizance.', 1), ('  CAESAR. And this way have you well expounded it.', 1), ('  DECIUS. I have, when you have heard what I can say.', 1), ('    To give this day a crown to mighty Caesar.', 1), ('    Their minds may change. Besides, it were a mock', 1), ('    Pardon me, Caesar, for my dear dear love', 1), ('    To your proceeding bids me tell you this,', 1), ('    I am ashamed I did yield to them.', 1), ('                     Trebonius, and Cinna.', 1), ('    And look where Publius is come to fetch me.', 1), ('  PUBLIUS. Good morrow,Caesar.', 1), ('  CAESAR. Welcome, Publius.', 1), (\"    What, Brutus, are you stirr'd so early too?\", 1), ('    Good morrow, Casca. Caius Ligarius,', 1), (\"    Caesar was ne'er so much your enemy\", 1), ('    As that same ague which hath made you lean.', 1), ('                           Enter Antony.', 1), ('  ANTONY. So to most noble Caesar.', 1), ('  CAESAR. Bid them prepare within.', 1), ('    I am to blame to be thus waited for.', 1), ('    Now, Cinna; now, Metellus; what, Trebonius,', 1), ('    Remember that you call on me today;', 1), ('    Be near me, that I may remember you.', 1), ('  TREBONIUS. Caesar, I will. [Aside.] And so near will I be', 1), ('    And we like friends will straightway go together.', 1), ('A street near the Capitol.', 1), ('  ARTEMIDORUS. \"Caesar, beware of Brutus; take heed of Cassius;', 1), ('mark', 1), ('    well Metellus Cimber; Decius Brutus loves thee not; thou hast', 1), ('    wronged Caius Ligarius. There is but one mind in all these', 1), ('men,', 1), ('look', 1), ('    defend thee!', 1), ('                                        Thy lover, Artemidorus.\"', 1), ('    If thou read this, O Caesar, thou mayest live;', 1), ('Another part of the same street, before the house of Brutus.', 1), ('Enter Portia and Lucius.', 1), ('  LUCIUS. To know my errand, madam.', 1), ('    Ere I can tell thee what thou shouldst do there.', 1), ('    O constancy, be strong upon my side!', 1), (\"    I have a man's mind, but a woman's might.\", 1), ('    How hard it is for women to keep counsel!', 1), ('    Run to the Capitol, and nothing else?', 1), ('    What Caesar doth, what suitors press to him. ', 1), ('  LUCIUS. I hear none, madam.', 1), ('  PORTIA. Prithee, listen well.', 1), ('  LUCIUS. Sooth, madam, I hear nothing.', 1), ('  PORTIA. Come hither, fellow;', 1), ('    Which way hast thou been?', 1), ('  SOOTHSAYER. At mine own house, good lady.', 1), ('  PORTIA. Is Caesar yet gone to the Capitol?', 1), ('  SOOTHSAYER. Madam, not yet. I go to take my stand', 1), ('  PORTIA. Thou hast some suit to Caesar, hast thou not?', 1), ('    To be so good to Caesar as to hear me, ', 1), ('    I shall beseech him to befriend himself.', 1), ('    Good morrow to you. Here the street is narrow,', 1), ('    The throng that follows Caesar at the heels,', 1), ('    Will crowd a feeble man almost to death.', 1), ('    The heart of woman is! O Brutus,', 1), ('    Sure, the boy heard me. Brutus hath a suit', 1), ('    Run, Lucius, and commend me to my lord;', 1), ('                                               Exeunt severally.', 1), ('Rome. Before the Capitol; the Senate sitting above.', 1), ('A crowd of people, among them Artemidorus and the Soothsayer.', 1), ('Flourish. Enter Caesar, Brutus, Cassius, Casca, Decius, Metellus,', 1), (\"  DECIUS. Trebonius doth desire you to o'er read,\", 1), ('      Caesar goes up to the Senate House, the rest follow.', 1), ('  POPILIUS. Fare you well.', 1), ('    I fear our purpose is discovered.', 1), ('  BRUTUS. Look, how he makes to Caesar. Mark him.', 1), ('  CASSIUS. Casca,', 1), ('    Brutus, what shall be done? If this be known,', 1), ('    Cassius or Caesar never shall turn back,', 1), ('    Popilius Lena speaks not of our purposes;', 1), ('    For, look, he smiles, and Caesar doth not change.', 1), ('                                    Exeunt Antony and Trebonius.', 1), ('  DECIUS. Where is Metellus Cimber? Let him', 1), ('    And presently prefer his suit to Caesar.', 1), (\"  BRUTUS. He is address'd; press near and second him.\", 1), ('  CAESAR. Are we all ready? What is now amiss', 1), ('    That Caesar and his Senate must redress?', 1), ('  METELLUS. Most high, most mighty, and most puissant Caesar,', 1), ('    An humble heart.                                     Kneels.', 1), ('    These couchings and these lowly courtesies', 1), ('    Might fire the blood of ordinary men', 1), (\"    That will be thaw'd from the true quality\", 1), (\"    Low-crooked court'sies, and base spaniel-fawning.\", 1), ('    Thy brother by decree is banished. ', 1), ('    Know, Caesar doth not wrong, nor without cause', 1), ('    Will he be satisfied.', 1), ('    Desiring thee that Publius Cimber may', 1), ('  CAESAR. What, Brutus?', 1), ('  CASSIUS. Pardon, Caesar! Caesar, pardon!', 1), ('    To beg enfranchisement for Publius Cimber.', 1), ('    But I am constant as the northern star,', 1), (\"    Of whose true-fix'd and resting quality\", 1), ('    There is no fellow in the firmament.', 1), (\"    But there's but one in all doth hold his place.\", 1), (\"    So in the world, 'tis furnish'd well with men,\", 1), ('    That unassailable holds on his rank,', 1), ('    And constant do remain to keep him so.', 1), ('  CASCA. Speak, hands, for me!', 1), ('                                  and Marcus Brutus stab Caesar.', 1), ('  CINNA. Liberty! Freedom! Tyranny is dead!', 1), ('    \"Liberty, freedom, and enfranchisement!\"', 1), ('  BRUTUS. People and senators, be not affrighted,', 1), (\"    Fly not, stand still; ambition's debt is paid.\", 1), ('  CASCA. Go to the pulpit, Brutus.', 1), (\"  BRUTUS. Where's Publius?\", 1), ('  CINNA. Here, quite confounded with this mutiny.', 1), ('  BRUTUS. Talk not of standing. Publius, good cheer,', 1), ('    Nor to no Roman else. So tell them, Publius.', 1), ('  CASSIUS. And leave us, Publius, lest that the people', 1), ('    Rushing on us should do your age some mischief.', 1), ('  TREBONIUS. Fled to his house amazed.', 1), ('    As it were doomsday.', 1), ('  BRUTUS. Fates, we will know your pleasures.', 1), (\"    That we shall die, we know; 'tis but the time\", 1), ('    His time of fearing death. Stoop, Romans, stoop,', 1), (\"    And waving our red weapons o'er our heads,\", 1), ('    Let\\'s all cry, \"Peace, freedom, and liberty!\"', 1), ('  CASSIUS. Stoop then, and wash. How many ages hence', 1), ('    Shall this our lofty scene be acted over', 1), ('  BRUTUS. How many times shall Caesar bleed in sport,', 1), ('    No worthier than the dust!', 1), ('  CASSIUS. So oft as that shall be,', 1), ('    The men that gave their country liberty.', 1), ('  CASSIUS. Ay, every man away.', 1), ('  SERVANT. Thus, Brutus, did my master bid me kneel,', 1), ('    Thus did Mark Antony bid me fall down,', 1), ('    Brutus is noble, wise, valiant, and honest;', 1), (\"    Say I fear'd Caesar, honor'd him, and loved him.\", 1), ('    May safely come to him and be resolved', 1), ('    How Caesar hath deserved to lie in death,', 1), ('    Thorough the hazards of this untrod state', 1), ('  BRUTUS. Thy master is a wise and valiant Roman;', 1), ('    I never thought him worse.', 1), ('    He shall be satisfied and, by my honor,', 1), ('                          Re-enter Antony.', 1), ('    Are all thy conquests, glories, triumphs, spoils,', 1), ('    I know not, gentlemen, what you intend,', 1), ('    Who else must be let blood, who else is rank.', 1), (\"    As Caesar's death's hour, nor no instrument\", 1), ('    Of half that worth as those your swords, made rich', 1), ('    I shall not find myself so apt to die;', 1), ('    As here by Caesar, and by you cut off,', 1), ('    The choice and master spirits of this age.', 1), ('    As, by our hands and this our present act', 1), ('    You see we do, yet see you but our hands', 1), ('    Our hearts you see not; they are pitiful;', 1), ('    As fire drives out fire, so pity pity-', 1), ('    To you our swords have leaden points, Mark Antony;', 1), (\"    Of brothers' temper, do receive you in\", 1), ('    In the disposing of new dignities.', 1), ('    Let each man render me his bloody hand.', 1), ('    Next, Caius Cassius, do I take your hand;', 1), ('    Now, Decius Brutus, yours; now yours, Metellus;', 1), ('    Yours, Cinna; and, my valiant Casca, yours;', 1), ('    Gentlemen all- alas, what shall I say?', 1), ('    My credit now stands on such slippery ground,', 1), ('    That one of two bad ways you must conceit me,', 1), ('    Either a coward or a flatterer.', 1), (\"    That I did love thee, Caesar, O, 'tis true!\", 1), ('    If then thy spirit look upon us now,', 1), ('    Shall it not grieve thee dearer than thy death', 1), ('    Most noble! In the presence of thy corse?', 1), ('    Weeping as fast as they stream forth thy blood,', 1), (\"    Pardon me, Julius! Here wast thou bay'd, brave hart,\", 1), ('    Here didst thou fall, and here thy hunters stand,', 1), ('    And this, indeed, O world, the heart of thee.', 1), ('  CASSIUS. Mark Antony-', 1), ('  ANTONY. Pardon me, Caius Cassius.', 1), ('    The enemies of Caesar shall say this:', 1), ('    But what compact mean you to have with us?', 1), ('    Or shall we on, and not depend on you?', 1), ('  ANTONY. Therefore I took your hands, but was indeed', 1), (\"    Sway'd from the point by looking down on Caesar.\", 1), ('    Friends am I with you all and love you all,', 1), ('    That were you, Antony, the son of Caesar,', 1), ('    You should be satisfied.', 1), ('    Produce his body to the marketplace,', 1), ('    And in the pulpit, as becomes a friend,', 1), ('    Speak in the order of his funeral.', 1), ('  BRUTUS. You shall, Mark Antony.', 1), ('  CASSIUS. Brutus, a word with you.', 1), ('    [Aside to Brutus.] You know not what you do. Do not consent', 1), ('    Know you how much the people may be moved', 1), ('    Have all true rites and lawful ceremonies.', 1), (\"  BRUTUS. Mark Antony, here, take you Caesar's body.\", 1), ('    But speak all good you can devise of Caesar,', 1), (\"    And say you do't by our permission,\", 1), ('    About his funeral. And you shall speak', 1), ('    In the same pulpit whereto I am going,', 1), ('    I do desire no more.', 1), ('  BRUTUS. Prepare the body then, and follow us.', 1), ('                                          Exeunt all but Antony.', 1), ('    That I am meek and gentle with these butchers!', 1), ('    That ever lived in the tide of times. ', 1), ('    To beg the voice and utterance of my tongue)', 1), ('    Domestic fury and fierce civil strife', 1), ('    Shall cumber all the parts of Italy;', 1), ('    And dreadful objects so familiar,', 1), ('    All pity choked with custom of fell deeds,', 1), (\"    And Caesar's spirit ranging for revenge,\", 1), (\"    Shall in these confines with a monarch's voice\", 1), ('    That this foul deed shall smell above the earth', 1), ('    With carrion men, groaning for burial.', 1), ('  SERVANT. I do, Mark Antony.', 1), ('  SERVANT. He did receive his letters, and is coming,', 1), ('    O Caesar!                                     Sees the body.', 1), ('    Seeing those beads of sorrow stand in thine,', 1), ('  SERVANT. He lies tonight within seven leagues of Rome.', 1), ('    No Rome of safety for Octavius yet;', 1), ('    Thou shalt not back till I have borne this corse', 1), ('    According to the which thou shalt discourse', 1), ('    To young Octavius of the state of things.', 1), ('Enter Brutus and Cassius, and a throng of Citizens.', 1), ('  CITIZENS. We will be satisfied! Let us be satisfied!', 1), (\"    Those that will hear me speak, let 'em stay here;\", 1), ('    Those that will follow Cassius, go with him;', 1), ('  SECOND CITIZEN. I will hear Cassius and compare their reasons,', 1), ('                               Exit Cassius, with some Citizens.', 1), ('  BRUTUS. Be patient till the last.', 1), ('    wisdom, and awake your senses, that you may the better judge.', 1), (\"    him I say that Brutus' love to Caesar was no less than his.\", 1), ('    then that friend demand why Brutus rose against Caesar, this', 1), ('is', 1), ('    more. Had you rather Caesar were living and die all slaves,', 1), ('than', 1), ('valor,', 1), ('    offended. Who is here so vile that will not love his country?', 1), ('  BRUTUS. Then none have I offended. I have done no more to', 1), ('death.', 1), (\"              Enter Antony and others, with Caesar's body.\", 1), ('    no hand in his death, shall receive the benefit of his dying,', 1), ('    place in the commonwealth, as which of you shall not? With', 1), ('this I', 1), ('    have the same dagger for myself, when it shall please my', 1), ('country', 1), ('    to need my death.', 1), ('  FIRST CITIZEN. Bring him with triumph home unto his house.', 1), (\"  FOURTH CITIZEN. Caesar's better parts\", 1), (\"  FIRST CITIZEN. We'll bring him to his house with shouts and\", 1), ('  BRUTUS. My countrymen-', 1), ('  FIRST CITIZEN. Peace, ho!', 1), ('  BRUTUS. Good countrymen, let me depart alone,', 1), ('    And, for my sake, stay here with Antony.', 1), (\"  FOURTH CITIZEN. 'Twere best he speak no harm of Brutus here.\", 1), (\"  THIRD CITIZEN. Nay, that's certain.\", 1), ('    The evil that men do lives after them,', 1), ('    The good is oft interred with their bones;', 1), ('    Hath told you Caesar was ambitious;', 1), ('    And Brutus is an honorable man.', 2), ('    Whose ransoms did the general coffers fill. ', 1), ('    Did this in Caesar seem ambitious?', 1), ('    When that the poor have cried, Caesar hath wept;', 1), ('    Ambition should be made of sterner stuff:', 1), ('    Yet Brutus says he was ambitious,', 2), ('    You all did see that on the Lupercal', 1), ('    Which he did thrice refuse. Was this ambition?', 1), ('    And sure he is an honorable man.', 1), ('    What cause withholds you then to mourn for him?', 1), ('    O judgement, thou art fled to brutish beasts,', 1), ('    And men have lost their reason. Bear with me;', 1), ('    And I must pause till it come back to me.', 1), ('  FIRST CITIZEN. Methinks there is much reason in his sayings.', 1), ('    Caesar has had great wrong.', 1), ('    I fear there will a worse come in his place.', 1), ('  SECOND CITIZEN. Poor soul, his eyes are red as fire with', 1), ('weeping.', 1), ('  ANTONY. But yesterday the word of Caesar might', 1), ('    Have stood against the world. Now lies he there,', 1), ('    And none so poor to do him reverence.', 1), ('    I should do Brutus wrong and Cassius wrong,', 1), ('    Who, you all know, are honorable men.', 1), ('    I will not do them wrong; I rather choose', 1), ('    To wrong the dead, to wrong myself and you,', 1), (\"    But here's a parchment with the seal of Caesar; \", 1), ('    Which, pardon me, I do not mean to read-', 1), ('    And dip their napkins in his sacred blood,', 1), ('    And, dying, mention it within their wills,', 1), ('    Unto their issue.', 1), ('  ANTONY. Have patience, gentle friends, I must not read it;', 1), ('    It is not meet you know how Caesar loved you.', 1), ('    It will inflame you, it will make you mad.', 1), ('    For if you should, O, what would come of it!', 1), (\"  FOURTH CITIZEN. Read the will; we'll hear it, Antony.\", 1), (\"    I have o'ershot myself to tell you of it.\", 1), ('    I fear I wrong the honorable men', 1), (\"    Whose daggers have stabb'd Caesar; I do fear it.\", 1), ('    Read the will!', 1), ('    Shall I descend? And will you give me leave?', 1), ('  ALL. Come down.', 1), ('  THIRD CITIZEN. You shall have leave.', 1), ('  FOURTH CITIZEN. A ring, stand round.', 1), ('  SECOND CITIZEN. Room for Antony, most noble Antony.', 1), ('  ANTONY. Nay, press not so upon me, stand far off. ', 1), ('  ALL. Stand back; room, bear back!', 1), ('  ANTONY. If you have tears, prepare to shed them now.', 1), ('    The first time ever Caesar put it on;', 1), (\"    'Twas on a summer's evening, in his tent,\", 1), ('    See what a rent the envious Casca made;', 1), (\"    Mark how the blood of Caesar follow'd it,\", 1), ('    Judge, O you gods, how dearly Caesar loved him!', 1), ('    This was the most unkindest cut of all;', 1), ('    For when the noble Caesar saw him stab,', 1), (\"    Ingratitude, more strong than traitors' arms,\", 1), ('    And, in his mantle muffling up his face, ', 1), (\"    Even at the base of Pompey's statue,\", 1), ('    Which all the while ran blood, great Caesar fell.', 1), ('    Then I, and you, and all of us fell down,', 1), (\"    Whilst bloody treason flourish'd over us.\", 1), ('    O, now you weep, and I perceive you feel', 1), ('    The dint of pity. These are gracious drops.', 1), ('    Kind souls, what weep you when you but behold', 1), (\"    Here is himself, marr'd, as you see, with traitors.\", 1), ('  FOURTH CITIZEN. O traitors villains!', 1), ('  SECOND CITIZEN. We will be revenged.', 1), ('  ALL. Revenge! About! Seek! Burn! Fire! Kill!', 1), ('    Slay! Let not a traitor live!', 1), ('  ANTONY. Stay, countrymen.', 1), ('  FIRST CITIZEN. Peace there! Hear the noble Antony. ', 1), (\"  SECOND CITIZEN. We'll hear him, we'll follow him, we'll die\", 1), ('  ANTONY. Good friends, sweet friends, let me not stir you up', 1), ('    To such a sudden flood of mutiny.', 1), ('    What private griefs they have, alas, I know not,', 1), ('    That made them do it. They are wise and honorable,', 1), ('    And will, no doubt, with reasons answer you.', 1), ('    I come not, friends, to steal away your hearts.', 1), ('    That love my friend, and that they know full well', 1), (\"    To stir men's blood. I only speak right on;\", 1), ('    And bid them speak for me. But were I Brutus,', 1), ('    And Brutus Antony, there were an Antony ', 1), ('    In every wound of Caesar that should move', 1), ('    The stones of Rome to rise and mutiny.', 1), (\"  ALL. We'll mutiny.\", 1), (\"  FIRST CITIZEN. We'll burn the house of Brutus.\", 1), ('  ANTONY. Yet hear me, countrymen; yet hear me speak.', 1), ('  ALL. Peace, ho! Hear Antony, most noble Antony!', 1), ('  ANTONY. Why, friends, you go to do you know not what.', 1), ('    Wherein hath Caesar thus deserved your loves?', 1), ('    To every Roman citizen he gives,', 1), ('  THIRD CITIZEN. O royal Caesar!', 1), ('  ANTONY. Hear me with patience.', 1), ('  ALL. Peace, ho! ', 1), ('    And to your heirs forever- common pleasures,', 1), ('    To walk abroad and recreate yourselves.', 1), ('  FIRST CITIZEN. Never, never. Come, away, away!', 1), ('    Take up the body.', 1), ('    Take thou what course thou wilt.', 1), ('  SERVANT. Sir, Octavius is already come to Rome.', 1), ('  ANTONY. And thither will I straight to visit him.', 1), ('    And in this mood will give us anything.', 1), ('  SERVANT. I heard him say Brutus and Cassius', 1), ('Enter Cinna the poet.', 1), ('    I have no will to wander forth of doors,', 1), ('    Yet something leads me forth.', 1), ('                        Enter Citizens.', 1), ('  SECOND CITIZEN. Whither are you going?', 1), ('  THIRD CITIZEN. Where do you dwell?', 1), ('  FOURTH CITIZEN. Are you a married man or a bachelor?', 1), ('  SECOND CITIZEN. Answer every man directly.', 1), ('  FIRST CITIZEN. Ay, and briefly.', 1), ('  CINNA. What is my name? Whither am I going? Where do I dwell?', 1), ('directly ', 1), ('    and briefly, wisely and truly: wisely I say, I am a bachelor.', 1), (\"  SECOND CITIZEN. That's as much as to say they are fools that\", 1), ('marry.', 1), (\"    You'll bear me a bang for that, I fear. Proceed directly.\", 1), ('  FIRST CITIZEN. As a friend or an enemy?', 1), ('  SECOND CITIZEN. That matter is answered directly.', 1), ('  FOURTH CITIZEN. For your dwelling, briefly.', 1), ('  CINNA. Truly, my name is Cinna.', 1), (\"  FIRST CITIZEN. Tear him to pieces, he's a conspirator.\", 1), ('  CINNA. I am Cinna the poet, I am Cinna the poet.', 1), ('    verses.', 1), ('  CINNA. I am not Cinna the conspirator.', 1), (\"  FOURTH CITIZEN. It is no matter, his name's Cinna. Pluck but\", 1), ('his', 1), ('    name out of his heart, and turn him going.', 1), ('some ', 1), ('table.', 1), ('  OCTAVIUS. Your brother too must die; consent you, Lepidus?', 1), ('  LEPIDUS. I do consent-', 1), ('  LEPIDUS. Upon condition Publius shall not live,', 1), (\"    But, Lepidus, go you to Caesar's house,\", 1), ('    How to cut off some charge in legacies.', 1), ('    In our black sentence and proscription.', 1), ('  ANTONY. Octavius, I have seen more days than you,', 1), ('    And having brought our treasure where we will,', 1), ('    Then take we down his load and turn him off,', 1), ('    Like to the empty ass, to shake his ears', 1), ('    And graze in commons.', 1), (\"    But he's a tried and valiant soldier.\", 1), ('  ANTONY. So is my horse, Octavius, and for that', 1), ('    I do appoint him store of provender.', 1), (\"    His corporal motion govern'd by my spirit.\", 1), ('    And, in some taste, is Lepidus but so:', 1), (\"    He must be taught, and train'd, and bid go forth; \", 1), ('    A barren-spirited fellow, one that feeds', 1), (\"    Our best friends made, our means stretch'd;\", 1), ('    How covert matters may be best disclosed,', 1), ('    And open perils surest answered.', 1), ('  OCTAVIUS. Let us do so, for we are at the stake,', 1), ('    And some that smile have in their hearts, I fear,', 1), ('Enter Brutus, Lucilius, Lucius, and Soldiers; Titinius and', 1), ('Pindarus meet them.', 1), ('  BRUTUS. Stand, ho!', 1), ('  BRUTUS. What now, Lucilius, is Cassius near?', 1), ('    To do you salutation from his master.', 1), ('    Hath given me some worthy cause to wish', 1), ('    Things done undone; but if he be at hand,', 1), ('  PINDARUS. I do not doubt', 1), ('    How he received you. Let me be resolved.', 1), ('    But not with such familiar instances,', 1), ('    Nor with such free and friendly conference,', 1), ('    A hot friend cooling. Ever note, Lucilius,', 1), ('    But hollow men, like horses hot at hand,', 1), ('    They fall their crests and like deceitful jades', 1), ('    Sink in the trial. Comes his army on?', 1), (\"  LUCILIUS. They meant his night in Sard is to be quarter'd;\", 1), ('    The greater part, the horse in general,', 1), ('    Are come with Cassius.                     Low march within.', 1), ('  BRUTUS. Hark, he is arrived.', 1), ('    March gently on to meet him.', 1), ('                  Enter Cassius and his Powers. ', 1), ('  CASSIUS. Stand, ho!', 1), ('  CASSIUS. Most noble brother, you have done me wrong.', 1), ('  CASSIUS. Brutus, this sober form of yours hides wrongs,', 1), ('    Speak your griefs softly, I do know you well.', 1), ('    Before the eyes of both our armies here,', 1), ('    Which should perceive nothing but love from us,', 1), ('    And I will give you audience.', 1), ('  CASSIUS. Pindarus,', 1), ('  BRUTUS. Lucilius, do you the like, and let no man', 1), (\"Brutus' tent.\", 1), ('Enter Brutus and Cassius.', 1), ('    For taking bribes here of the Sardians,', 1), ('    Wherein my letters, praying on his side,', 1), ('    Because I knew the man, were slighted off.', 1), ('    To sell and mart your offices for gold', 1), ('    You know that you are Brutus that speaks this,', 1), ('    Or, by the gods, this speech were else your last.', 1), ('    And chastisement doth therefore hide his head. ', 1), ('  CASSIUS. Chastisement?', 1), (\"    Did not great Julius bleed for justice' sake?\", 1), ('    And not for justice? What, shall one of us,', 1), ('    But for supporting robbers, shall we now', 1), ('    Contaminate our fingers with base bribes', 1), ('    And sell the mighty space of our large honors', 1), ('    For so much trash as may be grasped thus?', 1), ('    To hedge me in. I am a soldier, I,', 1), ('    To make conditions.', 1), ('  BRUTUS. Go to, you are not, Cassius.', 1), ('  BRUTUS. I say you are not. ', 1), ('  BRUTUS. Away, slight man!', 1), ('  BRUTUS. Hear me, for I will speak.', 1), ('    Shall I be frighted when a madman stares?', 1), ('  CASSIUS. O gods, ye gods! Must I endure all this?', 1), ('  BRUTUS. All this? Ay, more. Fret till your proud heart break.', 1), ('    Must I observe you? Must I stand and crouch', 1), ('    You shall digest the venom of your spleen,', 1), ('    Though it do split you, for, from this day forth,', 1), ('    When you are waspish.', 1), ('    Let it appear so, make your vaunting true, ', 1), ('    I said, an elder soldier, not a better.', 1), ('    Did I say \"better\"?', 1), ('  BRUTUS. If you did, I care not.', 1), ('  BRUTUS. No.', 1), ('  BRUTUS. For your life you durst not.', 1), ('  CASSIUS. Do not presume too much upon my love;', 1), (\"    For I am arm'd so strong in honesty,\", 1), ('    That they pass by me as the idle wind', 1), ('    For I can raise no money by vile means.', 1), ('    To you for gold to pay my legions,', 1), ('    Which you denied me. Was that done like Cassius?', 1), (\"    Should I have answer'd Caius Cassius so?\", 1), ('    To lock such rascal counters from his friends,', 1), ('    Be ready, gods, with all your thunderbolts,', 1), ('  CASSIUS. I denied you not.', 1), ('  BRUTUS. You did.', 1), (\"    A friend should bear his friend's infirmities,\", 1), ('    But Brutus makes mine greater than they are.', 1), ('  BRUTUS. I do not like your faults.', 1), ('  CASSIUS. A friendly eye could never see such faults.', 1), (\"  BRUTUS. A flatterer's would not, though they do appear\", 1), ('    As huge as high Olympus.', 1), ('    For Cassius is aweary of the world:', 1), (\"    Check'd like a bondman; all his faults observed,\", 1), (\"    Set in a notebook, learn'd and conn'd by rote,\", 1), ('    To cast into my teeth. O, I could weep', 1), ('    I, that denied thee gold, will give my heart.', 1), ('    Strike, as thou didst at Caesar, for I know,', 1), ('    Than ever thou lovedst Cassius.', 1), ('  BRUTUS. Sheathe your dagger. ', 1), ('    Be angry when you will, it shall have scope;', 1), ('    Do what you will, dishonor shall be humor.', 1), ('    O Cassius, you are yoked with a lamb,', 1), ('    That carries anger as the flint bears fire,', 1), ('    And straight is cold again.', 1), ('  CASSIUS. Hath Cassius lived', 1), ('  BRUTUS. And my heart too.', 1), (\"  BRUTUS. What's the matter?\", 1), ('  CASSIUS. Have not you love enough to bear with me', 1), ('    Makes me forgetful?', 1), ('  BRUTUS. Yes, Cassius, and from henceforth,', 1), ('  POET. [Within.] Let me go in to see the generals.', 1), ('    They be alone.', 1), ('  POET. [Within.] Nothing but death shall stay me.', 1), ('      Enter Poet, followed by Lucilius, Titinius, and Lucius.', 1), ('    Love, and be friends, as two such men should be;', 1), (\"    For I have seen more years, I'm sure, than ye.\", 1), ('  CASSIUS. Ha, ha! How vilely doth this cynic rhyme!', 1), ('    Companion, hence!', 1), ('  BRUTUS. Lucilius and Titinius, bid the commanders ', 1), ('    Prepare to lodge their companies tonight.', 1), ('  CASSIUS. I did not think you could have been so angry.', 1), ('  CASSIUS. Of your philosophy you make no use,', 1), ('    If you give place to accidental evils.', 1), ('  CASSIUS. Ha? Portia?', 1), ('  BRUTUS. She is dead.', 1), ('    Upon what sickness?', 1), ('  BRUTUS. Impatient of my absence,', 1), ('    And grief that young Octavius with Mark Antony', 1), ('    Have made themselves so strong- for with her death', 1), ('    That tidings came- with this she fell distract,', 1), (\"    And (her attendants absent) swallow'd fire.\", 1), ('  CASSIUS. And died so? ', 1), ('  BRUTUS. Even so.', 1), ('  CASSIUS. O ye immortal gods!', 1), ('    In this I bury all unkindness, Cassius.              Drinks.', 1), ('  CASSIUS. My heart is thirsty for that noble pledge.', 1), (\"  I cannot drink too much of Brutus' love.               Drinks.\", 1), ('                 Re-enter Titinius, with Messala.', 1), ('    Now sit we close about this taper here,', 1), ('  CASSIUS. Portia, art thou gone?', 1), ('    That young Octavius and Mark Antony', 1), ('    Bending their expedition toward Philippi.', 1), ('  MESSALA. Myself have letters of the selfsame tenure.', 1), ('    Octavius, Antony, and Lepidus', 1), ('    Have put to death an hundred senators.', 1), ('  BRUTUS. There in our letters do not well agree;', 1), ('    Mine speak of seventy senators that died', 1), ('    By their proscriptions, Cicero being one.', 1), ('  CASSIUS. Cicero one!', 1), ('  MESSALA. Cicero is dead,', 1), ('    And by that order of proscription.', 1), ('    Had you your letters from your wife, my lord?', 1), ('  BRUTUS. No, Messala.', 1), ('  MESSALA. Nor nothing in your letters writ of her?', 1), ('  MESSALA. That, methinks, is strange.', 1), ('  MESSALA. No, my lord.', 1), ('  MESSALA. Then like a Roman bear the truth I tell:', 1), ('    I have the patience to endure it now.', 1), ('    Of marching to Philippi presently?', 1), ('  CASSIUS. I do not think it good.', 1), ('    So shall he waste his means, weary his soldiers,', 1), ('  BRUTUS. Good reasons must of force give place to better. ', 1), ('    For they have grudged us contribution.', 1), ('    By them shall make a fuller number up,', 1), ('    From which advantage shall we cut him off', 1), ('  CASSIUS. Hear me, good brother.', 1), ('    The enemy increaseth every day;', 1), ('    Omitted, all the voyage of their life', 1), ('    Is bound in shallows and in miseries.', 1), ('    On such a full sea are we now afloat, ', 1), ('    And we must take the current when it serves,', 1), (\"    We'll along ourselves and meet them at Philippi.\", 1), ('  BRUTUS. The deep of night is crept upon our talk,', 1), ('    There is no more to say?', 1), ('  BRUTUS. Lucius!', 1), ('    Good night, Titinius; noble, noble Cassius,', 1), ('  CASSIUS. O my dear brother!', 1), (\"    Never come such division 'tween our souls!\", 1), ('    Let it not, Brutus.', 1), ('  CASSIUS. Good night, my lord.', 1), ('  BRUTUS. Good night, good brother.', 1), ('               Re-enter Lucius, with the gown.', 1), ('    Give me the gown. Where is thy instrument?', 1), ('  LUCIUS. Here in the tent.', 1), (\"    Poor knave, I blame thee not, thou art o'erwatch'd.\", 1), ('    It may be I shall raise you by and by', 1), ('    On business to my brother Cassius.', 1), ('  VARRO. So please you, we will stand and watch your pleasure.', 1), ('    It may be I shall otherwise bethink me.', 1), (\"    Look Lucius, here's the book I sought for so;\", 1), ('    I put it in the pocket of my gown.', 1), ('  LUCIUS. I was sure your lordship did not give it me.', 1), ('    And touch thy instrument a strain or two?', 1), (\"  LUCIUS. Ay, my lord, an't please you.\", 1), ('  LUCIUS. It is my duty, sir.', 1), ('    I know young bloods look for a time of rest.', 1), ('  BRUTUS. It was well done, and thou shalt sleep again;', 1), ('    Layest thou thy leaden mace upon my boy', 1), (\"    I'll take it from thee; and, good boy, good night.\", 1), (\"    Let me see, let me see; is not the leaf turn'd down\", 1), ('    Where I left reading? Here it is, I think.        Sits down.', 1), ('                 Enter the Ghost of Caesar.', 1), ('    It comes upon me. Art thou anything? ', 1), ('  GHOST. Thy evil spirit, Brutus.', 1), ('  GHOST. To tell thee thou shalt see me at Philippi.', 1), ('  BRUTUS. Well, then I shall see thee again?', 1), ('    Now I have taken heart thou vanishest.', 1), ('    Ill spirit, I would hold more talk with thee.', 1), ('  LUCIUS. The strings, my lord, are false.', 1), ('  BRUTUS. Yes, that thou didst. Didst thou see anything? ', 1), ('    [To Varro.] Fellow thou, awake!', 1), ('  CLAUDIO. My lord?', 1), ('  VARRO. CLAUDIO. Did we, my lord?', 1), ('  VARRO. No, my lord, I saw nothing.', 1), ('  CLAUDIO. Nor I, my lord.', 1), ('  BRUTUS. Go and commend me to my brother Cassius;', 1), ('    And we will follow.', 1), ('  VARRO. CLAUDIO. It shall be done, my lord.             Exeunt.', 1), ('The plains of Philippi.', 1), ('Enter Octavius, Antony, and their Army.', 1), ('    But keep the hills and upper regions.', 1), ('    It proves not so. Their battles are at hand;', 1), ('    They mean to warn us at Philippi here,', 1), ('    To fasten in our thoughts that they have courage;', 1), ('  MESSENGER. Prepare you, generals.', 1), ('    The enemy comes on in gallant show; ', 1), ('    And something to be done immediately.', 1), ('  ANTONY. Why do you cross me in this exigent?', 1), ('           Lucilius, Titinius, Messala, and others.', 1), ('  CASSIUS. Stand fast, Titinius; we must out and talk.', 1), ('  OCTAVIUS. Mark Antony, shall we give sign of battle?', 1), ('  ANTONY. No, Caesar, we will answer on their charge.', 1), ('    Make forth, the generals would have some words.', 1), ('  OCTAVIUS. Stir not until the signal not until the signal.', 1), ('  OCTAVIUS. Not that we love words better, as you do.', 1), ('  ANTONY. In your bad strokes, Brutus, you give good words.', 1), ('    Crying \"Long live! Hail, Caesar!\"', 1), ('    But for your words, they rob the Hybla bees,', 1), ('  BRUTUS. O, yes, and soundless too,', 1), (\"    You show'd your teeth like apes, and fawn'd like hounds,\", 1), (\"    And bow'd like bondmen, kissing Caesar's feet;\", 1), ('    This tongue had not offended so today,', 1), ('    I draw a sword against conspirators;', 1), (\"    Never, till Caesar's three and thirty wounds\", 1), ('    Have added slaughter to the sword of traitors.', 1), (\"  BRUTUS. Caesar, thou canst not die by traitors' hands,\", 1), (\"    Unless thou bring'st them with thee.\", 1), ('  BRUTUS. O, if thou wert the noblest of thy strain,', 1), ('  CASSIUS. A peevish school boy, worthless of such honor,', 1), ('  OCTAVIUS. Come, Antony, away!', 1), ('    Defiance, traitors, hurl we in your teeth.', 1), ('    If not, when you have stomachs.', 1), ('  CASSIUS. Why, now, blow and, swell billow, and swim bark!', 1), ('  LUCILIUS. [Stands forth.] My lord?', 1), ('  CASSIUS. Messala!', 1), ('    Was Cassius born. Give me thy hand, Messala.', 1), ('    Be thou my witness that, against my will,', 1), ('    And his opinion. Now I change my mind,', 1), ('    And in their steads do ravens, crows, and kites', 1), ('    As we were sickly prey. Their shadows seem', 1), ('  MESSALA. Believe not so.', 1), ('  BRUTUS. Even so, Lucilius.', 1), ('    The gods today stand friendly that we may,', 1), ('    But, since the affairs of men rest still incertain,', 1), ('  BRUTUS. Even by the rule of that philosophy', 1), ('    By which I did blame Cato for the death', 1), ('    For fear of what might fall, so to prevent', 1), ('    The time of life- arming myself with patience', 1), ('    To stay the providence of some high powers', 1), ('    That govern us below.', 1), ('  BRUTUS. No, Cassius, no. Think not, thou noble Roman,', 1), ('    Must end that work the ides of March begun.', 1), ('    Forever, and forever, farewell, Cassius!', 1), (\"    If we do meet again, we'll smile indeed;\", 1), ('  BRUTUS. Ride, ride, Messala, ride, and give these bills', 1), ('    Unto the legions on the other side.             Loud alarum.', 1), ('    Let them set on at once, for I perceive', 1), ('Alarums. Enter Cassius and Titinius.', 1), ('    This ensign here of mine was turning back;', 1), ('  TITINIUS. O Cassius, Brutus gave the word too early,', 1), ('    Took it too eagerly. His soldiers fell to spoil,', 1), ('    Whilst we by Antony are all enclosed.', 1), ('  PINDARUS. Fly further off, my lord, fly further off;', 1), ('    Mark Antony is in your tents, my lord;', 1), ('    Fly, therefore, noble Cassius, fly far off.', 1), ('  CASSIUS. This hill is far enough. Look, look, Titinius:', 1), ('    Are those my tents where I perceive the fire?', 1), ('  TITINIUS. They are, my lord. ', 1), ('  CASSIUS. Titinius, if thou lovest me,', 1), ('    Mount thou my horse and hide thy spurs in him,', 1), ('    Till he have brought thee up to yonder troops', 1), ('    And here again, that I may rest assured', 1), ('                                      Pindarus ascends the hill.', 1), ('    My life is run his compass. Sirrah, what news?', 1), ('  PINDARUS. [Above.] O my lord!', 1), ('  CASSIUS. What news?', 1), ('  PINDARUS. [Above.] Titinius is enclosed round about', 1), ('    With horsemen, that make to him on the spur;', 1), ('    Yet he spurs on. Now they are almost on him.', 1), ('  CASSIUS. Come down; behold no more.', 1), ('    O, coward that I am, to live so long,', 1), ('    Come hither, sirrah.', 1), ('    In Parthia did I take thee prisoner,', 1), ('    Thou shouldst attempt it. Come now, keep thine oath;', 1), (\"    And when my face is cover'd, as 'tis now,\", 1), ('    Guide thou the sword. [Pindarus stabs him.] Caesar, thou art', 1), ('      revenged,', 1), ('    Where never Roman shall take note of him.              Exit. ', 1), ('  MESSALA. It is but change, Titinius, for Octavius', 1), (\"    As Cassius' legions are by Antony.\", 1), ('  TITINIUS. All disconsolate,', 1), ('  MESSALA. Is not that he that lies upon the ground?', 1), ('  TITINIUS. He lies not like the living. O my heart!', 1), ('  MESSALA. Is not that he?', 1), (\"    So in his red blood Cassius' day is set,\", 1), ('    The sun of Rome is set! Our day is gone;', 1), ('    Mistrust of my success hath done this deed. ', 1), ('    Why dost thou show to the apt thoughts of men', 1), ('  TITINIUS. What, Pindarus! Where art thou, Pindarus?', 1), ('  MESSALA. Seek him, Titinius, whilst I go to meet', 1), ('    The noble Brutus, thrusting this report', 1), ('    As tidings of this sight.', 1), ('    And I will seek for Pindarus the while.        Exit Messala.', 1), ('    Why didst thou send me forth, brave Cassius?', 1), ('    But, hold thee, take this garland on thy brow;', 1), ('    Thy Brutus bid me give it thee, and I', 1), ('    And see how I regarded Caius Cassius.', 1), (\"    By your leave, gods, this is a Roman's part.\", 1), (\"    Come, Cassius' sword, and find Titinius' heart.\", 1), ('                                                  Kills himself.', 1), ('  BRUTUS. Where, where, Messala, doth his body lie?', 1), (\"  BRUTUS. Titinius' face is upward.\", 1), ('    Thy spirit walks abroad, and turns our swords', 1), ('    In our own proper entrails.                     Low alarums.', 1), (\"    Look whe'er he have not crown'd dead Cassius! \", 1), ('  BRUTUS. Are yet two Romans living such as these?', 1), ('    The last of all the Romans, fare thee well!', 1), ('    I shall find time, Cassius, I shall find time.', 1), ('    Come therefore, and to Thasos send his body;', 1), ('    Lest it discomfort us. Lucilius, come,', 1), ('    And come, young Cato; let us to the field.', 1), ('Alarum. Enter, fighting, Soldiers of both armies; then Brutus,', 1), ('young Cato,', 1), ('  BRUTUS. Yet, countrymen, O, yet hold up your heads!', 1), ('  CATO. What bastard doth not? Who will go with me?', 1), ('    I am the son of Marcus Cato, ho!', 2), ('  BRUTUS. And I am Brutus, Marcus Brutus, I;', 1), (\"    Brutus, my country's friend; know me for Brutus!       Exit.\", 1), ('    Why, now thou diest as bravely as Titinius,', 1), (\"    And mayst be honor'd, being Cato's son.\", 1), ('  LUCILIUS. Only I yield to die.', 1), ('    [Offers money.] There is so much that thou wilt kill me', 1), ('straight:', 1), (\"    Kill Brutus, and be honor'd in his death.\", 1), (\"  SECOND SOLDIER. Room, ho! Tell Antony, Brutus is ta'en.\", 1), ('                         Enter Antony.', 1), ('    I dare assure thee that no enemy', 1), ('    Shall ever take alive the noble Brutus;', 1), ('    The gods defend him from so great a shame!', 1), ('    He will be found like Brutus, like himself.', 1), ('  ANTONY. This is not Brutus, friend, but, I assure you,', 1), ('    Give him all kindness; I had rather have', 1), ('    And see wheer Brutus be alive or dead,', 1), (\"    And bring us word unto Octavius' tent\", 1), ('    How everything is chanced.                           Exeunt.', 1), ('    It is a deed in fashion. Hark thee, Clitus.        Whispers.', 1), ('  BRUTUS. Peace then, no words.', 1), ('  CLITUS. Now is that noble vessel full of grief,', 1), ('    That it runs over even at his eyes.', 1), ('  BRUTUS. Come hither, good Volumnius, list a word. ', 1), ('  VOLUMNIUS. What says my lord?', 1), ('    Two several times by night; at Sardis once,', 1), ('    And this last night here in Philippi fields.', 1), ('    I know my hour is come.', 1), ('    Thou seest the world, Volumnius, how it goes;', 1), (\"    Thou know'st that we two went to school together;\", 1), ('    Even for that our love of old, I prithee,', 1), (\"  VOLUMNIUS. That's not an office for a friend, my lord.\", 1), ('  CLITUS. Fly, fly, my lord, there is no tarrying here.', 1), ('    Strato, thou hast been all this while asleep; ', 1), ('    My heart doth joy that yet in all my life', 1), ('    I found no man but he was true to me.', 1), ('    By this vile conquest shall attain unto.', 1), (\"    So, fare you well at once, for Brutus' tongue\", 1), ('    Night hangs upon mine eyes, my bones would rest', 1), ('                            Alarum. Cry within, \"Fly, fly, fly!\"', 1), ('  CLITUS. Fly, my lord, fly.', 1), ('  BRUTUS. Hence! I will follow.', 1), ('    I prithee, Strato, stay thou by thy lord.', 1), ('    Thou art a fellow of a good respect;', 1), ('    Thy life hath had some smatch of honor in it.', 1), ('  BRUTUS. Farewell, good Strato.              Runs on his sword.', 1), ('    Caesar, now be still;', 1), (\"    I kill'd not thee with half so good a will.            Dies.\", 1), ('     Alarum. Retreat. Enter Octavius, Antony, Messala,', 1), ('                 Lucilius, and the Army.', 1), ('  OCTAVIUS. What man is that?', 1), ('  STRATO. Free from the bondage you are in, Messala:', 1), ('    The conquerors can but make a fire of him;', 1), (\"    That thou hast proved Lucilius' saying true.\", 1), ('  STRATO. Ay, if Messala will prefer me to you.', 1), ('  MESSALA. How died my master, Strato? ', 1), ('  MESSALA. Octavius, then take him to follow thee', 1), ('    That did the latest service to my master.', 1), ('    Did that they did in envy of great Caesar;', 1), ('    And common good to all, made one of them.', 1), ('    His life was gentle, and the elements', 1), ('    And say to all the world, \"This was a man!\"', 1), ('    With all respect and rites of burial.', 1), ('    Within my tent his bones tonight shall lie,', 1), ('    To part the glories of this happy day.              Exeunt.', 1), ('Dramatis Personae', 1), (\"  OCTAVIUS, Triumvir after Caesar's death, later Augustus Caesar,\", 1), ('  MARK ANTONY, general and friend of Caesar, a Triumvir after his', 1), ('death', 1), ('  MARCUS BRUTUS, leader of the conspiracy against Caesar', 1), ('  CASCA,          conspirator against Caesar', 1), ('  METELLUS CIMBER,     \"          \"     \"', 1), ('  CINNA,               \"          \"     \"', 1), ('  CALPURNIA, wife of Caesar', 1), ('  CICERO,     senator', 1), ('  POPILIUS LENA, \"', 1), ('  MESSALA,      \"     \"    \"', 1), ('  VOLUMNIUS,    \"     \"    \"', 1), ('  ARTEMIDORUS, a teacher of rhetoric', 1), ('  CINNA, a poet', 1), ('  CLAUDIO,      \"    \"     \"', 1), ('  LUCIUS,       \"    \"     \"', 1), ('  DARDANIUS,    \"    \"     \"', 1), ('  The Ghost of Caesar', 1), ('  A Soothsayer', 1), ('  A Poet', 1), ('  Senators, Citizens, Soldiers, Commoners, Messengers, and', 1), ('<<THIS ELECTRONIC VERSION OF THE COMPLETE WORKS OF WILLIAM', 5), ('PROVIDED BY PROJECT GUTENBERG ETEXT OF CARNEGIE MELLON UNIVERSITY', 5), ('DISTRIBUTED SO LONG AS SUCH COPIES (1) ARE FOR YOUR OR OTHERS', 5), ('SERVICE THAT CHARGES FOR DOWNLOAD TIME OR FOR MEMBERSHIP.>>', 5), ('Enter Flavius, Marullus, and certain Commoners.', 1), ('    Is this a holiday? What, know you not,', 1), ('  FIRST COMMONER. Why, sir, a carpenter.', 1), ('    You, sir, what trade are you?', 1), ('    but, as you would say, a cobbler.', 1), ('  MARULLUS. But what trade art thou? Answer me directly.', 1), ('  SECOND COMMONER. A trade, sir, that, I hope, I may use with a', 1), ('trade?', 1), ('  SECOND COMMONER. Nay, I beseech you, sir, be not out with me;', 1), (\"  MARULLUS. What mean'st thou by that? Mend me, thou saucy\", 1), ('fellow!', 1), ('  SECOND COMMONER. Why, sir, cobble you.', 1), ('  SECOND COMMONER. Truly, Sir, all that I live by is with the', 1), ('awl; I', 1), (\"    meddle with no tradesman's matters, nor women's matters, but\", 1), ('with', 2), (\"    neat's leather have gone upon my handiwork.\", 1), ('  FLAVIUS. But wherefore art not in thy shop today?', 1), ('    Why dost thou lead these men about the streets?', 1), ('    into more work. But indeed, sir, we make holiday to see', 1), ('  MARULLUS. Wherefore rejoice? What conquest brings he home?', 1), ('    What tributaries follow him to Rome', 1), ('    O you hard hearts, you cruel men of Rome,', 1), ('    Knew you not Pompey? Many a time and oft', 1), (\"    Have you climb'd up to walls and battlements, \", 1), ('    The livelong day with patient expectation', 1), ('    And when you saw his chariot but appear,', 1), ('    To hear the replication of your sounds', 1), ('    Made in her concave shores?', 1), ('    Be gone!', 1), ('    Pray to the gods to intermit the plague', 1), ('    Assemble all the poor men of your sort,', 1), ('    Draw them to Tiber banks, and weep your tears ', 1), ('    Into the channel, till the lowest stream', 1), ('    Do kiss the most exalted shores of all.', 1), ('    This way will I. Disrobe the images', 1), (\"    If you do find them deck'd with ceremonies.\", 1), ('  MARULLUS. May we do so?', 1), ('    You know it is the feast of Lupercal.', 1), (\"    Be hung with Caesar's trophies. I'll about\", 1), ('    And drive away the vulgar from the streets;', 1), (\"    These growing feathers pluck'd from Caesar's wing\", 1), ('    Will make him fly an ordinary pitch,', 1), ('SCENE II.', 5), ('follows,', 1), ('  CAESAR. Calpurnia!', 2), ('  CASCA. Peace, ho! Caesar speaks.', 1), (\"  CAESAR. Stand you directly in Antonio's way,\", 1), ('    The barren, touched in this holy chase,', 1), ('  CAESAR. Ha! Who calls?', 1), ('    Cry \"Caesar.\" Speak, Caesar is turn\\'d to hear.', 1), ('  CAESAR. Set him before me let me see his face.', 1), ('  BRUTUS. Not I.', 1), ('  BRUTUS. I am not gamesome; I do lack some part', 1), ('    Let me not hinder, Cassius, your desires;', 1), (\"    I'll leave you.\", 1), ('  CASSIUS. Brutus, I do observe you now of late;', 1), ('    And show of love as I was wont to have;', 1), ('    You bear too stubborn and too strange a hand', 1), ('  BRUTUS. Cassius,', 1), (\"    Be not deceived; if I have veil'd my look,\", 1), ('    I turn the trouble of my countenance', 1), ('    Of late with passions of some difference,', 1), ('    But let not therefore my good friends be grieved-', 1), ('    Forgets the shows of love to other men.', 1), ('  CASSIUS. Then, Brutus, I have much mistook your passion, ', 1), ('    Tell me, good Brutus, can you see your face?', 1), ('  BRUTUS. No, Cassius, for the eye sees not itself', 1), ('    But by reflection, by some other things.', 1), ('    Where many of the best respect in Rome,', 1), ('    Except immortal Caesar, speaking of Brutus', 1), ('    That you would have me seek into myself', 1), ('    For that which is not in me?', 1), ('    And since you know you cannot see yourself', 1), ('    So well as by reflection, I your glass ', 1), ('    That of yourself which you yet know not of.', 1), ('    To every new protester, if you know', 1), ('    That I profess myself in banqueting', 1), ('    Choose Caesar for their king.', 1), ('  CASSIUS. Ay, do you fear it?', 1), ('    If it be aught toward the general good,', 1), (\"    Set honor in one eye and death i' the other \", 1), ('    And I will look on both indifferently.', 1), ('    For let the gods so speed me as I love', 1), (\"    Endure the winter's cold as well as he.\", 1), ('    For once, upon a raw and gusty day,', 1), ('    Caesar said to me, \"Darest thou, Cassius, now', 1), ('    Leap in with me into this angry flood', 1), ('    Accoutred as I was, I plunged in', 1), ('    And bade him follow. So indeed he did. ', 1), (\"    The torrent roar'd, and we did buffet it\", 1), ('    With lusty sinews, throwing it aside', 1), ('    I, as Aeneas our great ancestor', 1), ('    Did from the flames of Troy upon his shoulder', 1), ('    The old Anchises bear, so from the waves of Tiber', 1), ('    Did I the tired Caesar. And this man', 1), ('    A wretched creature and must bend his body', 1), ('    If Caesar carelessly but nod on him.', 1), ('    He had a fever when he was in Spain,', 1), (\"    How he did shake. 'Tis true, this god did shake;\", 1), ('    His coward lips did from their color fly,', 1), ('    Ay, and that tongue of his that bade the Romans', 1), ('    Mark him and write his speeches in their books, ', 1), ('    As a sick girl. Ye gods! It doth amaze me', 1), ('    A man of such a feeble temper should', 1), ('  BRUTUS. Another general shout!', 1), ('  CASSIUS. Why, man, he doth bestride the narrow world', 1), ('    Like a Colossus, and we petty men', 1), ('    To find ourselves dishonorable graves.', 1), ('    But in ourselves that we are underlings.', 1), ('    Brutus and Caesar: what should be in that \"Caesar\"?', 1), (\"    Weigh them, it is as heavy; conjure with 'em, \", 1), ('    Upon what meat doth this our Caesar feed', 1), ('    That he is grown so great? Age, thou art shamed!', 1), (\"    When could they say till now that talk'd of Rome\", 1), ('    Now is it Rome indeed, and room enough,', 1), ('    When there is in it but one only man.', 1), (\"    There was a Brutus once that would have brook'd\", 1), ('    I would not, so with love I might entreat you, ', 1), ('    I will consider; what you have to say', 1), ('    Brutus had rather be a villager', 1), ('    Than to repute himself a son of Rome', 1), ('  CASSIUS. I am glad that my weak words', 1), ('    Have struck but thus much show of fire from Brutus.', 1), ('            Re-enter Caesar and his Train.', 1), ('  BRUTUS. The games are done, and Caesar is returning.', 1), ('    And he will, after his sour fashion, tell you', 1), ('  BRUTUS. I will do so. But, look you, Cassius,', 1), (\"    The angry spot doth glow on Caesar's brow, \", 1), ('    And all the rest look like a chidden train:', 1), (\"    Calpurnia's cheek is pale, and Cicero\", 1), ('  CAESAR. Antonio!', 1), (\"    Sleek-headed men, and such as sleep o' nights:\", 1), ('    He thinks too much; such men are dangerous.', 1), ('    He is a noble Roman and well given.', 1), ('    Yet if my name were liable to fear,', 1), ('    He is a great observer, and he looks', 1), ('    As thou dost, Antony; he hears no music;', 1), ('    And therefore are they very dangerous.', 1), (\"    I rather tell thee what is to be fear'd\", 1), (\"  CASCA. You pull'd me by the cloak; would you speak with me?\", 1), ('  CASCA. Why, you were with him, were you not?', 1), ('him,', 1), ('     he put it by with the back of his hand, thus, and then the', 1), ('     people fell ashouting. ', 1), ('  BRUTUS. What was the second noise for?', 1), ('  CASCA. Why, for that too.', 2), ('  CASSIUS. They shouted thrice. What was the last cry for?', 1), ('  BRUTUS. Was the crown offered him thrice?', 1), ('  CASCA. Ay, marry, wast, and he put it by thrice, every time', 1), ('    than other, and at every putting by mine honest neighbors', 1), ('    shouted.', 1), ('a', 3), (\"    crown (yet 'twas not a crown neither, 'twas one of these\", 1), ('    that, to my thinking, he would fain have had it. Then he', 1), ('    it to him again; then he put it by again. But, to my', 1), ('    was very loath to lay his fingers off it. And then he offered', 1), ('it', 1), ('    the third time; he put it the third time by; and still as he', 1), ('    and threw up their sweaty nightcaps and uttered such a deal', 1), ('    almost choked Caesar, for he swounded and fell down at it.', 1), ('    for mine own part, I durst not laugh for fear of opening my', 1), ('    and receiving the bad air.', 1), ('  CASSIUS. But, soft, I pray you, what, did Caesars wound?', 1), ('  CASCA. He fell down in the marketplace and foamed at mouth and', 1), ('fell', 1), ('    down. If the tagrag people did not clap him and hiss him', 1), ('    according as he pleased and displeased them, as they use to', 1), ('    herd was glad he refused the crown, he plucked me ope his', 1), ('    and offered them his throat to cut. An had been a man of any', 1), ('    occupation, if I would not have taken him at a word, I would', 1), ('    might go to hell among the rogues. And so he fell. When he', 1), ('amiss,', 1), ('    he desired their worships to think it was his infirmity.', 1), (\"    him with all their hearts. But there's no heed to be taken of\", 1), ('    them; if Caesar had stabbed their mothers, they would have', 1), ('done', 1), ('    no less.', 1), ('  BRUTUS. And after that he came, thus sad, away?', 1), ('  CASSIUS. Did Cicero say anything?', 1), ('  CASSIUS. To what effect?', 1), ('    again; but those that understood him smiled at one another', 1), ('and', 1), ('    shook their heads; but for mine own part, it was Greek to me.', 1), ('I', 1), ('pulling', 1), (\"    scarfs off Caesar's images, are put to silence. Fare you\", 1), ('well.', 1), ('  CASCA. Ay, if I be alive, and your mind hold, and your dinner', 1), ('  CASCA. Do so, farewell, both.                            Exit.', 1), ('  BRUTUS. What a blunt fellow is this grown to be!', 1), ('    Of any bold or noble enterprise,', 1), ('    However he puts on this tardy form.', 1), ('    This rudeness is a sauce to his good wit,', 1), ('    Which gives men stomach to digest his words', 1), ('    With better appetite.', 1), ('    Well, Brutus, thou art noble; yet, I see ', 1), ('    Thy honorable mettle may be wrought', 1), ('    That noble minds keep ever with their likes;', 1), ('    For who so firm that cannot be seduced?', 1), ('    Caesar doth bear me hard, but he loves Brutus.', 1), ('    As if they came from several citizens,', 1), ('    That Rome holds of his name, wherein obscurely', 1), (\"    Caesar's ambition shall be glanced at.\", 1), ('SCENE III.', 5), ('A street. Thunder and lightning.', 1), ('Enter, from opposite sides, Casca, with his sword drawn, and', 1), ('Cicero.', 1), ('  CICERO. Good even, Casca. Brought you Caesar home?', 1), ('    Why are you breathless, and why stare you so?', 1), ('  CASCA. Are not you moved, when all the sway of earth', 1), ('    Shakes like a thing unfirm? O Cicero,', 1), ('    I have seen tempests when the scolding winds', 1), ('    Have rived the knotty oaks, and I have seen', 1), ('    The ambitious ocean swell and rage and foam', 1), ('    To be exalted with the threatening clouds,', 1), ('    But never till tonight, never till now,', 1), ('    Or else the world too saucy with the gods', 1), ('    Incenses them to send destruction.', 1), ('  CICERO. Why, saw you anything more wonderful?', 1), ('  CASCA. A common slave- you know him well by sight-', 1), ('    Held up his left hand, which did flame and burn ', 1), (\"    Like twenty torches join'd, and yet his hand\", 1), (\"    Besides- I ha' not since put up my sword-\", 1), (\"    Who glaz'd upon me and went surly by\", 1), ('    Without annoying me. And there were drawn', 1), ('    Upon a heap a hundred ghastly women', 1), ('    Transformed with their fear, who swore they saw', 1), ('    And yesterday the bird of night did sit', 1), ('    Even at noonday upon the marketplace,', 1), ('    For I believe they are portentous things', 1), ('  CICERO. Indeed, it is a strange-disposed time.', 1), ('    Clean from the purpose of the things themselves.', 1), ('    Comes Caesar to the Capitol tomorrow? ', 1), ('  CASCA. He doth, for he did bid Antonio', 1), ('    Send word to you he would be there tomorrow.', 1), ('  CASCA. Farewell, Cicero.                          Exit Cicero.', 1), (\"  CASSIUS. Who's there?\", 1), ('  CASCA. Your ear is good. Cassius, what night is this!', 1), ('  CASSIUS. Those that have known the earth so full of faults.', 1), (\"    For my part, I have walk'd about the streets,\", 1), ('    Submitting me unto the perilous night,', 1), ('    Have bared my bosom to the thunderstone;', 1), (\"    And when the cross blue lightning seem'd to open \", 1), ('    Even in the aim and very flash of it.', 1), ('    Or else you use not. You look pale and gaze', 1), ('    And put on fear and cast yourself in wonder', 1), ('    Why birds and beasts from quality and kind,', 1), ('    Why old men, fools, and children calculate,', 1), ('    Their natures, and preformed faculties', 1), ('    Unto some monstrous state.', 1), ('    In personal action, yet prodigious grown', 1), ('    And fearful, as these strange eruptions are.', 1), (\"  CASCA. 'Tis Caesar that you mean, is it not, Cassius?\", 1), ('  CASSIUS. Let it be who it is, for Romans now', 1), ('    Have thews and limbs like to their ancestors.', 1), (\"    But, woe the while! Our fathers' minds are dead,\", 1), (\"    And we are govern'd with our mothers' spirits;\", 1), ('  CASCA. Indeed they say the senators tomorrow', 1), ('    Mean to establish Caesar as a king,', 1), ('  CASSIUS. I know where I will wear this dagger then:', 1), ('    Cassius from bondage will deliver Cassius. ', 1), ('    Therein, ye gods, you make the weak most strong;', 1), ('    Can be retentive to the strength of spirit;', 1), ('    Never lacks power to dismiss itself.', 1), ('    If I know this, know all the world besides,', 1), ('    That part of tyranny that I do bear', 1), ('    So every bondman in his own hand bears', 1), ('    The power to cancel his captivity.', 1), ('    Poor man! I know he would not be a wolf', 1), ('    Those that with haste will make a mighty fire', 1), ('    Begin it with weak straws. What trash is Rome,', 1), ('    For the base matter to illuminate', 1), ('    So vile a thing as Caesar? But, O grief,', 1), ('    And dangers are to me indifferent.', 1), ('    Be factious for redress of all these griefs,', 1), ('    And I will set this foot of mine as far', 1), (\"  CASSIUS. There's a bargain made.\", 1), ('    Now know you, Casca, I have moved already', 1), ('    Some certain of the noblest-minded Romans', 1), ('    To undergo with me an enterprise', 1), ('    Of honorable-dangerous consequence;', 1), ('    And I do know by this, they stay for me', 1), (\"    In Pompey's Porch. For now, this fearful night,\", 1), ('    And the complexion of the element ', 1), ('                       Enter Cinna.', 1), ('  CASCA. Stand close awhile, for here comes one in haste.', 1), ('  CASSIUS. No, it is Casca, one incorporate', 1), (\"  CINNA. I am glad on't. What a fearful night is this!\", 1), (\"  CASSIUS. Am I not stay'd for? Tell me.\", 1), (\"    And look you lay it in the praetor's chair,\", 1), ('    Where Brutus may but find it; and throw this ', 1), ('    In at his window; set this up with wax', 1), (\"    Repair to Pompey's Porch, where you shall find us.\", 1), (\"  CASSIUS. That done, repair to Pompey's Theatre.\", 1), ('                                                     Exit Cinna.', 1), ('    Is ours already, and the man entire', 1), (\"  CASCA. O, he sits high in all the people's hearts,\", 1), ('    His countenance, like richest alchemy,', 1), ('    Will change to virtue and to worthiness.', 1), ('  CASSIUS. Him and his worth and our great need of him', 1), ('    You have right well conceited. Let us go,', 1), ('ACT II. SCENE I.', 1), ('Enter Brutus in his orchard.', 1), ('  BRUTUS. What, Lucius, ho!', 1), ('    Give guess how near to day. Lucius, I say!', 1), ('    When it is lighted, come and call me here.', 1), ('  BRUTUS. It must be by his death, and, for my part,', 1), ('    It is the bright day that brings forth the adder', 1), (\"    I have not known when his affections sway'd\", 1), (\"    More than his reason. But 'tis a common proof\", 1), (\"    That lowliness is young ambition's ladder,\", 1), ('    Whereto the climber-upward turns his face;', 1), ('    But when he once attains the upmost round,', 1), ('    Then, lest he may, prevent. And, since the quarrel', 1), (\"    Which hatch'd would as his kind grow mischievous,\", 1), (' ', 4), ('  LUCIUS. The taper burneth in your closet, sir.', 1), ('  LUCIUS. I know not, sir.', 1), ('  BRUTUS. The exhalations whizzing in the air', 1), ('                                     Opens the letter and reads.', 1), ('    If the redress will follow, thou receivest', 1), ('    Thy full petition at the hand of Brutus!', 1), ('                                                Knocking within.', 1), ('                                                    Exit Lucius.', 1), ('    Since Cassius first did whet me against Caesar', 1), ('    Between the acting of a dreadful thing', 1), ('    The genius and the mortal instruments', 1), ('    The nature of an insurrection.', 1), ('  BRUTUS. Is he alone?', 1), ('  BRUTUS. Do you know them?', 1), ('    By any mark of favor.', 1), ('    Shamest thou to show thy dangerous brow by night, ', 1), ('    When evils are most free? O, then, by day', 1), ('    Where wilt thou find a cavern dark enough', 1), ('                Metellus Cimber, and Trebonius.', 1), ('    Good morrow, Brutus, do we trouble you?', 1), ('  CASSIUS. Yes, every man of them, and no man here', 1), ('    But honors you, and every one doth wish', 1), ('    You had but that opinion of yourself', 1), ('    Which every noble Roman bears of you.', 1), ('  CASSIUS. This, Decius Brutus.', 1), ('  BRUTUS. He is welcome too.', 1), ('  BRUTUS. They are all welcome.', 1), ('    What watchful cares do interpose themselves', 1), ('  DECIUS. Here lies the east. Doth not the day break here?', 1), ('  CASCA. You shall confess that you are both deceived.', 1), ('    Here, as I point my sword, the sun arises,', 1), ('    He first presents his fire, and the high east', 1), ('  CASSIUS. And let us swear our resolution. ', 1), ('  BRUTUS. No, not an oath. If not the face of men,', 1), (\"    The sufferance of our souls, the time's abuse-\", 1), ('    Till each man drop by lottery. But if these,', 1), ('    To kindle cowards and to steel with valor', 1), ('    The melting spirits of women, then, countrymen,', 1), ('    What need we any spur but our own cause', 1), ('    To prick us to redress? What other bond', 1), ('    That this shall be or we will fall for it?', 1), ('    Old feeble carrions and such suffering souls', 1), ('    The even virtue of our enterprise, ', 1), ('    To think that or our cause or our performance', 1), ('    Did need an oath; when every drop of blood', 1), ('    Is guilty of a several bastardy', 1), (\"    Of any promise that hath pass'd from him.\", 1), ('  CASSIUS. But what of Cicero? Shall we sound him?', 1), ('  CASCA. Let us not leave him out.', 1), ('  CINNA. No, by no means.', 1), ('  METELLUS. O, let us have him, for his silver hairs', 1), ('    Will purchase us a good opinion,', 1), ('    But all be buried in his gravity.', 1), ('  BRUTUS. O, name him not; let us not break with him,', 1), ('  CASSIUS. Then leave him out.', 1), (\"  DECIUS. Shall no man else be touch'd but only Caesar?\", 1), ('    Mark Antony, so well beloved of Caesar,', 1), ('    A shrewd contriver; and you know his means,', 1), ('  BRUTUS. Our course will seem too bloody, Caius Cassius,', 1), ('    To cut the head off and then hack the limbs', 1), ('    For Antony is but a limb of Caesar.', 1), ('    Let us be sacrificers, but not butchers, Caius.', 1), ('    And in the spirit of men there is no blood.', 1), ('    Not hew him as a carcass fit for hounds;', 1), ('    Stir up their servants to an act of rage', 1), ('    Our purpose necessary and not envious,', 1), ('    Which so appearing to the common eyes,', 1), (\"    For he can do no more than Caesar's arm\", 1), ('  BRUTUS. Alas, good Cassius, do not think of him.', 1), ('    If he love Caesar, all that he can do', 1), ('    Is to himself, take thought and die for Caesar.', 1), ('    And that were much he should, for he is given', 1), ('  TREBONIUS. There is no fear in him-let him not die, ', 1), ('    For he will live and laugh at this hereafter.', 1), ('                                                  Clock strikes.', 1), ('  CASSIUS. The clock hath stricken three.', 1), (\"  TREBONIUS. 'Tis time to part.\", 1), ('  CASSIUS. But it is doubtful yet', 1), ('    Whether Caesar will come forth today or no,', 1), ('    For he is superstitious grown of late,', 1), ('    Of fantasy, of dreams, and ceremonies.', 1), ('    It may be these apparent prodigies,', 1), (\"    The unaccustom'd terror of this night,\", 1), ('    And the persuasion of his augurers', 1), ('  DECIUS. Never fear that. If he be so resolved,', 1), (\"    That unicorns may be betray'd with trees,\", 1), ('    And bears with glasses, elephants with holes,', 1), ('    Lions with toils, and men with flatterers;', 1), ('    But when I tell him he hates flatterers, ', 1), ('    He says he does, being then most flattered.', 1), ('    And I will bring him to the Capitol.', 1), ('  CASSIUS. Nay, we will all of us be there to fetch him.', 1), ('  CINNA. Be that the uttermost, and fail not then.', 1), ('    Who rated him for speaking well of Pompey.', 1), ('  BRUTUS. Now, good Metellus, go along by him.', 1), (\"  CASSIUS. The morning comes upon 's. We'll leave you, Brutus,\", 1), ('    And, friends, disperse yourselves, but all remember', 1), ('  BRUTUS. Good gentlemen, look fresh and merrily;', 1), ('    But bear it as our Roman actors do,', 1), ('                                          Exeunt all but Brutus.', 2), ('    Enjoy the honey-heavy dew of slumber;', 1), ('    Thou hast no figures nor no fantasies,', 1), ('  BRUTUS. Portia, what mean you? Wherefore rise you now?', 1), ('    Your weak condition to the raw cold morning.', 1), ('    Stole from my bed; and yesternight at supper', 1), (\"    You suddenly arose and walk'd about,\", 1), ('    Musing and sighing, with your arms across;', 1), (\"    And when I ask'd you what the matter was,\", 1), (\"    Which seem'd too much enkindled, and withal\", 1), ('    Which sometime hath his hour with every man.', 1), ('    It will not let you eat, nor talk, nor sleep,', 1), (\"    As it hath much prevail'd on your condition,\", 1), ('    Make me acquainted with your cause of grief.', 1), ('  BRUTUS. I am not well in health, and that is all.', 1), ('    He would embrace the means to come by it.', 1), ('  BRUTUS. Why, so I do. Good Portia, go to bed.', 1), ('  PORTIA. Is Brutus sick, and is it physical', 1), ('    To dare the vile contagion of the night', 1), ('    You have some sick offense within your mind,', 1), ('    Which by the right and virtue of my place', 1), ('    I charm you, by my once commended beauty,', 1), ('    That you unfold to me, yourself, your half,', 1), ('    Even from darkness.', 1), ('  BRUTUS. Kneel not, gentle Portia.', 1), ('    Within the bond of marriage, tell me, Brutus,', 1), ('    That appertain to you? Am I yourself', 1), ('    To keep with you at meals, comfort your bed,', 1), ('    And talk to you sometimes? Dwell I but in the suburbs', 1), ('    Of your good pleasure? If it be no more,', 1), ('    As dear to me as are the ruddy drops', 1), ('    That visit my sad heart.', 1), ('    A woman that Lord Brutus took to wife.', 1), ('    Think you I am no stronger than my sex,', 1), (\"    Being so father'd and so husbanded?\", 1), (\"    Tell me your counsels, I will not disclose 'em.\", 1), ('    Here in the thigh. Can I bear that with patience ', 1), ('  BRUTUS. O ye gods,', 1), ('    Hark, hark, one knocks. Portia, go in awhile,', 1), ('    And by and by thy bosom shall partake', 1), ('    The secrets of my heart.', 1), ('    All the charactery of my sad brows.', 1), ('  LIGARIUS. I am not sick, if Brutus have in hand', 1), ('    Any exploit worthy the name of honor. ', 1), ('  BRUTUS. Such an exploit have I in hand, Ligarius,', 1), ('    Had you a healthful ear to hear of it.', 1), ('  LIGARIUS. By all the gods that Romans bow before,', 1), ('    My mortified spirit. Now bid me run,', 1), ('  BRUTUS. A piece of work that will make sick men whole.', 1), ('  LIGARIUS. But are not some whole that we must make sick?', 1), ('    I shall unfold to thee, as we are going', 1), ('  LIGARIUS. Set on your foot,', 1), ('    And with a heart new-fired I follow you,', 1), ('    That Brutus leads me on.', 1), ('  BRUTUS. Follow me then.                                Exeunt.', 1), (\"Caesar's house. Thunder and lightning.\", 1), ('Enter Caesar, in his nightgown.', 1), ('  CAESAR. Nor heaven nor earth have been at peace tonight.', 1), ('    Thrice hath Calpurnia in her sleep cried out,', 1), ('  SERVANT. My lord?', 1), ('  CAESAR. Go bid the priests do present sacrifice,', 1), ('  SERVANT. I will, my lord.                                Exit.', 1), ('  CALPURNIA. What mean you, Caesar? Think you to walk forth?', 1), ('    You shall not stir out of your house today.', 1), (\"    Ne'er look'd but on my back; when they shall see \", 1), ('    The face of Caesar, they are vanished.', 1), ('    Besides the things that we have heard and seen,', 1), ('    Recounts most horrid sights seen by the watch.', 1), ('    The noise of battle hurtled in the air,', 1), ('    O Caesar! These things are beyond all use,', 1), ('  CAESAR. What can be avoided', 1), ('    Yet Caesar shall go forth, for these predictions', 1), ('    Are to the world in general as to Caesar.', 1), ('    The valiant never taste of death but once.', 1), ('    It seems to me most strange that men should fear', 1), ('    Seeing that death, a necessary end,', 1), ('    Will come when it will come.', 1), ('  SERVANT. They would not have you to stir forth today.', 1), ('    Plucking the entrails of an offering forth,', 1), ('    If he should stay at home today for fear.', 1), ('    No, Caesar shall not. Danger knows full well', 1), ('    That Caesar is more dangerous than he.', 1), ('    And Caesar shall go forth.', 1), ('  CALPURNIA. Alas, my lord,', 1), ('    And he shall say you are not well today.', 1), ('    Let me, upon my knee, prevail in this.', 1), ('  CAESAR. Mark Antony shall say I am not well,', 1), (\"    Here's Decius Brutus, he shall tell them so.\", 1), ('    I come to fetch you to the Senate House.', 1), ('  CAESAR. And you are come in very happy time', 1), ('    To bear my greeting to the senators', 1), ('    And tell them that I will not come today. ', 1), (\"    Have I in conquest stretch'd mine arm so far\", 1), ('    To be afeard to tell greybeards the truth?', 1), (\"    Lest I be laugh'd at when I tell them so.\", 1), ('    She dreamt tonight she saw my statue,', 1), ('    Did run pure blood, and many lusty Romans', 1), ('    And evils imminent, and on her knee ', 1), (\"    Hath begg'd that I will stay at home today.\", 1), ('    It was a vision fair and fortunate.', 1), ('    Signifies that from you great Rome shall suck', 1), (\"    This by Calpurnia's dream is signified.\", 1), ('    And know it now, the Senate have concluded', 1), ('    If you shall send them word you will not come,', 1), (\"    Apt to be render'd, for someone to say\", 1), ('    \"Break up the Senate till another time,', 1), ('    When Caesar\\'s wife shall meet with better dreams.\"', 1), ('    If Caesar hide himself, shall they not whisper', 1), ('    \"Lo, Caesar is afraid\"? ', 1), ('    And reason to my love is liable.', 1), ('  CAESAR. How foolish do your fears seem now, Calpurnia!', 1), ('    Give me my robe, for I will go.', 1), ('         Enter Publius, Brutus, Ligarius, Metellus, Casca,', 1), (\"    What is't o'clock?\", 1), (\"  BRUTUS. Caesar, 'tis strucken eight.\", 1), ('  CAESAR. I thank you for your pains and courtesy. ', 1), (\"    See, Antony, that revels long o' nights,\", 1), ('    Is notwithstanding up. Good morrow, Antony.', 1), (\"    I have an hour's talk in store for you;\", 1), ('    That your best friends shall wish I had been further.', 1), ('  CAESAR. Good friends, go in and taste some wine with me,', 1), ('  BRUTUS. [Aside.] That every like is not the same, O Caesar,', 1), ('    The heart of Brutus yearns to think upon!            Exeunt.', 1), ('Enter Artemidorus, reading paper.', 1), ('come', 1), ('    not near Casca; have an eye to Cinna; trust not Trebonius;', 1), ('    and it is bent against Caesar. If thou beest not immortal,', 1), ('    about you. Security gives way to conspiracy. The mighty gods', 1), ('    Here will I stand till Caesar pass along,', 1), ('    And as a suitor will I give him this.', 1), ('    My heart laments that virtue cannot live', 1), ('    Out of the teeth of emulation.', 1), ('    If not, the Fates with traitors do contrive.           Exit.', 1), ('SCENE IV.', 2), ('  PORTIA. I prithee, boy, run to the Senate House;', 1), ('    Stay not to answer me, but get thee gone.', 1), ('    Why dost thou stay?', 1), ('  PORTIA. I would have had thee there, and here again,', 1), (\"    Set a huge mountain 'tween my heart and tongue!\", 1), ('    Art thou here yet?', 1), ('  LUCIUS. Madam, what should I do?', 1), ('    And so return to you, and nothing else?', 1), ('  PORTIA. Yes, bring me word, boy, if thy lord look well,', 1), ('    For he went sickly forth; and take good note', 1), ('    Hark, boy, what noise is that?', 1), ('    I heard a bustling rumor like a fray,', 1), ('    And the wind brings it from the Capitol.', 1), ('                     Enter the Soothsayer.', 1), (\"  PORTIA. What is't o'clock?\", 1), ('  SOOTHSAYER. About the ninth hour, lady.', 1), ('    To see him pass on to the Capitol.', 1), ('  SOOTHSAYER. That I have, lady. If it will please Caesar', 1), (\"  PORTIA. Why, know'st thou any harm's intended towards him?\", 1), ('  SOOTHSAYER. None that I know will be, much that I fear may', 1), ('chance.', 1), ('    Of senators, of praetors, common suitors,', 1), (\"    I'll get me to a place more void and there\", 1), ('    Speak to great Caesar as he comes along.               Exit.', 1), ('  PORTIA. I must go in. Ay me, how weak a thing', 1), ('    The heavens speed thee in thine enterprise!', 1), ('    That Caesar will not grant. O, I grow faint.', 1), ('    Say I am merry. Come to me again,', 1), ('    And bring me word what he doth say to thee.', 1), ('ACT III. SCENE I.', 1), ('Trebonius, Cinna, Antony, Lepidus, Popilius, Publius, and others.', 1), ('  CAESAR. The ides of March are come.', 1), ('  SOOTHSAYER. Ay, Caesar, but not gone.', 1), ('  A Hail, Caesar! Read this schedule.', 1), ('    At your best leisure, this his humble suit.', 1), (\"  ARTEMIDORUS. O Caesar, read mine first, for mine's a suit\", 1), ('    That touches Caesar nearer. Read it, great Caesar.', 1), ('  CAESAR. What touches us ourself shall be last served.', 1), ('  ARTEMIDORUS. Delay not, Caesar; read it instantly.', 1), ('  CAESAR. What, is the fellow mad?', 1), ('  PUBLIUS. Sirrah, give place.', 1), ('  CASSIUS. What, urge you your petitions in the street?', 1), ('    Come to the Capitol.', 1), ('  POPILIUS. I wish your enterprise today may thrive.', 1), ('  CASSIUS. What enterprise, Popilius?', 1), ('                                             Advances to Caesar.', 1), ('  BRUTUS. What said Popilius Lena?', 1), (\"  CASSIUS. He wish'd today our enterprise might thrive.\", 1), ('    Be sudden, for we fear prevention.', 1), ('    For I will slay myself.', 1), ('  BRUTUS. Cassius, be constant.', 1), ('  CASSIUS. Trebonius knows his time, for, look you, Brutus,', 1), ('    He draws Mark Antony out of the way. ', 1), ('  CINNA. Casca, you are the first that rears your hand.', 1), ('    Metellus Cimber throws before thy seat', 1), ('  CAESAR. I must prevent thee, Cimber.', 1), ('    And turn preordinance and first decree', 1), ('    Into the law of children. Be not fond', 1), ('    To think that Caesar bears such rebel blood', 1), ('    With that which melteth fools- I mean sweet words,', 1), ('    If thou dost bend and pray and fawn for him,', 1), ('    I spurn thee like a cur out of my way.', 1), ('  METELLUS. Is there no voice more worthy than my own,', 1), (\"    To sound more sweetly in great Caesar's ear\", 1), (\"    For the repealing of my banish'd brother?\", 1), ('  BRUTUS. I kiss thy hand, but not in flattery, Caesar,', 1), ('    Have an immediate freedom of repeal.', 1), ('    As low as to thy foot doth Cassius fall', 1), ('  CAESAR. I could be well moved, if I were as you;', 1), ('    If I could pray to move, prayers would move me;', 1), (\"    The skies are painted with unnumber'd sparks; \", 1), ('    They are all fire and every one doth shine;', 1), ('    And men are flesh and blood, and apprehensive;', 1), ('    Yet in the number I do know but one', 1), ('    Unshaked of motion; and that I am he,', 1), ('    Let me a little show it, even in this;', 1), (\"    That I was constant Cimber should be banish'd,\", 1), ('  CINNA. O Caesar-', 1), ('  CAESAR. Hence! Wilt thou lift up Olympus?', 1), ('  DECIUS. Great Caesar-', 1), ('  CAESAR. Doth not Brutus bootless kneel?', 1), ('                        Casca first, then the other Conspirators', 1), ('  CAESAR. Et tu, Brute?- Then fall, Caesar! Dies.', 1), ('    Run hence, proclaim, cry it about the streets. ', 1), ('  CASSIUS. Some to the common pulpits and cry out', 1), ('  DECIUS. And Cassius too.', 1), (\"  METELLUS. Stand fast together, lest some friend of Caesar's\", 1), ('    Should chance-', 1), ('    There is no harm intended to your person,', 1), ('  BRUTUS. Do so, and let no man abide this deed', 1), ('    But we the doers.', 1), ('                        Re-enter Trebonius.', 1), ('  CASSIUS. Where is Antony?', 1), ('    Men, wives, and children stare, cry out, and run', 1), ('    And drawing days out that men stand upon.', 1), ('  CASSIUS. Why, he that cuts off twenty years of life', 1), ('    Cuts off so many years of fearing death.', 1), ('  BRUTUS. Grant that, and then is death a benefit;', 1), (\"    So are we Caesar's friends that have abridged\", 1), (\"    And let us bathe our hands in Caesar's blood\", 1), ('    Up to the elbows, and besmear our swords;', 1), ('    Then walk we forth, even to the marketplace,', 1), ('    In states unborn and accents yet unknown! ', 1), (\"    That now on Pompey's basis lies along\", 1), (\"    So often shall the knot of us be call'd\", 1), ('  DECIUS. What, shall we forth?', 1), ('    Brutus shall lead, and we will grace his heels', 1), ('    With the most boldest and best hearts of Rome.', 1), ('                        Enter a Servant.', 2), (\"  BRUTUS. Soft, who comes here? A friend of Antony's.\", 1), ('    And, being prostrate, thus he bade me say:', 1), ('    Caesar was mighty, bold, royal, and loving.', 1), ('    Say I love Brutus and I honor him; ', 1), ('    If Brutus will vouchsafe that Antony', 1), ('    Mark Antony shall not love Caesar dead', 1), ('    So well as Brutus living, but will follow', 1), ('    The fortunes and affairs of noble Brutus', 1), ('    With all true faith. So says my master Antony.', 1), ('    Tell him, so please him come unto this place,', 1), (\"    Depart untouch'd.\", 1), (\"  SERVANT. I'll fetch him presently.                       Exit.\", 1), ('  BRUTUS. I know that we shall have him well to friend.', 1), ('  CASSIUS. I wish we may, but yet have I a mind', 1), ('    That fears him much, and my misgiving still', 1), ('    Falls shrewdly to the purpose.', 1), ('  BRUTUS. But here comes Antony. Welcome, Mark Antony.', 1), ('  ANTONY. O mighty Caesar! Dost thou lie so low?', 1), ('    Shrunk to this little measure? Fare thee well.', 1), ('    If I myself, there is no hour so fit', 1), ('    With the most noble blood of all this world.', 1), ('    I do beseech ye, if you bear me hard,', 1), ('    Now, whilst your purpled hands do reek and smoke,', 1), ('    Fulfill your pleasure. Live a thousand years,', 1), ('    No place will please me so, no means of death,', 1), ('  BRUTUS. O Antony, beg not your death of us! ', 1), ('    Though now we must appear bloody and cruel,', 1), ('    And this the bleeding business they have done.', 1), ('    And pity to the general wrong of Rome-', 1), ('    Hath done this deed on Caesar. For your part,', 1), ('    Our arms in strength of malice, and our hearts', 1), ('    With all kind love, good thoughts, and reverence.', 1), (\"  CASSIUS. Your voice shall be as strong as any man's\", 1), ('  BRUTUS. Only be patient till we have appeased', 1), ('    The multitude, beside themselves with fear,', 1), ('    And then we will deliver you the cause', 1), ('    Why I, that did love Caesar when I struck him,', 1), ('    Have thus proceeded.', 1), ('  ANTONY. I doubt not of your wisdom. ', 1), ('    First, Marcus Brutus, will I shake with you;', 1), ('    Though last, not least in love, yours, good Trebonius.', 1), ('    To see thy Antony making his peace,', 1), ('    Shaking the bloody fingers of thy foes,', 1), ('    Had I as many eyes as thou hast wounds,', 1), ('    It would become me better than to close', 1), ('    In terms of friendship with thine enemies. ', 1), (\"    Sign'd in thy spoil, and crimson'd in thy Lethe.\", 1), ('    O world, thou wast the forest to this hart,', 1), ('    How like a deer strucken by many princes', 1), ('    Dost thou here lie!', 1), ('    Then, in a friend, it is cold modesty.', 1), ('  CASSIUS. I blame you not for praising Caesar so;', 1), (\"    Will you be prick'd in number of our friends,\", 1), ('    Upon this hope that you shall give me reasons', 1), ('    Why and wherein Caesar was dangerous. ', 1), ('  BRUTUS. Or else were this a savage spectacle.', 1), ('    Our reasons are so full of good regard', 1), (\"  ANTONY. That's all I seek;\", 1), ('    And am moreover suitor that I may', 1), ('    That Antony speak in his funeral.', 1), ('    By that which he will utter?', 1), ('  BRUTUS. By your pardon,', 1), ('    I will myself into the pulpit first,', 1), (\"    And show the reason of our Caesar's death.\", 1), ('    What Antony shall speak, I will protest', 1), ('    He speaks by leave and by permission, ', 1), ('    And that we are contented Caesar shall', 1), ('    It shall advantage more than do us wrong.', 1), ('  CASSIUS. I know not what may fall; I like it not.', 1), ('    You shall not in your funeral speech blame us,', 1), ('    Else shall you not have any hand at all', 1), ('    After my speech is ended.', 1), ('  ANTONY. Be it so,', 1), ('  ANTONY. O, pardon me, thou bleeding piece of earth,', 1), ('    Thou art the ruins of the noblest man', 1), ('    Woe to the hand that shed this costly blood!', 1), ('    Over thy wounds now do I prophesy', 1), ('    (Which like dumb mouths do ope their ruby lips', 1), ('    A curse shall light upon the limbs of men;', 1), ('    Blood and destruction shall be so in use,', 1), ('    That mothers shall but smile when they behold', 1), (\"    Their infants quarter'd with the hands of war;\", 1), ('    With Ate by his side come hot from hell,', 1), ('    Cry \"Havoc!\" and let slip the dogs of war,', 1), ('                        Enter a Servant. ', 1), ('    You serve Octavius Caesar, do you not?', 1), ('  ANTONY. Caesar did write for him to come to Rome.', 1), ('    And bid me say to you by word of mouth-', 1), ('  ANTONY. Thy heart is big; get thee apart and weep.', 1), ('    Passion, I see, is catching, for mine eyes,', 1), ('    Began to water. Is thy master coming?', 1), ('  ANTONY. Post back with speed and tell him what hath chanced.', 1), ('    Here is a mourning Rome, a dangerous Rome,', 1), ('    Hie hence, and tell him so. Yet stay awhile,', 1), ('    Into the marketplace. There shall I try,', 1), ('    In my oration, how the people take', 1), ('    The cruel issue of these bloody men, ', 1), (\"    Lend me your hand.                Exeunt with Caesar's body.\", 1), ('The Forum.', 1), ('  BRUTUS. Then follow me and give me audience, friends.', 1), ('    Cassius, go you into the other street', 1), ('    And part the numbers.', 1), ('    And public reasons shall be rendered', 1), (\"    Of Caesar's death.\", 1), ('  FIRST CITIZEN. I will hear Brutus speak.', 1), ('    When severally we hear them rendered.', 1), ('                                    Brutus goes into the pulpit.', 1), ('  THIRD CITIZEN. The noble Brutus is ascended. Silence!', 1), ('    Romans, countrymen, and lovers! Hear me for my cause, and be', 1), ('    silent, that you may hear. Believe me for mine honor, and', 1), ('have ', 1), ('    respect to mine honor, that you may believe. Censure me in', 1), ('your', 1), ('If', 3), (\"    there be any in this assembly, any dear friend of Caesar's,\", 1), ('to', 1), ('    my answer: Not that I loved Caesar less, but that I loved', 1), ('Rome', 1), ('    that Caesar were dead to live all freemen? As Caesar loved', 1), ('me, I', 1), ('    weep for him; as he was fortunate, I rejoice at it; as he was', 1), ('    valiant, I honor him; but as he was ambitious, I slew him.', 1), ('There', 1), ('    is tears for his love, joy for his fortune, honor for his', 1), ('    and death for his ambition. Who is here so base that would be', 1), ('    bondman? If any, speak, for him have I offended. Who is here', 1), ('so', 1), ('    rude that would not be a Roman? If any, speak, for him have I', 1), ('    any, speak, for him have I offended. I pause for a reply.', 1), ('  ALL. None, Brutus, none.', 1), ('    than you shall do to Brutus. The question of his death is', 1), ('    enrolled in the Capitol, his glory not extenuated, wherein he', 1), ('was ', 1), ('    worthy, nor his offenses enforced, for which he suffered', 1), ('    Here comes his body, mourned by Mark Antony, who, though he', 1), ('had', 1), ('    depart- that, as I slew my best lover for the good of Rome, I', 1), ('  ALL. Live, Brutus, live, live!', 1), ('  SECOND CITIZEN. Give him a statue with his ancestors.', 1), ('  THIRD CITIZEN. Let him be Caesar.', 1), (\"    Shall be crown'd in Brutus.\", 1), ('    clamors.', 1), ('  SECOND CITIZEN. Peace! Silence! Brutus speaks. ', 1), (\"    Do grace to Caesar's corse, and grace his speech\", 1), (\"    Tending to Caesar's glories, which Mark Antony,\", 1), (\"    By our permission, is allow'd to make.\", 1), ('    I do entreat you, not a man depart,', 1), ('    Save I alone, till Antony have spoke.                  Exit.', 1), ('  FIRST CITIZEN. Stay, ho, and let us hear Mark Antony.', 1), ('  THIRD CITIZEN. Let him go up into the public chair;', 1), (\"    We'll hear him. Noble Antony, go up.\", 1), (\"  ANTONY. For Brutus' sake, I am beholding to you.\", 1), ('                                           Goes into the pulpit.', 1), ('  FOURTH CITIZEN. What does he say of Brutus?', 1), (\"  THIRD CITIZEN. He says, for Brutus' sake,\", 1), ('    He finds himself beholding to us all.', 1), ('  FIRST CITIZEN. This Caesar was a tyrant.', 1), ('    We are blest that Rome is rid of him. ', 1), ('  SECOND CITIZEN. Peace! Let us hear what Antony can say.', 1), ('  ANTONY. You gentle Romans-', 1), ('  ALL. Peace, ho! Let us hear him.', 1), ('  ANTONY. Friends, Romans, countrymen, lend me your ears!', 1), ('    I come to bury Caesar, not to praise him.', 1), ('    So let it be with Caesar. The noble Brutus', 1), ('    If it were so, it was a grievous fault,', 1), (\"    And grievously hath Caesar answer'd it.\", 1), ('    Here, under leave of Brutus and the rest-', 1), ('    For Brutus is an honorable man;', 1), ('    So are they all, all honorable men-', 1), (\"    Come I to speak in Caesar's funeral.\", 1), ('    He was my friend, faithful and just to me;', 1), ('    But Brutus says he was ambitious,', 1), ('    He hath brought many captives home to Rome,', 1), ('    I thrice presented him a kingly crown,', 1), ('    I speak not to disprove what Brutus spoke,', 1), ('    But here I am to speak what I do know.', 1), ('    You all did love him once, not without cause;', 1), ('    My heart is in the coffin there with Caesar,', 1), ('  SECOND CITIZEN. If thou consider rightly of the matter, ', 1), ('  THIRD CITIZEN. Has he, masters?', 1), (\"  FOURTH CITIZEN. Mark'd ye his words? He would not take the\", 1), ('crown;', 1), (\"    Therefore 'tis certain he was not ambitious.\", 1), ('  FIRST CITIZEN. If it be found so, some will dear abide it.', 1), (\"  THIRD CITIZEN. There's not a nobler man in Rome than Antony.\", 1), ('  FOURTH CITIZEN. Now mark him, he begins again to speak.', 1), ('    O masters! If I were disposed to stir', 1), ('    Your hearts and minds to mutiny and rage,', 1), ('    Than I will wrong such honorable men.', 1), (\"    I found it in his closet, 'tis his will.\", 1), ('    Let but the commons hear this testament-', 1), (\"    And they would go and kiss dead Caesar's wounds\", 1), ('    Yea, beg a hair of him for memory,', 1), ('    Bequeathing it as a rich legacy', 1), (\"  FOURTH CITIZEN. We'll hear the will. Read it, Mark Antony.\", 1), (\"  ALL. The will, the will! We will hear Caesar's will.\", 1), ('    You are not wood, you are not stones, but men;', 1), ('    And, being men, hearing the will of Caesar,', 1), (\"    'Tis good you know not that you are his heirs,\", 1), (\"    You shall read us the will, Caesar's will. \", 1), ('  ANTONY. Will you be patient? Will you stay awhile?', 1), ('  FOURTH CITIZEN. They were traitors. Honorable men!', 1), ('  ALL. The will! The testament!', 1), ('  SECOND CITIZEN. They were villains, murtherers. The will!', 1), ('  ANTONY. You will compel me then to read the will?', 1), ('    Then make a ring about the corse of Caesar,', 1), ('    And let me show you him that made the will.', 1), ('  SECOND CITIZEN. Descend.', 1), ('                                  He comes down from the pulpit.', 1), ('  FIRST CITIZEN. Stand from the hearse, stand from the body.', 1), ('    You all do know this mantle. I remember', 1), ('    That day he overcame the Nervii.', 1), (\"    Look, in this place ran Cassius' dagger through;\", 1), (\"    Through this the well-beloved Brutus stabb'd;\", 1), (\"    And as he pluck'd his cursed steel away,\", 1), ('    As rushing out of doors, to be resolved', 1), (\"    If Brutus so unkindly knock'd, or no;\", 1), (\"    For Brutus, as you know, was Caesar's angel.\", 1), (\"    Quite vanquish'd him. Then burst his mighty heart,\", 1), ('    O, what a fall was there, my countrymen!', 1), (\"    Our Caesar's vesture wounded? Look you here,\", 1), ('  FIRST CITIZEN. O piteous spectacle!', 1), ('  SECOND CITIZEN. O noble Caesar!', 1), ('  THIRD CITIZEN. O woeful day!', 1), ('  FIRST CITIZEN. O most bloody sight!', 1), ('    him.', 1), ('    They that have done this deed are honorable.', 1), ('    I am no orator, as Brutus is;', 1), ('    But, as you know me all, a plain blunt man,', 1), ('    That gave me public leave to speak of him.', 1), ('    For I have neither wit, nor words, nor worth,', 1), ('    Action, nor utterance, nor the power of speech,', 1), ('    I tell you that which you yourselves do know;', 1), (\"    Show you sweet Caesar's wounds, poor dumb mouths,\", 1), ('    Would ruffle up your spirits and put a tongue', 1), ('  THIRD CITIZEN. Away, then! Come, seek the conspirators.', 1), ('    Alas, you know not; I must tell you then.', 1), ('    You have forgot the will I told you of.', 1), (\"  ALL. Most true, the will! Let's stay and hear the will.\", 1), (\"  ANTONY. Here is the will, and under Caesar's seal.\", 1), ('    To every several man, seventy-five drachmas.', 1), (\"  SECOND CITIZEN. Most noble Caesar! We'll revenge his death.\", 1), ('  ANTONY. Moreover, he hath left you all his walks,', 1), ('    His private arbors, and new-planted orchards,', 1), ('    On this side Tiber; he hath left them you,', 1), ('    Here was a Caesar! When comes such another?', 1), (\"    We'll burn his body in the holy place\", 1), (\"    And with the brands fire the traitors' houses.\", 1), ('  SECOND CITIZEN. Go fetch fire.', 1), ('  THIRD CITIZEN. Pluck down benches.', 1), ('  FOURTH CITIZEN. Pluck down forms, windows, anything.', 1), ('                                  Exeunt Citizens with the body.', 1), ('  ANTONY. Now let it work. Mischief, thou art afoot,', 1), ('    How now, fellow? ', 1), ('  ANTONY. Where is he?', 2), (\"  SERVANT. He and Lepidus are at Caesar's house.\", 1), ('    He comes upon a wish. Fortune is merry,', 1), ('    Are rid like madmen through the gates of Rome.', 1), ('  ANTONY. Be like they had some notice of the people,', 1), ('    How I had moved them. Bring me to Octavius.          Exeunt.', 1), ('A street.', 1), ('  CINNA. I dreamt tonight that I did feast with Caesar,', 1), ('    And things unluckily charge my fantasy.', 1), ('  FIRST CITIZEN. What is your name?', 1), ('  FOURTH CITIZEN. Ay, and wisely.', 1), ('  THIRD CITIZEN. Ay, and truly, you were best.', 1), ('Am I', 1), ('    a married man or a bachelor? Then, to answer every man', 1), (\"  CINNA. Directly, I am going to Caesar's funeral.\", 1), ('  CINNA. As a friend.', 1), ('  CINNA. Briefly, I dwell by the Capitol.', 1), ('  THIRD CITIZEN. Your name, sir, truly.', 1), ('  FOURTH CITIZEN. Tear him for his bad verses, tear him for his', 1), ('bad', 1), ('  THIRD CITIZEN. Tear him, tear him! Come, brands, ho,', 1), ('firebrands. To', 1), (\"    Brutus', to Cassius'; burn all. Some to Decius' house, and\", 1), (\"    to Casca's, some to Ligarius'. Away, go!             Exeunt.\", 1), ('ACT IV. SCENE I.', 1), ('A house in Rome. Antony, Octavius, and Lepidus, seated at a', 1), (\"  ANTONY. These many then shall die, their names are prick'd.\", 1), ('  OCTAVIUS. Prick him down, Antony.', 1), (\"    Who is your sister's son, Mark Antony.\", 1), ('  ANTONY. He shall not live; look, with a spot I damn him.', 1), ('    Fetch the will hither, and we shall determine', 1), ('  LEPIDUS. What, shall I find you here?', 1), ('  OCTAVIUS. Or here, or at the Capitol.            Exit Lepidus.', 1), ('  ANTONY. This is a slight unmeritable man,', 1), ('    Meet to be sent on errands. Is it fit,', 1), ('    The three-fold world divided, he should stand', 1), ('    One of the three to share it?', 1), ('  OCTAVIUS. So you thought him,', 1), (\"    And took his voice who should be prick'd to die \", 1), ('    And though we lay these honors on this man', 1), ('    To ease ourselves of divers slanderous loads,', 1), ('    He shall but bear them as the ass bears gold,', 1), ('    To groan and sweat under the business,', 1), ('    Either led or driven, as we point the way;', 1), ('  OCTAVIUS. You may do your will,', 1), ('    It is a creature that I teach to fight,', 1), ('    To wind, to stop, to run directly on,', 1), ('    On objects, arts, and imitations,', 1), ('    Which, out of use and staled by other men,', 1), ('    Begin his fashion. Do not talk of him', 1), ('    But as a property. And now, Octavius,', 1), ('    Listen great things. Brutus and Cassius', 1), ('    Are levying powers; we must straight make head;', 1), ('    Therefore let our alliance be combined,', 1), ('    And let us presently go sit in council,', 1), (\"    And bay'd about with many enemies;\", 1), ('    Millions of mischiefs.                               Exeunt.', 1), (\"Camp near Sardis. Before Brutus' tent. Drum.\", 1), ('  LUCILIUS. Give the word, ho, and stand.', 1), ('  LUCILIUS. He is at hand, and Pindarus is come', 1), ('  BRUTUS. He greets me well. Your master, Pindarus,', 1), ('    In his own change, or by ill officers,', 1), ('    I shall be satisfied.', 1), ('    But that my noble master will appear', 1), ('    Such as he is, full of regard and honor.', 1), ('  BRUTUS. He is not doubted. A word, Lucilius,', 1), ('  LUCILIUS. With courtesy and with respect enough, ', 1), ('    As he hath used of old.', 1), ('  BRUTUS. Thou hast described', 1), ('    When love begins to sicken and decay', 1), ('    It useth an enforced ceremony.', 1), ('    There are no tricks in plain and simple faith;', 1), ('    Make gallant show and promise of their mettle;', 1), ('    But when they should endure the bloody spur,', 1), ('  BRUTUS. Stand, ho! Speak the word along.', 1), ('  FIRST SOLDIER. Stand!', 1), ('  SECOND SOLDIER. Stand!', 1), ('  THIRD SOLDIER. Stand!', 1), ('  BRUTUS. Judge me, you gods! Wrong I mine enemies?', 1), ('    And, if not so, how should I wrong a brother?', 1), ('    And when you do them-', 1), ('  BRUTUS. Cassius, be content,', 1), ('    Let us not wrangle. Bid them move away;', 1), ('    Then in my tent, Cassius, enlarge your griefs,', 1), ('    Bid our commanders lead their charges off ', 1), ('    A little from this ground.', 1), ('    Come to our tent till we have done our conference.', 1), ('    Let Lucius and Titinius guard our door.             Exeunt.', 1), (\"  CASSIUS. That you have wrong'd me doth appear in this:\", 1), (\"    You have condemn'd and noted Lucius Pella\", 1), (\"  BRUTUS. You wrong'd yourself to write in such a case.\", 1), ('  CASSIUS. In such a time as this it is not meet', 1), ('    That every nice offense should bear his comment.', 1), ('  BRUTUS. Let me tell you, Cassius, you yourself', 1), (\"    Are much condemn'd to have an itching palm,\", 1), ('    To undeservers.', 1), ('  CASSIUS. I an itching palm?', 1), ('  BRUTUS. The name of Cassius honors this corruption,', 1), ('  BRUTUS. Remember March, the ides of March remember.', 1), (\"    What villain touch'd his body, that did stab,\", 1), ('    That struck the foremost man of all this world', 1), ('    I had rather be a dog, and bay the moon,', 1), ('    Than such a Roman.', 1), ('  CASSIUS. Brutus, bait not me,', 1), (\"    I'll not endure it. You forget yourself\", 1), ('    Older in practice, abler than yourself', 1), ('  CASSIUS. I am.', 1), ('  CASSIUS. Urge me no more, I shall forget myself;', 1), ('    Have mind upon your health, tempt me no farther.', 1), (\"  CASSIUS. Is't possible?\", 1), ('    Must I give way and room to your rash choler?', 1), ('    Go show your slaves how choleric you are,', 1), ('    And make your bondmen tremble. Must I bouge?', 1), ('    Under your testy humor? By the gods,', 1), (\"    I'll use you for my mirth, yea, for my laughter,\", 1), ('  CASSIUS. Is it come to this?', 1), ('  BRUTUS. You say you are a better soldier:', 1), ('    And it shall please me well. For mine own part,', 1), ('    I shall be glad to learn of noble men.', 1), ('  CASSIUS. You wrong me every way, you wrong me, Brutus.', 1), ('  CASSIUS. When Caesar lived, he durst not thus have moved me.', 1), ('  BRUTUS. Peace, peace! You durst not so have tempted him.', 1), ('  CASSIUS. I durst not?', 1), ('  CASSIUS. What, durst not tempt him?', 1), ('    I may do that I shall be sorry for.', 1), ('  BRUTUS. You have done that you should be sorry for.', 1), ('    There is no terror, Cassius, in your threats,', 1), ('    Which I respect not. I did send to you', 1), ('    For certain sums of gold, which you denied me, ', 1), ('    By heaven, I had rather coin my heart', 1), ('    And drop my blood for drachmas than to wring', 1), ('    From the hard hands of peasants their vile trash', 1), ('    By any indirection. I did send', 1), ('    When Marcus Brutus grows so covetous', 1), ('    Dash him to pieces!', 1), ('  CASSIUS. I did not. He was but a fool', 1), ('    That brought my answer back. Brutus hath rived my heart.', 1), ('  BRUTUS. I do not, till you practise them on me.', 1), ('  CASSIUS. You love me not. ', 1), ('  CASSIUS. Come, Antony, and young Octavius, come,', 1), ('    Revenge yourselves alone on Cassius,', 1), ('    Hated by one he loves; braved by his brother;', 1), ('    My spirit from mine eyes! There is my dagger,', 1), ('    And here my naked breast; within, a heart', 1), (\"    Dearer than Pluto's mine, richer than gold.\", 1), ('    If that thou best a Roman, take it forth;', 1), ('    When thou didst hate him worst, thou lovedst him better', 1), ('    Who, much enforced, shows a hasty spark', 1), ('    To be but mirth and laughter to his Brutus,', 1), (\"    When grief and blood ill-temper'd vexeth him?\", 1), (\"  BRUTUS. When I spoke that, I was ill-temper'd too.\", 1), ('  CASSIUS. Do you confess so much? Give me your hand.', 1), ('  CASSIUS. O Brutus!', 1), ('    When that rash humor which my mother gave me', 1), ('    When you are overearnest with your Brutus,', 1), (\"    He'll think your mother chides, and leave you so. \", 1), (\"    There is some grudge between 'em, 'tis not meet\", 1), ('  LUCILIUS. [Within.] You shall not come to them.', 1), (\"  CASSIUS. How now, what's the matter?\", 1), ('  POET. For shame, you generals! What do you mean?', 1), ('  BRUTUS. Get you hence, sirrah; saucy fellow, hence!', 1), (\"  CASSIUS. Bear with him, Brutus; 'tis his fashion.\", 1), (\"  BRUTUS. I'll know his humor when he knows his time.\", 1), ('    What should the wars do with these jigging fools?', 1), ('  CASSIUS. Away, away, be gone!                       Exit Poet.', 1), ('  CASSIUS. And come yourselves and bring Messala with you', 1), ('    Immediately to us.             Exeunt Lucilius and Titinius.', 1), ('  BRUTUS. Lucius, a bowl of wine!                   Exit Lucius.', 1), ('  BRUTUS. O Cassius, I am sick of many griefs.', 1), ('  BRUTUS. No man bears sorrow better. Portia is dead.', 1), (\"  CASSIUS. How 'scaped killing when I cross'd you so?\", 1), ('    O insupportable and touching loss!', 1), ('               Re-enter Lucius, with wine and taper.', 1), ('  BRUTUS. Speak no more of her. Give me a bowl of wine.', 1), (\"  Fill, Lucius, till the wine o'erswell the cup;\", 1), ('  BRUTUS. Come in, Titinius!                        Exit Lucius.', 1), ('    Welcome, good Messala.', 1), ('    And call in question our necessities.', 1), ('  BRUTUS. No more, I pray you.', 1), ('    Messala, I have here received letters ', 1), ('    Come down upon us with a mighty power,', 1), ('  BRUTUS. With what addition?', 1), ('  MESSALA. That by proscription and bills of outlawry', 1), ('  BRUTUS. Nothing, Messala.', 1), ('  BRUTUS. Why ask you? Hear you aught of her in yours? ', 1), ('  BRUTUS. Now, as you are a Roman, tell me true.', 1), ('    For certain she is dead, and by strange manner.', 1), ('  BRUTUS. Why, farewell, Portia. We must die, Messala.', 1), ('    With meditating that she must die once', 1), ('  MESSALA. Even so great men great losses should endure.', 1), ('  CASSIUS. I have as much of this in art as you,', 1), ('    But yet my nature could not bear it so.', 1), ('  BRUTUS. Well, to our work alive. What do you think', 1), ('  BRUTUS. Your reason?', 1), ('  CASSIUS. This it is:', 1), (\"    'Tis better that the enemy seek us;\", 1), ('    Doing himself offense, whilst we lying still', 1), ('    Are full of rest, defense, and nimbleness.', 1), (\"    The people 'twixt Philippi and this ground\", 1), ('    Do stand but in a forced affection,', 1), ('    The enemy, marching along by them,', 1), (\"    Come on refresh'd, new-added, and encouraged;\", 1), ('    If at Philippi we do face him there,', 1), ('    These people at our back.', 1), ('  BRUTUS. Under your pardon. You must note beside', 1), ('    That we have tried the utmost of our friends,', 1), ('    Our legions are brim-full, our cause is ripe:', 1), ('    We, at the height, are ready to decline.', 1), ('    There is a tide in the affairs of men', 1), ('    Which taken at the flood leads on to fortune;', 1), ('    Or lose our ventures.', 1), ('  CASSIUS. Then, with your will, go on;', 1), ('    And nature must obey necessity,', 1), ('    Which we will niggard with a little rest.', 1), ('  CASSIUS. No more. Good night.', 1), ('    Early tomorrow will we rise and hence.', 1), ('                       Re-enter Lucius.', 1), ('    My gown.                                        Exit Lucius.', 1), ('    Farewell, good Messala;', 1), ('    Good night and good repose.', 1), ('    This was an ill beginning of the night. ', 1), ('  BRUTUS. Everything is well.', 1), ('  TITINIUS. MESSALA. Good night, Lord Brutus.', 1), ('  BRUTUS. Farewell, everyone.', 1), (\"  BRUTUS. What, thou speak'st drowsily?\", 1), ('    Call Claudio and some other of my men,', 1), (\"    I'll have them sleep on cushions in my tent.\", 1), ('  LUCIUS. Varro and Claudio!', 1), ('                   Enter Varro and Claudio. ', 1), ('  VARRO. Calls my lord?', 1), ('  BRUTUS. I pray you, sirs, lie in my tent and sleep;', 1), ('  BRUTUS. I would not have it so. Lie down, good sirs.', 1), ('                                     Varro and Claudio lie down.', 1), ('  BRUTUS. Bear with me, good boy, I am much forgetful.', 1), ('    Canst thou hold up thy heavy eyes awhile,', 1), ('  BRUTUS. It does, my boy.', 1), ('    I trouble thee too much, but thou art willing.', 1), ('  BRUTUS. I should not urge thy duty past thy might; ', 1), ('  LUCIUS. I have slept, my lord, already.', 1), ('    I will not hold thee long. If I do live,', 1), ('    I will be good to thee.                   Music, and a song.', 1), ('    This is a sleepy tune. O murtherous slumber,', 1), ('    That plays thee music? Gentle knave, good night.', 1), ('    I will not do thee so much wrong to wake thee.', 1), (\"    If thou dost nod, thou break'st thy instrument;\", 1), ('    How ill this taper burns! Ha, who comes here?', 1), ('    I think it is the weakness of mine eyes', 1), ('    That shapes this monstrous apparition.', 1), ('    Art thou some god, some angel, or some devil', 1), ('    That makest my blood cold and my hair to stare?', 1), ('    Speak to me what thou art.', 1), ('  BRUTUS. Why comest thou?', 1), ('  GHOST. Ay, at Philippi.', 1), ('  BRUTUS. Why, I will see thee at Philippi then.     Exit Ghost.', 1), ('    Boy! Lucius! Varro! Claudio! Sirs, awake!', 1), ('    Claudio!', 1), ('  BRUTUS. He thinks he still is at his instrument.', 1), ('    Lucius, awake!', 1), ('  LUCIUS. My lord?', 1), ('  BRUTUS. Didst thou dream, Lucius, that thou so criedst out?', 1), ('  LUCIUS. My lord, I do not know that I did cry.', 1), ('  LUCIUS. Nothing, my lord.', 1), ('  BRUTUS. Sleep again, Lucius. Sirrah Claudio!', 1), ('  VARRO. My lord?', 1), ('  BRUTUS. Why did you so cry out, sirs, in your sleep?', 1), ('  BRUTUS. Ay, saw you anything?', 1), ('    Bid him set on his powers betimes before,', 1), ('ACT V. SCENE I.', 1), ('  OCTAVIUS. Now, Antony, our hopes are answered.', 1), ('    You said the enemy would not come down,', 1), ('    Answering before we do demand of them.', 1), ('  ANTONY. Tut, I am in their bosoms, and I know', 1), ('    Wherefore they do it. They could be content', 1), ('    To visit other places, and come down', 1), ('    With fearful bravery, thinking by this face', 1), (\"    But 'tis not so.\", 1), ('                    Enter a Messenger.', 1), ('    Their bloody sign of battle is hung out,', 1), ('  ANTONY. Octavius, lead your battle softly on,', 1), ('    Upon the left hand of the even field.', 1), ('  OCTAVIUS. Upon the right hand I, keep thou the left.', 1), ('  OCTAVIUS. I do not cross you, but I will do so.', 1), ('      March. Drum. Enter Brutus, Cassius, and their Army;', 1), ('  BRUTUS. They stand, and would have parley.', 1), ('  BRUTUS. Words before blows. Is it so, countrymen?', 1), ('  BRUTUS. Good words are better than bad strokes, Octavius. ', 1), (\"    Witness the hole you made in Caesar's heart,\", 1), ('  CASSIUS. Antony,', 1), ('    The posture of your blows are yet unknown;', 1), ('    And leave them honeyless.', 1), ('  ANTONY. Not stingless too.', 1), (\"    For you have stol'n their buzzing, Antony,\", 1), ('    And very wisely threat before you sting.', 1), ('  ANTONY. Villains! You did not so when your vile daggers', 1), (\"    Hack'd one another in the sides of Caesar.\", 1), ('    Whilst damned Casca, like a cur, behind', 1), ('    Strooke Caesar on the neck. O you flatterers!', 1), ('  CASSIUS. Flatterers? Now, Brutus, thank yourself.', 1), ('    If Cassius might have ruled. ', 1), ('  OCTAVIUS. Come, come, the cause. If arguing make us sweat,', 1), ('    The proof of it will turn to redder drops.', 1), ('    Look,', 1), ('    When think you that the sword goes up again?', 1), ('    Be well avenged, or till another Caesar', 1), ('  OCTAVIUS. So I hope,', 1), (\"    I was not born to die on Brutus' sword.\", 1), ('    Young man, thou couldst not die more honorable.', 1), (\"    Join'd with a masker and a reveler!\", 1), ('  ANTONY. Old Cassius still!', 1), ('    If you dare fight today, come to the field; ', 1), ('                        Exeunt Octavius, Antony, and their Army.', 1), ('    The storm is up, and all is on the hazard.', 1), ('  BRUTUS. Ho, Lucilius! Hark, a word with you.', 1), ('                             Brutus and Lucilius converse apart.', 1), ('  MESSALA. [Stands forth.] What says my general?', 1), ('  CASSIUS. Messala,', 1), ('    This is my birthday, as this very day', 1), (\"    As Pompey was, am I compell'd to set\", 1), ('    Upon one battle all our liberties.', 1), ('    You know that I held Epicurus strong,', 1), ('    And partly credit things that do presage.', 1), ('    Coming from Sardis, on our former ensign', 1), (\"    Two mighty eagles fell, and there they perch'd, \", 1), (\"    Gorging and feeding from our soldiers' hands,\", 1), ('    Who to Philippi here consorted us.', 1), ('    This morning are they fled away and gone,', 1), (\"    Fly o'er our heads and downward look on us,\", 1), ('    A canopy most fatal, under which', 1), ('    Our army lies, ready to give up the ghost.', 1), ('  CASSIUS. I but believe it partly,', 1), ('    For I am fresh of spirit and resolved', 1), ('    To meet all perils very constantly.', 1), ('  CASSIUS. Now, most noble Brutus,', 1), ('    Lovers in peace, lead on our days to age!', 1), (\"    Let's reason with the worst that may befall.\", 1), ('    If we do lose this battle, then is this', 1), ('    The very last time we shall speak together. ', 1), ('    What are you then determined to do?', 1), ('    Which he did give himself- I know not how,', 1), ('    But I do find it cowardly and vile,', 1), ('  CASSIUS. Then, if we lose this battle,', 1), ('    You are contented to be led in triumph', 1), ('    Thorough the streets of Rome?', 1), ('    That ever Brutus will go bound to Rome;', 1), ('    He bears too great a mind. But this same day', 1), ('    And whether we shall meet again I know not.', 1), ('    Therefore our everlasting farewell take.', 1), ('    If we do meet again, why, we shall smile; ', 1), ('    If not, why then this parting was well made.', 1), ('  CASSIUS. Forever and forever farewell, Brutus!', 1), (\"    If not, 'tis true this parting was well made.\", 1), ('  BRUTUS. Why then, lead on. O, that a man might know', 1), (\"    The end of this day's business ere it come!\", 1), ('    But it sufficeth that the day will end,', 1), ('    And then the end is known. Come, ho! Away!           Exeunt.', 1), ('The field of battle.', 1), ('Alarum. Enter Brutus and Messala.', 1), (\"    But cold demeanor in Octavia's wing,\", 1), ('    And sudden push gives them the overthrow.', 1), ('    Ride, ride, Messala. Let them all come down.         Exeunt.', 1), ('Another part of the field.', 3), ('  CASSIUS. O, look, Titinius, look, the villains fly!', 1), (\"    Myself have to mine own turn'd enemy.\", 1), ('    I slew the coward, and did take it from him.', 1), ('    Who, having some advantage on Octavius,', 1), ('                       Enter Pindarus.', 1), ('    Whether yond troops are friend or enemy.', 1), ('  TITINIUS. I will be here again, even with a thought.     Exit.', 1), ('  CASSIUS. Go, Pindarus, get higher on that hill;', 1), ('    My sight was ever thick; regard Titinius,', 1), ('    And tell me what thou notest about the field.', 1), ('    This day I breathed first: time is come round,', 1), ('    And where I did begin, there shall I end;', 1), ('    Now, Titinius! Now some light. O, he lights too.', 1), (\"    He's ta'en [Shout.] And, hark! They shout for joy. \", 1), (\"    To see my best friend ta'en before my face!\", 1), ('                                              Pindarus descends.', 1), ('    And then I swore thee, saving of thy life,', 1), ('    That whatsoever I did bid thee do,', 1), ('    Now be a freeman, and with this good sword,', 1), (\"    That ran through Caesar's bowels, search this bosom.\", 1), ('    Stand not to answer: here, take thou the hilts;', 1), (\"    Even with the sword that kill'd thee.                  Dies.\", 1), ('  PINDARUS. So, I am free, yet would not so have been,', 1), ('    Durst I have done my will. O Cassius!', 1), ('    Far from this country Pindarus shall run,', 1), ('                Re-enter Titinius with Messala.', 1), (\"    Is overthrown by noble Brutus' power,\", 1), ('  TITINIUS. These tidings would well comfort Cassius.', 1), ('  MESSALA. Where did you leave him?', 1), ('    With Pindarus his bondman, on this hill.', 1), ('  TITINIUS. No, this was he, Messala,', 1), ('    But Cassius is no more. O setting sun,', 1), ('    As in thy red rays thou dost sink to night,', 1), ('    Clouds, dews, and dangers come; our deeds are done!', 1), ('  MESSALA. Mistrust of good success hath done this deed.', 1), (\"    O hateful error, melancholy's child,\", 1), ('    The things that are not? O error, soon conceived,', 1), ('    Thou never comest unto a happy birth,', 1), (\"    But kill'st the mother that engender'd thee!\", 1), ('    Into his ears. I may say \"thrusting\" it,', 1), ('    For piercing steel and darts envenomed', 1), ('    Shall be as welcome to the ears of Brutus', 1), ('  TITINIUS. Hie you, Messala,', 1), ('    Did I not meet thy friends? And did not they', 1), ('    Put on my brows this wreath of victory,', 1), ('    And bid me give it thee? Didst thou not hear their shouts?', 1), ('    Alas, thou hast misconstrued everything! ', 1), ('    Will do his bidding. Brutus, come apace,', 1), ('       Alarum. Re-enter Messala, with Brutus, young Cato,', 1), ('                         and others.', 1), ('  MESSALA. Lo, yonder, and Titinius mourning it.', 1), ('  CATO. He is slain.', 1), ('  BRUTUS. O Julius Caesar, thou art mighty yet!', 1), ('  CATO. Brave Titinius!', 1), ('    It is impossible that ever Rome', 1), ('    Should breed thy fellow. Friends, I owe moe tears', 1), ('    To this dead man than you shall see me pay.', 1), ('    His funerals shall not be in our camp,', 1), ('    Labio and Flavio, set our battles on.', 1), (\"    'Tis three o'clock, and Romans, yet ere night\", 1), ('    We shall try fortune in a second fight.              Exeunt.', 1), ('Lucilius, and others.', 1), ('    I will proclaim my name about the field.', 1), (\"    A foe to tyrants, and my country's friend.\", 1), ('  LUCILIUS. O young and noble Cato, art thou down?', 1), ('  FIRST SOLDIER. Yield, or thou diest.', 1), ('  FIRST SOLDIER. We must not. A noble prisoner! ', 1), (\"  FIRST SOLDIER. I'll tell the news. Here comes the general.\", 1), (\"    Brutus is ta'en, Brutus is ta'en, my lord.\", 1), ('  LUCILIUS. Safe, Antony, Brutus is safe enough.', 1), ('    When you do find him, or alive or dead,', 1), ('    A prize no less in worth. Keep this man safe,', 1), ('    Such men my friends than enemies. Go on,', 1), ('SCENE V.', 1), ('Enter Brutus, Dardanius, Clitus, Strato, and Volumnius.', 1), ('  BRUTUS. Come, poor remains of friends, rest on this rock.', 1), (\"  CLITUS. Statilius show'd the torchlight, but, my lord,\", 1), (\"    He came not back. He is or ta'en or slain.\", 1), ('  BRUTUS. Sit thee down, Clitus. Slaying is the word:', 1), ('  CLITUS. What, I, my lord? No, not for all the world.', 1), (\"  CLITUS. I'll rather kill myself.\", 1), ('  BRUTUS. Hark thee, Dardanius.                        Whispers.', 1), ('  DARDANIUS. Shall I do such a deed?', 1), ('  CLITUS. O Dardanius!', 1), ('  DARDANIUS. O Clitus!', 1), ('  CLITUS. What ill request did Brutus make to thee?', 1), ('  DARDANIUS. To kill him, Clitus. Look, he meditates.', 1), ('  BRUTUS. Why, this, Volumnius:', 1), (\"    The ghost of Caesar hath appear'd to me\", 1), ('  VOLUMNIUS. Not so, my lord.', 1), ('  BRUTUS. Nay I am sure it is, Volumnius.', 1), ('    Our enemies have beat us to the pit;            Low alarums.', 1), ('    It is more worthy to leap in ourselves', 1), ('    Than tarry till they push us. Good Volumnius,', 1), ('    Hold thou my sword-hilts, whilst I run on it.', 1), ('                                                   Alarum still.', 1), ('  BRUTUS. Farewell to you, and you, and you, Volumnius.', 1), ('    Farewell to thee too, Strato. Countrymen,', 1), ('    I shall have glory by this losing day,', 1), ('    More than Octavius and Mark Antony', 1), (\"    Hath almost ended his life's history.\", 1), (\"    That have but labor'd to attain this hour.\", 1), ('                        Exeunt Clitus, Dardanius, and Volumnius.', 1), ('    Hold then my sword, and turn away thy face,', 1), ('    While I do run upon it. Wilt thou, Strato?', 1), ('  STRATO. Give me your hand first. Fare you well, my lord. ', 1), (\"  MESSALA. My master's man. Strato, where is thy master?\", 1), ('    For Brutus only overcame himself,', 1), ('    And no man else hath honor by his death.', 1), ('  LUCILIUS. So Brutus should be found. I thank thee, Brutus,', 1), ('  OCTAVIUS. All that served Brutus, I will entertain them.', 1), ('    Fellow, wilt thou bestow thy time with me?', 1), ('  OCTAVIUS. Do so, good Messala.', 1), ('  STRATO. I held the sword, and he did run on it.', 1), ('  ANTONY. This was the noblest Roman of them all.', 1), ('    All the conspirators, save only he,', 1), ('    He only, in a general honest thought', 1), (\"    So mix'd in him that Nature might stand up\", 1), ('  OCTAVIUS. According to his virtue let us use him', 1), ('    Most like a soldier, ordered honorably.', 1), (\"    So call the field to rest, and let's away,\", 1), ('THE END', 1)]\n"
     ]
    }
   ],
   "source": [
    "# your turn\n",
    "wordCountsCollected = (juliusrdd\n",
    "                       .map(lambda w: (w, 1))\n",
    "                       .reduceByKey(lambda x,y: x+y)\n",
    "                       .collect())\n",
    "print(wordCountsCollected)"
   ]
  },
  {
   "cell_type": "code",
   "execution_count": null,
   "metadata": {},
   "outputs": [],
   "source": []
  },
  {
   "cell_type": "markdown",
   "metadata": {},
   "source": [
    "Now print the first 20 words of Julius Caesar as a Python list."
   ]
  },
  {
   "cell_type": "code",
   "execution_count": 73,
   "metadata": {},
   "outputs": [
    {
     "data": {
      "text/plain": [
       "['1599',\n",
       " 'THE',\n",
       " 'TRAGEDY',\n",
       " 'OF',\n",
       " 'JULIUS',\n",
       " 'CAESAR',\n",
       " '',\n",
       " 'by',\n",
       " 'William',\n",
       " 'Shakespeare',\n",
       " '',\n",
       " '',\n",
       " '',\n",
       " 'Dramatis',\n",
       " 'Personae',\n",
       " '',\n",
       " '',\n",
       " '',\n",
       " 'JULIUS',\n",
       " 'CAESAR,']"
      ]
     },
     "execution_count": 73,
     "metadata": {},
     "output_type": "execute_result"
    }
   ],
   "source": [
    "# your turn\n",
    "a.collect()[:20]\n"
   ]
  },
  {
   "cell_type": "markdown",
   "metadata": {},
   "source": [
    "Now print the first 20 words of Julius Caesar, **after removing all the stopwords**. *Hint: use `filter()`*."
   ]
  },
  {
   "cell_type": "code",
   "execution_count": 89,
   "metadata": {},
   "outputs": [
    {
     "data": {
      "text/plain": [
       "['1599',\n",
       " 'THE',\n",
       " 'TRAGEDY',\n",
       " 'OF',\n",
       " 'JULIUS',\n",
       " 'CAESAR',\n",
       " 'William',\n",
       " 'Shakespeare',\n",
       " 'Dramatis',\n",
       " 'Personae',\n",
       " 'JULIUS',\n",
       " 'CAESAR,',\n",
       " 'Roman',\n",
       " 'statesman',\n",
       " 'general',\n",
       " 'OCTAVIUS,',\n",
       " 'Triumvir',\n",
       " \"Caesar's\",\n",
       " 'death,',\n",
       " 'Augustus']"
      ]
     },
     "execution_count": 89,
     "metadata": {},
     "output_type": "execute_result"
    }
   ],
   "source": [
    "# your turn\n",
    "filt = a.filter(lambda w: w not in words)\n",
    "filt = filt.filter(lambda w: w not in [''])\n",
    "filt.take(20)"
   ]
  },
  {
   "cell_type": "markdown",
   "metadata": {},
   "source": [
    "Now, use the word counting MapReduce code you've seen before. Count the number of times each word occurs and print the top 20 results as a list of tuples of the form `(word, count)`. *Hint: use `takeOrdered()` instead of `take()`*"
   ]
  },
  {
   "cell_type": "code",
   "execution_count": 90,
   "metadata": {},
   "outputs": [
    {
     "name": "stdout",
     "output_type": "stream",
     "text": [
      "[('I', 497), ('And', 200), ('BRUTUS.', 194), ('CASSIUS.', 139), ('Caesar', 95), ('thou', 95), ('That', 85), ('The', 84), ('Brutus', 75), ('To', 75), ('CITIZEN.', 68), ('But', 61), ('If', 54), ('What', 52), ('Brutus,', 52), ('He', 52), ('ANTONY.', 51), ('You', 49), ('For', 49), ('O', 48)]\n"
     ]
    }
   ],
   "source": [
    "# your turn\n",
    "wordCountsCollected = (filt\n",
    "                       .map(lambda w: (w, 1))\n",
    "                       .reduceByKey(lambda x,y: x+y)\n",
    "                       .takeOrdered(20, key = lambda x: -x[1])\n",
    "                       )\n",
    "print(wordCountsCollected)\n"
   ]
  },
  {
   "cell_type": "markdown",
   "metadata": {},
   "source": [
    "Plot a bar graph. For each of the top 20 words on the X axis, represent the count on the Y axis."
   ]
  },
  {
   "cell_type": "code",
   "execution_count": 93,
   "metadata": {},
   "outputs": [
    {
     "data": {
      "text/plain": [
       "Text(0,0.5,'count')"
      ]
     },
     "execution_count": 93,
     "metadata": {},
     "output_type": "execute_result"
    },
    {
     "data": {
      "image/png": "[encoded data removed]",
      "text/plain": [
       "<Figure size 432x288 with 1 Axes>"
      ]
     },
     "metadata": {},
     "output_type": "display_data"
    }
   ],
   "source": [
    "# your turn\n",
    "\n",
    "# your turn\n",
    "per = range(20)\n",
    " \n",
    "plt.bar(per, [x[1] for x in wordCountsCollected], align='center')\n",
    "plt.xticks(per, [x[0] for x in wordCountsCollected], rotation='vertical')\n",
    "plt.ylabel('count')\n"
   ]
  },
  {
   "cell_type": "markdown",
   "metadata": {},
   "source": [
    "### Using partitions for parallelization"
   ]
  },
  {
   "cell_type": "markdown",
   "metadata": {},
   "source": [
    "In order to make your code more efficient, you want to use all of the available processing power, even on a single laptop. If your machine has multiple cores, you can tune the number of partitions to use all of them! From http://www.stat.berkeley.edu/scf/paciorek-spark-2014.html:\n",
    "\n",
    ">You want each partition to be able to fit in the memory availalbe on a node, and if you have multi-core nodes, you want that as many partitions as there are cores be able to fit in memory.\n",
    "\n",
    ">For load-balancing you'll want at least as many partitions as total computational cores in your cluster and probably rather more partitions. The Spark documentation suggests 2-4 partitions (which they also seem to call slices) per CPU. Often there are 100-10,000 partitions. Another rule of thumb is that tasks should take at least 100 ms. If less than that, you may want to repartition to have fewer partitions."
   ]
  },
  {
   "cell_type": "code",
   "execution_count": 94,
   "metadata": {},
   "outputs": [],
   "source": [
    "shakesrdd=sc.textFile(\"./sparklect/shakes/*.txt\", minPartitions=4)"
   ]
  },
  {
   "cell_type": "code",
   "execution_count": 95,
   "metadata": {},
   "outputs": [
    {
     "data": {
      "text/plain": [
       "['XXXX',\n",
       " \"A MIDSUMMER NIGHT'S DREAM\",\n",
       " '',\n",
       " 'by William Shakespeare',\n",
       " '',\n",
       " '',\n",
       " '',\n",
       " '',\n",
       " 'Persons Represented.',\n",
       " '']"
      ]
     },
     "execution_count": 95,
     "metadata": {},
     "output_type": "execute_result"
    }
   ],
   "source": [
    "shakesrdd.take(10)"
   ]
  },
  {
   "cell_type": "markdown",
   "metadata": {},
   "source": [
    "Now calculate the top 20 words in all of the files that you just read."
   ]
  },
  {
   "cell_type": "code",
   "execution_count": 98,
   "metadata": {},
   "outputs": [
    {
     "data": {
      "text/plain": [
       "[('Ham.', 358),\n",
       " ('OTHELLO.', 274),\n",
       " ('IAGO.', 272),\n",
       " ('DESDEMONA.', 165),\n",
       " ('MENENIUS.', 164),\n",
       " ('SIR TOBY.', 152),\n",
       " ('CORIOLANUS.', 149),\n",
       " ('VIOLA.', 122),\n",
       " ('OLIVIA.', 119),\n",
       " ('CLOWN.', 118),\n",
       " ('SICINIUS.', 117),\n",
       " ('CASSIO.', 111),\n",
       " ('Hor.', 108),\n",
       " ('EMILIA.', 103),\n",
       " ('King.', 102),\n",
       " ('BRUTUS.', 91),\n",
       " ('SIR ANDREW.', 87),\n",
       " ('MALVOLIO.', 87),\n",
       " ('Pol.', 86),\n",
       " ('DUKE.', 82)]"
      ]
     },
     "execution_count": 98,
     "metadata": {},
     "output_type": "execute_result"
    }
   ],
   "source": [
    "# your turn\n",
    "filt = shakesrdd.filter(lambda x: x not in words)\n",
    "filt = filt.filter(lambda x: x not in [''])\n",
    "wordcount = filt.map(lambda w: (w, 1)).reduceByKey(lambda x,y: x+y)\n",
    "wordcount.takeOrdered(20, key = lambda x: -x[1])\n"
   ]
  },
  {
   "cell_type": "markdown",
   "metadata": {},
   "source": [
    "## Optional topic 1: DataFrames\n",
    "\n",
    "Pandas and Spark dataframes can be easily converted to each other, making it easier to work with different data formats. This section shows some examples of each."
   ]
  },
  {
   "cell_type": "markdown",
   "metadata": {},
   "source": [
    "Convert Spark DataFrame to Pandas\n",
    "\n",
    "`pandas_df = spark_df.toPandas()`\n",
    "\n",
    "Create a Spark DataFrame from Pandas\n",
    "\n",
    "`spark_df = context.createDataFrame(pandas_df)`\n",
    "\n",
    "Must fit in memory.\n",
    "\n",
    "![](https://ogirardot.files.wordpress.com/2015/05/rdd-vs-dataframe.png?w=640&h=360)\n",
    "\n",
    "VERY IMPORTANT: DataFrames in Spark are like RDD in the sense that they’re an immutable data structure."
   ]
  },
  {
   "cell_type": "code",
   "execution_count": null,
   "metadata": {
    "collapsed": true
   },
   "outputs": [],
   "source": [
    "df=pd.read_csv(\"sparklect/01_heights_weights_genders.csv\")\n",
    "df.head()"
   ]
  },
  {
   "cell_type": "markdown",
   "metadata": {},
   "source": [
    "Convert this pandas dataframe to a Spark dataframe"
   ]
  },
  {
   "cell_type": "code",
   "execution_count": null,
   "metadata": {
    "collapsed": true
   },
   "outputs": [],
   "source": [
    "from pyspark.sql import SQLContext\n",
    "sqlsc=SQLContext(sc)\n",
    "sparkdf = sqlsc.createDataFrame(df)\n",
    "sparkdf"
   ]
  },
  {
   "cell_type": "code",
   "execution_count": null,
   "metadata": {
    "collapsed": true
   },
   "outputs": [],
   "source": [
    "sparkdf.show(5)"
   ]
  },
  {
   "cell_type": "code",
   "execution_count": null,
   "metadata": {
    "collapsed": true
   },
   "outputs": [],
   "source": [
    "type(sparkdf.Gender)"
   ]
  },
  {
   "cell_type": "code",
   "execution_count": null,
   "metadata": {
    "collapsed": true
   },
   "outputs": [],
   "source": [
    "# You can't call .map() on a DataFrame directly - you first have to convert it into an RDD\n",
    "temp = sparkdf.rdd.map(lambda r: r.Gender)\n",
    "print type(temp)\n",
    "temp.take(10)"
   ]
  },
  {
   "cell_type": "markdown",
   "metadata": {},
   "source": [
    "## Optional topic 2: Machine Learning using Spark\n",
    "\n"
   ]
  },
  {
   "cell_type": "code",
   "execution_count": null,
   "metadata": {
    "collapsed": true
   },
   "outputs": [],
   "source": [
    "from pyspark.mllib.classification import LogisticRegressionWithLBFGS\n",
    "from pyspark.mllib.regression import LabeledPoint"
   ]
  },
  {
   "cell_type": "markdown",
   "metadata": {},
   "source": [
    "Now create a data set from the Spark dataframe"
   ]
  },
  {
   "cell_type": "code",
   "execution_count": null,
   "metadata": {
    "collapsed": true
   },
   "outputs": [],
   "source": [
    "data=sparkdf.map(lambda row: LabeledPoint(row.Gender=='Male',[row.Height, row.Weight]))\n",
    "data.take(5)"
   ]
  },
  {
   "cell_type": "code",
   "execution_count": null,
   "metadata": {
    "collapsed": true
   },
   "outputs": [],
   "source": [
    "data2=sparkdf.map(lambda row: LabeledPoint(row[0]=='Male',row[1:]))\n",
    "data2.take(1)[0].label, data2.take(1)[0].features"
   ]
  },
  {
   "cell_type": "markdown",
   "metadata": {},
   "source": [
    "Split the data set into training and test sets"
   ]
  },
  {
   "cell_type": "code",
   "execution_count": null,
   "metadata": {
    "collapsed": true
   },
   "outputs": [],
   "source": [
    "train, test = data.randomSplit([0.7,0.3])\n",
    "train.cache()\n",
    "test.cache()"
   ]
  },
  {
   "cell_type": "code",
   "execution_count": null,
   "metadata": {
    "collapsed": true
   },
   "outputs": [],
   "source": [
    "type(train)"
   ]
  },
  {
   "cell_type": "markdown",
   "metadata": {},
   "source": [
    "Train the logistic regression model using MLIB"
   ]
  },
  {
   "cell_type": "code",
   "execution_count": null,
   "metadata": {
    "collapsed": true
   },
   "outputs": [],
   "source": [
    "model = LogisticRegressionWithLBFGS.train(train)"
   ]
  },
  {
   "cell_type": "code",
   "execution_count": null,
   "metadata": {
    "collapsed": true
   },
   "outputs": [],
   "source": [
    "model.weights"
   ]
  },
  {
   "cell_type": "markdown",
   "metadata": {},
   "source": [
    "Run it on the test data"
   ]
  },
  {
   "cell_type": "code",
   "execution_count": null,
   "metadata": {
    "collapsed": true
   },
   "outputs": [],
   "source": [
    "results = test.map(lambda lp: (lp.label, float(model.predict(lp.features))))\n",
    "print results.take(10)\n",
    "type(results)                       "
   ]
  },
  {
   "cell_type": "markdown",
   "metadata": {},
   "source": [
    "Measure accuracy and other metrics"
   ]
  },
  {
   "cell_type": "code",
   "execution_count": null,
   "metadata": {
    "collapsed": true
   },
   "outputs": [],
   "source": [
    "test_accuracy=results.filter(lambda (a,p): a==p).count()/float(results.count())\n",
    "test_accuracy"
   ]
  },
  {
   "cell_type": "code",
   "execution_count": null,
   "metadata": {
    "collapsed": true
   },
   "outputs": [],
   "source": [
    "from pyspark.mllib.evaluation import BinaryClassificationMetrics\n",
    "metrics = BinaryClassificationMetrics(results)"
   ]
  },
  {
   "cell_type": "code",
   "execution_count": null,
   "metadata": {
    "collapsed": true
   },
   "outputs": [],
   "source": [
    "print type(metrics)\n",
    "metrics.areaUnderROC"
   ]
  },
  {
   "cell_type": "code",
   "execution_count": null,
   "metadata": {
    "collapsed": true
   },
   "outputs": [],
   "source": [
    "type(model)"
   ]
  },
  {
   "cell_type": "code",
   "execution_count": null,
   "metadata": {
    "collapsed": true
   },
   "outputs": [],
   "source": [
    "!rm -rf mylogistic.model"
   ]
  },
  {
   "cell_type": "code",
   "execution_count": null,
   "metadata": {
    "collapsed": true
   },
   "outputs": [],
   "source": [
    "model.save(sc, \"mylogistic.model\")"
   ]
  },
  {
   "cell_type": "markdown",
   "metadata": {},
   "source": [
    "The pipeline API automates a lot of this stuff, allowing us to work directly on dataframes."
   ]
  },
  {
   "cell_type": "markdown",
   "metadata": {},
   "source": [
    "Also see:\n",
    "\n",
    "- http://jordicasanellas.weebly.com/data-science-blog/machine-learning-with-spark\n",
    "- http://spark.apache.org/docs/latest/mllib-guide.html\n",
    "- http://www.techpoweredmath.com/spark-dataframes-mllib-tutorial/\n",
    "- http://spark.apache.org/docs/latest/api/python/\n",
    "- http://spark.apache.org/docs/latest/programming-guide.html"
   ]
  },
  {
   "cell_type": "markdown",
   "metadata": {},
   "source": [
    "`rdd.saveAsTextFile()` saves an RDD as a string."
   ]
  },
  {
   "cell_type": "markdown",
   "metadata": {
    "collapsed": true
   },
   "source": [
    "## Optional Topic 3: Your Turn at Machine Learning! :)\n",
    "\n",
    "For this exercise, we're going to use one of the datasets we've already worked with: the Boston House Prices dataset. We're going to try a couple of regression algorithms, but from the SparkML library this time.\n",
    "\n",
    "Before you proceed, make sure to do an overview of the documentation: \n",
    "http://spark.apache.org/docs/latest/api/python/pyspark.ml.html"
   ]
  },
  {
   "cell_type": "code",
   "execution_count": null,
   "metadata": {
    "collapsed": true
   },
   "outputs": [],
   "source": [
    "# All imports go here\n",
    "\n",
    "\n"
   ]
  },
  {
   "cell_type": "markdown",
   "metadata": {},
   "source": [
    "First, we have to load the dataset, which resides as a CSV file in the folder for this exercise."
   ]
  },
  {
   "cell_type": "code",
   "execution_count": null,
   "metadata": {
    "collapsed": true
   },
   "outputs": [],
   "source": [
    "# Path: /sparklect/boston.csv\n"
   ]
  },
  {
   "cell_type": "markdown",
   "metadata": {},
   "source": [
    "Inspect the data to make sure everything is loaded properly."
   ]
  },
  {
   "cell_type": "code",
   "execution_count": null,
   "metadata": {
    "collapsed": true
   },
   "outputs": [],
   "source": []
  },
  {
   "cell_type": "markdown",
   "metadata": {},
   "source": [
    "Now we'll need to create a train/test split."
   ]
  },
  {
   "cell_type": "code",
   "execution_count": null,
   "metadata": {
    "collapsed": true
   },
   "outputs": [],
   "source": [
    "# We'll first have to vectorize the features\n"
   ]
  },
  {
   "cell_type": "markdown",
   "metadata": {},
   "source": [
    "As the next step, fit a Linear Regression model on the training set."
   ]
  },
  {
   "cell_type": "code",
   "execution_count": null,
   "metadata": {
    "collapsed": true
   },
   "outputs": [],
   "source": []
  },
  {
   "cell_type": "markdown",
   "metadata": {},
   "source": [
    "Now validate the model on the test set, and check the Root Mean Squared Error."
   ]
  },
  {
   "cell_type": "code",
   "execution_count": null,
   "metadata": {
    "collapsed": true
   },
   "outputs": [],
   "source": []
  },
  {
   "cell_type": "markdown",
   "metadata": {},
   "source": [
    "Let's compare Linear Regression with a more powerful algorithm - the Random Forest. As the Random Forest has several hyperparameters that can be tuned for maximum accuracy, we're going to need to use k-fold Cross Validation."
   ]
  },
  {
   "cell_type": "markdown",
   "metadata": {},
   "source": [
    "First, set up a grid for the hyperparameter search."
   ]
  },
  {
   "cell_type": "code",
   "execution_count": null,
   "metadata": {
    "collapsed": true
   },
   "outputs": [],
   "source": []
  },
  {
   "cell_type": "markdown",
   "metadata": {},
   "source": [
    "Now, with a Random Forest regressor using k-fold Cross Validation, and find the optimal combination of hyperparameters."
   ]
  },
  {
   "cell_type": "code",
   "execution_count": null,
   "metadata": {
    "collapsed": true
   },
   "outputs": [],
   "source": []
  },
  {
   "cell_type": "markdown",
   "metadata": {},
   "source": [
    "Finally, validate the model on the test set and check the Root Mean Squared Error again."
   ]
  },
  {
   "cell_type": "code",
   "execution_count": null,
   "metadata": {
    "collapsed": true
   },
   "outputs": [],
   "source": []
  },
  {
   "cell_type": "markdown",
   "metadata": {},
   "source": [
    "\n",
    "\n",
    "## Optional Topic 4: Model Your Capstone Dataset\n"
   ]
  },
  {
   "cell_type": "markdown",
   "metadata": {},
   "source": [
    "If you have time, load up the cleaned dataset from one of your capstone projects. Do you remember which algorithm and the accompanying combination of hyperparameters did the best job? For practice, try and implement the same model in SparkML."
   ]
  },
  {
   "cell_type": "code",
   "execution_count": null,
   "metadata": {
    "collapsed": true
   },
   "outputs": [],
   "source": []
  },
  {
   "cell_type": "code",
   "execution_count": null,
   "metadata": {
    "collapsed": true
   },
   "outputs": [],
   "source": [
    "# Stop Spark\n",
    "sc.stop()"
   ]
  }
 ],
 "metadata": {
  "kernelspec": {
   "display_name": "Python 3",
   "language": "python",
   "name": "python3"
  },
  "language_info": {
   "codemirror_mode": {
    "name": "ipython",
    "version": 3
   },
   "file_extension": ".py",
   "mimetype": "text/x-python",
   "name": "python",
   "nbconvert_exporter": "python",
   "pygments_lexer": "ipython3",
   "version": "3.6.4"
  }
 },
 "nbformat": 4,
 "nbformat_minor": 1
}
